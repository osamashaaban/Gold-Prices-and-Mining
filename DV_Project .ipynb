{
 "cells": [
  {
   "cell_type": "code",
   "execution_count": 1101,
   "metadata": {
    "id": "cLQh9SwxPWwd"
   },
   "outputs": [
    {
     "name": "stdout",
     "output_type": "stream",
     "text": [
      "Couldn't find program: 'sh'\n"
     ]
    }
   ],
   "source": [
    "%%sh\n",
    "pip install -q dash\n",
    "pip install -q dash_core_components\n",
    "pip install -q dash_html_components\n",
    "pip install -q dash_table"
   ]
  },
  {
   "cell_type": "code",
   "execution_count": 1102,
   "metadata": {
    "colab": {
     "base_uri": "https://localhost:8080/"
    },
    "id": "KH4vGlKoPseO",
    "outputId": "d107ca75-1337-4ce9-be3b-dca0305e6c79"
   },
   "outputs": [
    {
     "name": "stdout",
     "output_type": "stream",
     "text": [
      "Requirement already satisfied: jupyter_dash in c:\\users\\hp\\anaconda3\\lib\\site-packages (0.4.1)\n",
      "Requirement already satisfied: ipykernel in c:\\users\\hp\\anaconda3\\lib\\site-packages (from jupyter_dash) (5.3.2)\n",
      "Requirement already satisfied: retrying in c:\\users\\hp\\anaconda3\\lib\\site-packages (from jupyter_dash) (1.3.3)\n",
      "Requirement already satisfied: ansi2html in c:\\users\\hp\\anaconda3\\lib\\site-packages (from jupyter_dash) (1.7.0)\n",
      "Requirement already satisfied: requests in c:\\users\\hp\\anaconda3\\lib\\site-packages (from jupyter_dash) (2.24.0)\n",
      "Requirement already satisfied: ipython in c:\\users\\hp\\anaconda3\\lib\\site-packages (from jupyter_dash) (7.16.1)\n",
      "Requirement already satisfied: dash in c:\\users\\hp\\anaconda3\\lib\\site-packages (from jupyter_dash) (2.3.0)\n",
      "Requirement already satisfied: flask in c:\\users\\hp\\anaconda3\\lib\\site-packages (from jupyter_dash) (1.1.2)\n",
      "Requirement already satisfied: traitlets>=4.1.0 in c:\\users\\hp\\anaconda3\\lib\\site-packages (from ipykernel->jupyter_dash) (4.3.3)\n",
      "Requirement already satisfied: tornado>=4.2 in c:\\users\\hp\\anaconda3\\lib\\site-packages (from ipykernel->jupyter_dash) (6.0.4)\n",
      "Requirement already satisfied: jupyter-client in c:\\users\\hp\\anaconda3\\lib\\site-packages (from ipykernel->jupyter_dash) (6.1.6)\n",
      "Requirement already satisfied: six>=1.7.0 in c:\\users\\hp\\anaconda3\\lib\\site-packages (from retrying->jupyter_dash) (1.15.0)\n",
      "Requirement already satisfied: certifi>=2017.4.17 in c:\\users\\hp\\anaconda3\\lib\\site-packages (from requests->jupyter_dash) (2020.6.20)\n",
      "Requirement already satisfied: idna<3,>=2.5 in c:\\users\\hp\\anaconda3\\lib\\site-packages (from requests->jupyter_dash) (2.10)\n",
      "Requirement already satisfied: chardet<4,>=3.0.2 in c:\\users\\hp\\anaconda3\\lib\\site-packages (from requests->jupyter_dash) (3.0.4)\n",
      "Requirement already satisfied: urllib3!=1.25.0,!=1.25.1,<1.26,>=1.21.1 in c:\\users\\hp\\anaconda3\\lib\\site-packages (from requests->jupyter_dash) (1.25.9)\n",
      "Requirement already satisfied: backcall in c:\\users\\hp\\anaconda3\\lib\\site-packages (from ipython->jupyter_dash) (0.2.0)\n",
      "Requirement already satisfied: colorama; sys_platform == \"win32\" in c:\\users\\hp\\anaconda3\\lib\\site-packages (from ipython->jupyter_dash) (0.4.3)\n",
      "Requirement already satisfied: prompt-toolkit!=3.0.0,!=3.0.1,<3.1.0,>=2.0.0 in c:\\users\\hp\\anaconda3\\lib\\site-packages (from ipython->jupyter_dash) (3.0.5)\n",
      "Requirement already satisfied: pygments in c:\\users\\hp\\anaconda3\\lib\\site-packages (from ipython->jupyter_dash) (2.6.1)\n",
      "Requirement already satisfied: decorator in c:\\users\\hp\\anaconda3\\lib\\site-packages (from ipython->jupyter_dash) (4.4.2)\n",
      "Requirement already satisfied: pickleshare in c:\\users\\hp\\anaconda3\\lib\\site-packages (from ipython->jupyter_dash) (0.7.5)\n",
      "Requirement already satisfied: setuptools>=18.5 in c:\\users\\hp\\anaconda3\\lib\\site-packages (from ipython->jupyter_dash) (49.2.0.post20200714)\n",
      "Requirement already satisfied: jedi>=0.10 in c:\\users\\hp\\anaconda3\\lib\\site-packages (from ipython->jupyter_dash) (0.17.1)\n",
      "Requirement already satisfied: dash-table==5.0.0 in c:\\users\\hp\\anaconda3\\lib\\site-packages (from dash->jupyter_dash) (5.0.0)\n",
      "Requirement already satisfied: dash-html-components==2.0.0 in c:\\users\\hp\\anaconda3\\lib\\site-packages (from dash->jupyter_dash) (2.0.0)\n",
      "Requirement already satisfied: flask-compress in c:\\users\\hp\\anaconda3\\lib\\site-packages (from dash->jupyter_dash) (1.11)\n",
      "Requirement already satisfied: dash-core-components==2.0.0 in c:\\users\\hp\\anaconda3\\lib\\site-packages (from dash->jupyter_dash) (2.0.0)\n",
      "Requirement already satisfied: plotly>=5.0.0 in c:\\users\\hp\\anaconda3\\lib\\site-packages (from dash->jupyter_dash) (5.6.0)\n",
      "Requirement already satisfied: itsdangerous>=0.24 in c:\\users\\hp\\anaconda3\\lib\\site-packages (from flask->jupyter_dash) (1.1.0)\n",
      "Requirement already satisfied: Werkzeug>=0.15 in c:\\users\\hp\\anaconda3\\lib\\site-packages (from flask->jupyter_dash) (1.0.1)\n",
      "Requirement already satisfied: click>=5.1 in c:\\users\\hp\\anaconda3\\lib\\site-packages (from flask->jupyter_dash) (7.1.2)\n",
      "Requirement already satisfied: Jinja2>=2.10.1 in c:\\users\\hp\\anaconda3\\lib\\site-packages (from flask->jupyter_dash) (2.11.2)\n",
      "Requirement already satisfied: ipython-genutils in c:\\users\\hp\\anaconda3\\lib\\site-packages (from traitlets>=4.1.0->ipykernel->jupyter_dash) (0.2.0)\n",
      "Requirement already satisfied: pyzmq>=13 in c:\\users\\hp\\anaconda3\\lib\\site-packages (from jupyter-client->ipykernel->jupyter_dash) (19.0.1)\n",
      "Requirement already satisfied: python-dateutil>=2.1 in c:\\users\\hp\\anaconda3\\lib\\site-packages (from jupyter-client->ipykernel->jupyter_dash) (2.8.1)\n",
      "Requirement already satisfied: jupyter-core>=4.6.0 in c:\\users\\hp\\anaconda3\\lib\\site-packages (from jupyter-client->ipykernel->jupyter_dash) (4.6.3)\n",
      "Requirement already satisfied: wcwidth in c:\\users\\hp\\anaconda3\\lib\\site-packages (from prompt-toolkit!=3.0.0,!=3.0.1,<3.1.0,>=2.0.0->ipython->jupyter_dash) (0.2.5)\n",
      "Requirement already satisfied: parso<0.8.0,>=0.7.0 in c:\\users\\hp\\anaconda3\\lib\\site-packages (from jedi>=0.10->ipython->jupyter_dash) (0.7.0)\n",
      "Requirement already satisfied: brotli in c:\\users\\hp\\anaconda3\\lib\\site-packages (from flask-compress->dash->jupyter_dash) (1.0.9)\n",
      "Requirement already satisfied: tenacity>=6.2.0 in c:\\users\\hp\\anaconda3\\lib\\site-packages (from plotly>=5.0.0->dash->jupyter_dash) (8.0.1)\n",
      "Requirement already satisfied: MarkupSafe>=0.23 in c:\\users\\hp\\anaconda3\\lib\\site-packages (from Jinja2>=2.10.1->flask->jupyter_dash) (1.1.1)\n",
      "Requirement already satisfied: pywin32>=1.0; sys_platform == \"win32\" in c:\\users\\hp\\anaconda3\\lib\\site-packages (from jupyter-core>=4.6.0->jupyter-client->ipykernel->jupyter_dash) (227)\n"
     ]
    }
   ],
   "source": [
    "!pip install jupyter_dash\n"
   ]
  },
  {
   "cell_type": "code",
   "execution_count": 1103,
   "metadata": {
    "id": "6N-C6byHOWpQ"
   },
   "outputs": [],
   "source": [
    "import pandas as pd\n",
    "import numpy as np\n"
   ]
  },
  {
   "cell_type": "code",
   "execution_count": 1104,
   "metadata": {
    "id": "Q82g7O4SOxCQ"
   },
   "outputs": [],
   "source": [
    "from dash import Dash,dcc,html\n",
    "import jupyter_dash\n",
    "import plotly.express as px\n",
    "import pandas as pd\n",
    "from dash.html import Hr\n",
    "from dash.dependencies import Input,Output\n",
    "from dash.development.base_component import Component\n",
    "import plotly.graph_objects as go\n"
   ]
  },
  {
   "cell_type": "code",
   "execution_count": 1105,
   "metadata": {
    "id": "01ZkSWf1OxIr"
   },
   "outputs": [],
   "source": [
    "app= jupyter_dash.JupyterDash(__name__)\n",
    "# jupyter_dash.JupyterDash(external_stylesheets=['/content/style.css']"
   ]
  },
  {
   "cell_type": "code",
   "execution_count": 1106,
   "metadata": {
    "id": "PdpzQjEGOxNv"
   },
   "outputs": [],
   "source": [
    "dff=pd.read_csv(\"1990-2021.csv\")"
   ]
  },
  {
   "cell_type": "code",
   "execution_count": 1107,
   "metadata": {
    "colab": {
     "base_uri": "https://localhost:8080/",
     "height": 263
    },
    "id": "lZhNfn0YQInU",
    "outputId": "eb62213d-7b94-4b6a-9885-e5ec56ec2038"
   },
   "outputs": [
    {
     "data": {
      "text/html": [
       "<div>\n",
       "<style scoped>\n",
       "    .dataframe tbody tr th:only-of-type {\n",
       "        vertical-align: middle;\n",
       "    }\n",
       "\n",
       "    .dataframe tbody tr th {\n",
       "        vertical-align: top;\n",
       "    }\n",
       "\n",
       "    .dataframe thead th {\n",
       "        text-align: right;\n",
       "    }\n",
       "</style>\n",
       "<table border=\"1\" class=\"dataframe\">\n",
       "  <thead>\n",
       "    <tr style=\"text-align: right;\">\n",
       "      <th></th>\n",
       "      <th>Date</th>\n",
       "      <th>United States(USD)</th>\n",
       "      <th>Europe(EUR)</th>\n",
       "      <th>Japan(JPY)</th>\n",
       "      <th>United Kingdom(GBP)</th>\n",
       "      <th>Canada(CAD)</th>\n",
       "      <th>Switzerland(CHF)</th>\n",
       "      <th>India(INR)</th>\n",
       "      <th>China(CNY)</th>\n",
       "      <th>Turkey(TRY)</th>\n",
       "      <th>Saudi Arabia(SAR)</th>\n",
       "      <th>Indonesia(IDR)</th>\n",
       "      <th>United Arab Emirates(AED)</th>\n",
       "      <th>Thailand(THB)</th>\n",
       "      <th>Vietnam(VND)</th>\n",
       "      <th>Egypt(EGP)</th>\n",
       "      <th>South Korean(KRW)</th>\n",
       "      <th>Australia(AUD)</th>\n",
       "      <th>South Africa(ZAR)</th>\n",
       "    </tr>\n",
       "  </thead>\n",
       "  <tbody>\n",
       "    <tr>\n",
       "      <th>0</th>\n",
       "      <td>31-01-1990</td>\n",
       "      <td>415.1</td>\n",
       "      <td>321.3</td>\n",
       "      <td>59972.3</td>\n",
       "      <td>247.1</td>\n",
       "      <td>492.0</td>\n",
       "      <td>623.8</td>\n",
       "      <td>7041.0</td>\n",
       "      <td>1930.2</td>\n",
       "      <td>1.0</td>\n",
       "      <td>1557.4</td>\n",
       "      <td>745400.5</td>\n",
       "      <td>1524.9</td>\n",
       "      <td>10623.3</td>\n",
       "      <td>1867170.0</td>\n",
       "      <td>1059.9</td>\n",
       "      <td>283240.8</td>\n",
       "      <td>540.0</td>\n",
       "      <td>1063.2</td>\n",
       "    </tr>\n",
       "    <tr>\n",
       "      <th>1</th>\n",
       "      <td>28-02-1990</td>\n",
       "      <td>407.7</td>\n",
       "      <td>316.2</td>\n",
       "      <td>60672.5</td>\n",
       "      <td>241.2</td>\n",
       "      <td>485.7</td>\n",
       "      <td>607.9</td>\n",
       "      <td>6957.4</td>\n",
       "      <td>1936.8</td>\n",
       "      <td>1.0</td>\n",
       "      <td>1527.7</td>\n",
       "      <td>747408.3</td>\n",
       "      <td>1496.0</td>\n",
       "      <td>10494.1</td>\n",
       "      <td>1853648.1</td>\n",
       "      <td>1085.6</td>\n",
       "      <td>282356.4</td>\n",
       "      <td>534.1</td>\n",
       "      <td>1040.4</td>\n",
       "    </tr>\n",
       "  </tbody>\n",
       "</table>\n",
       "</div>"
      ],
      "text/plain": [
       "         Date  United States(USD)  Europe(EUR)  Japan(JPY)  \\\n",
       "0  31-01-1990               415.1        321.3     59972.3   \n",
       "1  28-02-1990               407.7        316.2     60672.5   \n",
       "\n",
       "   United Kingdom(GBP)  Canada(CAD)  Switzerland(CHF)  India(INR)  China(CNY)  \\\n",
       "0                247.1        492.0             623.8      7041.0      1930.2   \n",
       "1                241.2        485.7             607.9      6957.4      1936.8   \n",
       "\n",
       "   Turkey(TRY)  Saudi Arabia(SAR)  Indonesia(IDR)  United Arab Emirates(AED)  \\\n",
       "0          1.0             1557.4        745400.5                     1524.9   \n",
       "1          1.0             1527.7        747408.3                     1496.0   \n",
       "\n",
       "   Thailand(THB)  Vietnam(VND)  Egypt(EGP)  South Korean(KRW)  Australia(AUD)  \\\n",
       "0        10623.3     1867170.0      1059.9           283240.8           540.0   \n",
       "1        10494.1     1853648.1      1085.6           282356.4           534.1   \n",
       "\n",
       "   South Africa(ZAR)  \n",
       "0             1063.2  \n",
       "1             1040.4  "
      ]
     },
     "execution_count": 1107,
     "metadata": {},
     "output_type": "execute_result"
    }
   ],
   "source": [
    "dff.head(2)"
   ]
  },
  {
   "cell_type": "code",
   "execution_count": 1108,
   "metadata": {
    "colab": {
     "base_uri": "https://localhost:8080/"
    },
    "id": "XD40I9OMQKdb",
    "outputId": "aceede78-920b-4811-b7b5-cc9221c3d5de"
   },
   "outputs": [
    {
     "name": "stdout",
     "output_type": "stream",
     "text": [
      "<class 'pandas.core.frame.DataFrame'>\n",
      "RangeIndex: 387 entries, 0 to 386\n",
      "Data columns (total 19 columns):\n",
      " #   Column                     Non-Null Count  Dtype         \n",
      "---  ------                     --------------  -----         \n",
      " 0   Date                       387 non-null    datetime64[ns]\n",
      " 1   United States(USD)         387 non-null    float64       \n",
      " 2   Europe(EUR)                387 non-null    float64       \n",
      " 3   Japan(JPY)                 387 non-null    float64       \n",
      " 4   United Kingdom(GBP)        387 non-null    float64       \n",
      " 5   Canada(CAD)                379 non-null    float64       \n",
      " 6   Switzerland(CHF)           379 non-null    float64       \n",
      " 7   India(INR)                 379 non-null    float64       \n",
      " 8   China(CNY)                 379 non-null    float64       \n",
      " 9   Turkey(TRY)                379 non-null    float64       \n",
      " 10  Saudi Arabia(SAR)          379 non-null    float64       \n",
      " 11  Indonesia(IDR)             379 non-null    float64       \n",
      " 12  United Arab Emirates(AED)  379 non-null    float64       \n",
      " 13  Thailand(THB)              379 non-null    float64       \n",
      " 14  Vietnam(VND)               379 non-null    float64       \n",
      " 15  Egypt(EGP)                 379 non-null    float64       \n",
      " 16  South Korean(KRW)          379 non-null    float64       \n",
      " 17  Australia(AUD)             379 non-null    float64       \n",
      " 18  South Africa(ZAR)          379 non-null    float64       \n",
      "dtypes: datetime64[ns](1), float64(18)\n",
      "memory usage: 57.6 KB\n"
     ]
    },
    {
     "name": "stderr",
     "output_type": "stream",
     "text": [
      "<ipython-input-1108-76e8df3c7752>:2: UserWarning:\n",
      "\n",
      "Parsing '31-01-1990' in DD/MM/YYYY format. Provide format or specify infer_datetime_format=True for consistent parsing.\n",
      "\n",
      "<ipython-input-1108-76e8df3c7752>:2: UserWarning:\n",
      "\n",
      "Parsing '28-02-1990' in DD/MM/YYYY format. Provide format or specify infer_datetime_format=True for consistent parsing.\n",
      "\n",
      "<ipython-input-1108-76e8df3c7752>:2: UserWarning:\n",
      "\n",
      "Parsing '30-03-1990' in DD/MM/YYYY format. Provide format or specify infer_datetime_format=True for consistent parsing.\n",
      "\n",
      "<ipython-input-1108-76e8df3c7752>:2: UserWarning:\n",
      "\n",
      "Parsing '30-04-1990' in DD/MM/YYYY format. Provide format or specify infer_datetime_format=True for consistent parsing.\n",
      "\n",
      "<ipython-input-1108-76e8df3c7752>:2: UserWarning:\n",
      "\n",
      "Parsing '31-05-1990' in DD/MM/YYYY format. Provide format or specify infer_datetime_format=True for consistent parsing.\n",
      "\n",
      "<ipython-input-1108-76e8df3c7752>:2: UserWarning:\n",
      "\n",
      "Parsing '29-06-1990' in DD/MM/YYYY format. Provide format or specify infer_datetime_format=True for consistent parsing.\n",
      "\n",
      "<ipython-input-1108-76e8df3c7752>:2: UserWarning:\n",
      "\n",
      "Parsing '31-07-1990' in DD/MM/YYYY format. Provide format or specify infer_datetime_format=True for consistent parsing.\n",
      "\n",
      "<ipython-input-1108-76e8df3c7752>:2: UserWarning:\n",
      "\n",
      "Parsing '31-08-1990' in DD/MM/YYYY format. Provide format or specify infer_datetime_format=True for consistent parsing.\n",
      "\n",
      "<ipython-input-1108-76e8df3c7752>:2: UserWarning:\n",
      "\n",
      "Parsing '28-09-1990' in DD/MM/YYYY format. Provide format or specify infer_datetime_format=True for consistent parsing.\n",
      "\n",
      "<ipython-input-1108-76e8df3c7752>:2: UserWarning:\n",
      "\n",
      "Parsing '31-10-1990' in DD/MM/YYYY format. Provide format or specify infer_datetime_format=True for consistent parsing.\n",
      "\n",
      "<ipython-input-1108-76e8df3c7752>:2: UserWarning:\n",
      "\n",
      "Parsing '30-11-1990' in DD/MM/YYYY format. Provide format or specify infer_datetime_format=True for consistent parsing.\n",
      "\n",
      "<ipython-input-1108-76e8df3c7752>:2: UserWarning:\n",
      "\n",
      "Parsing '31-12-1990' in DD/MM/YYYY format. Provide format or specify infer_datetime_format=True for consistent parsing.\n",
      "\n",
      "<ipython-input-1108-76e8df3c7752>:2: UserWarning:\n",
      "\n",
      "Parsing '31-01-1991' in DD/MM/YYYY format. Provide format or specify infer_datetime_format=True for consistent parsing.\n",
      "\n",
      "<ipython-input-1108-76e8df3c7752>:2: UserWarning:\n",
      "\n",
      "Parsing '28-02-1991' in DD/MM/YYYY format. Provide format or specify infer_datetime_format=True for consistent parsing.\n",
      "\n",
      "<ipython-input-1108-76e8df3c7752>:2: UserWarning:\n",
      "\n",
      "Parsing '29-03-1991' in DD/MM/YYYY format. Provide format or specify infer_datetime_format=True for consistent parsing.\n",
      "\n",
      "<ipython-input-1108-76e8df3c7752>:2: UserWarning:\n",
      "\n",
      "Parsing '30-04-1991' in DD/MM/YYYY format. Provide format or specify infer_datetime_format=True for consistent parsing.\n",
      "\n",
      "<ipython-input-1108-76e8df3c7752>:2: UserWarning:\n",
      "\n",
      "Parsing '31-05-1991' in DD/MM/YYYY format. Provide format or specify infer_datetime_format=True for consistent parsing.\n",
      "\n",
      "<ipython-input-1108-76e8df3c7752>:2: UserWarning:\n",
      "\n",
      "Parsing '28-06-1991' in DD/MM/YYYY format. Provide format or specify infer_datetime_format=True for consistent parsing.\n",
      "\n",
      "<ipython-input-1108-76e8df3c7752>:2: UserWarning:\n",
      "\n",
      "Parsing '31-07-1991' in DD/MM/YYYY format. Provide format or specify infer_datetime_format=True for consistent parsing.\n",
      "\n",
      "<ipython-input-1108-76e8df3c7752>:2: UserWarning:\n",
      "\n",
      "Parsing '30-08-1991' in DD/MM/YYYY format. Provide format or specify infer_datetime_format=True for consistent parsing.\n",
      "\n",
      "<ipython-input-1108-76e8df3c7752>:2: UserWarning:\n",
      "\n",
      "Parsing '30-09-1991' in DD/MM/YYYY format. Provide format or specify infer_datetime_format=True for consistent parsing.\n",
      "\n",
      "<ipython-input-1108-76e8df3c7752>:2: UserWarning:\n",
      "\n",
      "Parsing '31-10-1991' in DD/MM/YYYY format. Provide format or specify infer_datetime_format=True for consistent parsing.\n",
      "\n",
      "<ipython-input-1108-76e8df3c7752>:2: UserWarning:\n",
      "\n",
      "Parsing '29-11-1991' in DD/MM/YYYY format. Provide format or specify infer_datetime_format=True for consistent parsing.\n",
      "\n",
      "<ipython-input-1108-76e8df3c7752>:2: UserWarning:\n",
      "\n",
      "Parsing '31-12-1991' in DD/MM/YYYY format. Provide format or specify infer_datetime_format=True for consistent parsing.\n",
      "\n",
      "<ipython-input-1108-76e8df3c7752>:2: UserWarning:\n",
      "\n",
      "Parsing '31-01-1992' in DD/MM/YYYY format. Provide format or specify infer_datetime_format=True for consistent parsing.\n",
      "\n",
      "<ipython-input-1108-76e8df3c7752>:2: UserWarning:\n",
      "\n",
      "Parsing '28-02-1992' in DD/MM/YYYY format. Provide format or specify infer_datetime_format=True for consistent parsing.\n",
      "\n",
      "<ipython-input-1108-76e8df3c7752>:2: UserWarning:\n",
      "\n",
      "Parsing '31-03-1992' in DD/MM/YYYY format. Provide format or specify infer_datetime_format=True for consistent parsing.\n",
      "\n",
      "<ipython-input-1108-76e8df3c7752>:2: UserWarning:\n",
      "\n",
      "Parsing '30-04-1992' in DD/MM/YYYY format. Provide format or specify infer_datetime_format=True for consistent parsing.\n",
      "\n",
      "<ipython-input-1108-76e8df3c7752>:2: UserWarning:\n",
      "\n",
      "Parsing '29-05-1992' in DD/MM/YYYY format. Provide format or specify infer_datetime_format=True for consistent parsing.\n",
      "\n",
      "<ipython-input-1108-76e8df3c7752>:2: UserWarning:\n",
      "\n",
      "Parsing '30-06-1992' in DD/MM/YYYY format. Provide format or specify infer_datetime_format=True for consistent parsing.\n",
      "\n",
      "<ipython-input-1108-76e8df3c7752>:2: UserWarning:\n",
      "\n",
      "Parsing '31-07-1992' in DD/MM/YYYY format. Provide format or specify infer_datetime_format=True for consistent parsing.\n",
      "\n",
      "<ipython-input-1108-76e8df3c7752>:2: UserWarning:\n",
      "\n",
      "Parsing '31-08-1992' in DD/MM/YYYY format. Provide format or specify infer_datetime_format=True for consistent parsing.\n",
      "\n",
      "<ipython-input-1108-76e8df3c7752>:2: UserWarning:\n",
      "\n",
      "Parsing '30-09-1992' in DD/MM/YYYY format. Provide format or specify infer_datetime_format=True for consistent parsing.\n",
      "\n",
      "<ipython-input-1108-76e8df3c7752>:2: UserWarning:\n",
      "\n",
      "Parsing '30-10-1992' in DD/MM/YYYY format. Provide format or specify infer_datetime_format=True for consistent parsing.\n",
      "\n",
      "<ipython-input-1108-76e8df3c7752>:2: UserWarning:\n",
      "\n",
      "Parsing '30-11-1992' in DD/MM/YYYY format. Provide format or specify infer_datetime_format=True for consistent parsing.\n",
      "\n",
      "<ipython-input-1108-76e8df3c7752>:2: UserWarning:\n",
      "\n",
      "Parsing '31-12-1992' in DD/MM/YYYY format. Provide format or specify infer_datetime_format=True for consistent parsing.\n",
      "\n",
      "<ipython-input-1108-76e8df3c7752>:2: UserWarning:\n",
      "\n",
      "Parsing '29-01-1993' in DD/MM/YYYY format. Provide format or specify infer_datetime_format=True for consistent parsing.\n",
      "\n",
      "<ipython-input-1108-76e8df3c7752>:2: UserWarning:\n",
      "\n",
      "Parsing '26-02-1993' in DD/MM/YYYY format. Provide format or specify infer_datetime_format=True for consistent parsing.\n",
      "\n",
      "<ipython-input-1108-76e8df3c7752>:2: UserWarning:\n",
      "\n",
      "Parsing '31-03-1993' in DD/MM/YYYY format. Provide format or specify infer_datetime_format=True for consistent parsing.\n",
      "\n",
      "<ipython-input-1108-76e8df3c7752>:2: UserWarning:\n",
      "\n",
      "Parsing '30-04-1993' in DD/MM/YYYY format. Provide format or specify infer_datetime_format=True for consistent parsing.\n",
      "\n",
      "<ipython-input-1108-76e8df3c7752>:2: UserWarning:\n",
      "\n",
      "Parsing '31-05-1993' in DD/MM/YYYY format. Provide format or specify infer_datetime_format=True for consistent parsing.\n",
      "\n",
      "<ipython-input-1108-76e8df3c7752>:2: UserWarning:\n",
      "\n",
      "Parsing '30-06-1993' in DD/MM/YYYY format. Provide format or specify infer_datetime_format=True for consistent parsing.\n",
      "\n",
      "<ipython-input-1108-76e8df3c7752>:2: UserWarning:\n",
      "\n",
      "Parsing '30-07-1993' in DD/MM/YYYY format. Provide format or specify infer_datetime_format=True for consistent parsing.\n",
      "\n",
      "<ipython-input-1108-76e8df3c7752>:2: UserWarning:\n",
      "\n",
      "Parsing '31-08-1993' in DD/MM/YYYY format. Provide format or specify infer_datetime_format=True for consistent parsing.\n",
      "\n",
      "<ipython-input-1108-76e8df3c7752>:2: UserWarning:\n",
      "\n",
      "Parsing '30-09-1993' in DD/MM/YYYY format. Provide format or specify infer_datetime_format=True for consistent parsing.\n",
      "\n",
      "<ipython-input-1108-76e8df3c7752>:2: UserWarning:\n",
      "\n",
      "Parsing '29-10-1993' in DD/MM/YYYY format. Provide format or specify infer_datetime_format=True for consistent parsing.\n",
      "\n",
      "<ipython-input-1108-76e8df3c7752>:2: UserWarning:\n",
      "\n",
      "Parsing '30-11-1993' in DD/MM/YYYY format. Provide format or specify infer_datetime_format=True for consistent parsing.\n",
      "\n",
      "<ipython-input-1108-76e8df3c7752>:2: UserWarning:\n",
      "\n",
      "Parsing '31-12-1993' in DD/MM/YYYY format. Provide format or specify infer_datetime_format=True for consistent parsing.\n",
      "\n",
      "<ipython-input-1108-76e8df3c7752>:2: UserWarning:\n",
      "\n",
      "Parsing '31-01-1994' in DD/MM/YYYY format. Provide format or specify infer_datetime_format=True for consistent parsing.\n",
      "\n",
      "<ipython-input-1108-76e8df3c7752>:2: UserWarning:\n",
      "\n",
      "Parsing '28-02-1994' in DD/MM/YYYY format. Provide format or specify infer_datetime_format=True for consistent parsing.\n",
      "\n",
      "<ipython-input-1108-76e8df3c7752>:2: UserWarning:\n",
      "\n",
      "Parsing '31-03-1994' in DD/MM/YYYY format. Provide format or specify infer_datetime_format=True for consistent parsing.\n",
      "\n",
      "<ipython-input-1108-76e8df3c7752>:2: UserWarning:\n",
      "\n",
      "Parsing '29-04-1994' in DD/MM/YYYY format. Provide format or specify infer_datetime_format=True for consistent parsing.\n",
      "\n",
      "<ipython-input-1108-76e8df3c7752>:2: UserWarning:\n",
      "\n",
      "Parsing '31-05-1994' in DD/MM/YYYY format. Provide format or specify infer_datetime_format=True for consistent parsing.\n",
      "\n",
      "<ipython-input-1108-76e8df3c7752>:2: UserWarning:\n",
      "\n",
      "Parsing '30-06-1994' in DD/MM/YYYY format. Provide format or specify infer_datetime_format=True for consistent parsing.\n",
      "\n",
      "<ipython-input-1108-76e8df3c7752>:2: UserWarning:\n",
      "\n",
      "Parsing '29-07-1994' in DD/MM/YYYY format. Provide format or specify infer_datetime_format=True for consistent parsing.\n",
      "\n",
      "<ipython-input-1108-76e8df3c7752>:2: UserWarning:\n",
      "\n",
      "Parsing '31-08-1994' in DD/MM/YYYY format. Provide format or specify infer_datetime_format=True for consistent parsing.\n",
      "\n",
      "<ipython-input-1108-76e8df3c7752>:2: UserWarning:\n",
      "\n",
      "Parsing '30-09-1994' in DD/MM/YYYY format. Provide format or specify infer_datetime_format=True for consistent parsing.\n",
      "\n",
      "<ipython-input-1108-76e8df3c7752>:2: UserWarning:\n",
      "\n",
      "Parsing '31-10-1994' in DD/MM/YYYY format. Provide format or specify infer_datetime_format=True for consistent parsing.\n",
      "\n",
      "<ipython-input-1108-76e8df3c7752>:2: UserWarning:\n",
      "\n",
      "Parsing '30-11-1994' in DD/MM/YYYY format. Provide format or specify infer_datetime_format=True for consistent parsing.\n",
      "\n",
      "<ipython-input-1108-76e8df3c7752>:2: UserWarning:\n",
      "\n",
      "Parsing '30-12-1994' in DD/MM/YYYY format. Provide format or specify infer_datetime_format=True for consistent parsing.\n",
      "\n",
      "<ipython-input-1108-76e8df3c7752>:2: UserWarning:\n",
      "\n",
      "Parsing '31-01-1995' in DD/MM/YYYY format. Provide format or specify infer_datetime_format=True for consistent parsing.\n",
      "\n",
      "<ipython-input-1108-76e8df3c7752>:2: UserWarning:\n",
      "\n",
      "Parsing '28-02-1995' in DD/MM/YYYY format. Provide format or specify infer_datetime_format=True for consistent parsing.\n",
      "\n",
      "<ipython-input-1108-76e8df3c7752>:2: UserWarning:\n",
      "\n",
      "Parsing '31-03-1995' in DD/MM/YYYY format. Provide format or specify infer_datetime_format=True for consistent parsing.\n",
      "\n",
      "<ipython-input-1108-76e8df3c7752>:2: UserWarning:\n",
      "\n",
      "Parsing '28-04-1995' in DD/MM/YYYY format. Provide format or specify infer_datetime_format=True for consistent parsing.\n",
      "\n",
      "<ipython-input-1108-76e8df3c7752>:2: UserWarning:\n",
      "\n",
      "Parsing '31-05-1995' in DD/MM/YYYY format. Provide format or specify infer_datetime_format=True for consistent parsing.\n",
      "\n",
      "<ipython-input-1108-76e8df3c7752>:2: UserWarning:\n",
      "\n",
      "Parsing '30-06-1995' in DD/MM/YYYY format. Provide format or specify infer_datetime_format=True for consistent parsing.\n",
      "\n",
      "<ipython-input-1108-76e8df3c7752>:2: UserWarning:\n",
      "\n",
      "Parsing '31-07-1995' in DD/MM/YYYY format. Provide format or specify infer_datetime_format=True for consistent parsing.\n",
      "\n",
      "<ipython-input-1108-76e8df3c7752>:2: UserWarning:\n",
      "\n",
      "Parsing '31-08-1995' in DD/MM/YYYY format. Provide format or specify infer_datetime_format=True for consistent parsing.\n",
      "\n",
      "<ipython-input-1108-76e8df3c7752>:2: UserWarning:\n",
      "\n",
      "Parsing '29-09-1995' in DD/MM/YYYY format. Provide format or specify infer_datetime_format=True for consistent parsing.\n",
      "\n",
      "<ipython-input-1108-76e8df3c7752>:2: UserWarning:\n",
      "\n",
      "Parsing '31-10-1995' in DD/MM/YYYY format. Provide format or specify infer_datetime_format=True for consistent parsing.\n",
      "\n",
      "<ipython-input-1108-76e8df3c7752>:2: UserWarning:\n",
      "\n",
      "Parsing '30-11-1995' in DD/MM/YYYY format. Provide format or specify infer_datetime_format=True for consistent parsing.\n",
      "\n",
      "<ipython-input-1108-76e8df3c7752>:2: UserWarning:\n",
      "\n",
      "Parsing '29-12-1995' in DD/MM/YYYY format. Provide format or specify infer_datetime_format=True for consistent parsing.\n",
      "\n",
      "<ipython-input-1108-76e8df3c7752>:2: UserWarning:\n",
      "\n",
      "Parsing '31-01-1996' in DD/MM/YYYY format. Provide format or specify infer_datetime_format=True for consistent parsing.\n",
      "\n",
      "<ipython-input-1108-76e8df3c7752>:2: UserWarning:\n",
      "\n",
      "Parsing '29-02-1996' in DD/MM/YYYY format. Provide format or specify infer_datetime_format=True for consistent parsing.\n",
      "\n",
      "<ipython-input-1108-76e8df3c7752>:2: UserWarning:\n",
      "\n",
      "Parsing '29-03-1996' in DD/MM/YYYY format. Provide format or specify infer_datetime_format=True for consistent parsing.\n",
      "\n",
      "<ipython-input-1108-76e8df3c7752>:2: UserWarning:\n",
      "\n",
      "Parsing '30-04-1996' in DD/MM/YYYY format. Provide format or specify infer_datetime_format=True for consistent parsing.\n",
      "\n",
      "<ipython-input-1108-76e8df3c7752>:2: UserWarning:\n",
      "\n",
      "Parsing '31-05-1996' in DD/MM/YYYY format. Provide format or specify infer_datetime_format=True for consistent parsing.\n",
      "\n",
      "<ipython-input-1108-76e8df3c7752>:2: UserWarning:\n",
      "\n",
      "Parsing '28-06-1996' in DD/MM/YYYY format. Provide format or specify infer_datetime_format=True for consistent parsing.\n",
      "\n",
      "<ipython-input-1108-76e8df3c7752>:2: UserWarning:\n",
      "\n",
      "Parsing '31-07-1996' in DD/MM/YYYY format. Provide format or specify infer_datetime_format=True for consistent parsing.\n",
      "\n",
      "<ipython-input-1108-76e8df3c7752>:2: UserWarning:\n",
      "\n",
      "Parsing '30-08-1996' in DD/MM/YYYY format. Provide format or specify infer_datetime_format=True for consistent parsing.\n",
      "\n",
      "<ipython-input-1108-76e8df3c7752>:2: UserWarning:\n",
      "\n",
      "Parsing '30-09-1996' in DD/MM/YYYY format. Provide format or specify infer_datetime_format=True for consistent parsing.\n",
      "\n",
      "<ipython-input-1108-76e8df3c7752>:2: UserWarning:\n",
      "\n",
      "Parsing '31-10-1996' in DD/MM/YYYY format. Provide format or specify infer_datetime_format=True for consistent parsing.\n",
      "\n",
      "<ipython-input-1108-76e8df3c7752>:2: UserWarning:\n",
      "\n",
      "Parsing '29-11-1996' in DD/MM/YYYY format. Provide format or specify infer_datetime_format=True for consistent parsing.\n",
      "\n",
      "<ipython-input-1108-76e8df3c7752>:2: UserWarning:\n",
      "\n",
      "Parsing '31-12-1996' in DD/MM/YYYY format. Provide format or specify infer_datetime_format=True for consistent parsing.\n",
      "\n",
      "<ipython-input-1108-76e8df3c7752>:2: UserWarning:\n",
      "\n",
      "Parsing '31-01-1997' in DD/MM/YYYY format. Provide format or specify infer_datetime_format=True for consistent parsing.\n",
      "\n",
      "<ipython-input-1108-76e8df3c7752>:2: UserWarning:\n",
      "\n",
      "Parsing '28-02-1997' in DD/MM/YYYY format. Provide format or specify infer_datetime_format=True for consistent parsing.\n",
      "\n",
      "<ipython-input-1108-76e8df3c7752>:2: UserWarning:\n",
      "\n",
      "Parsing '31-03-1997' in DD/MM/YYYY format. Provide format or specify infer_datetime_format=True for consistent parsing.\n",
      "\n",
      "<ipython-input-1108-76e8df3c7752>:2: UserWarning:\n",
      "\n",
      "Parsing '30-04-1997' in DD/MM/YYYY format. Provide format or specify infer_datetime_format=True for consistent parsing.\n",
      "\n",
      "<ipython-input-1108-76e8df3c7752>:2: UserWarning:\n",
      "\n",
      "Parsing '30-05-1997' in DD/MM/YYYY format. Provide format or specify infer_datetime_format=True for consistent parsing.\n",
      "\n",
      "<ipython-input-1108-76e8df3c7752>:2: UserWarning:\n",
      "\n",
      "Parsing '30-06-1997' in DD/MM/YYYY format. Provide format or specify infer_datetime_format=True for consistent parsing.\n",
      "\n",
      "<ipython-input-1108-76e8df3c7752>:2: UserWarning:\n",
      "\n",
      "Parsing '31-07-1997' in DD/MM/YYYY format. Provide format or specify infer_datetime_format=True for consistent parsing.\n",
      "\n",
      "<ipython-input-1108-76e8df3c7752>:2: UserWarning:\n",
      "\n",
      "Parsing '29-08-1997' in DD/MM/YYYY format. Provide format or specify infer_datetime_format=True for consistent parsing.\n",
      "\n",
      "<ipython-input-1108-76e8df3c7752>:2: UserWarning:\n",
      "\n",
      "Parsing '30-09-1997' in DD/MM/YYYY format. Provide format or specify infer_datetime_format=True for consistent parsing.\n",
      "\n",
      "<ipython-input-1108-76e8df3c7752>:2: UserWarning:\n",
      "\n",
      "Parsing '31-10-1997' in DD/MM/YYYY format. Provide format or specify infer_datetime_format=True for consistent parsing.\n",
      "\n",
      "<ipython-input-1108-76e8df3c7752>:2: UserWarning:\n",
      "\n",
      "Parsing '28-11-1997' in DD/MM/YYYY format. Provide format or specify infer_datetime_format=True for consistent parsing.\n",
      "\n",
      "<ipython-input-1108-76e8df3c7752>:2: UserWarning:\n",
      "\n",
      "Parsing '31-12-1997' in DD/MM/YYYY format. Provide format or specify infer_datetime_format=True for consistent parsing.\n",
      "\n",
      "<ipython-input-1108-76e8df3c7752>:2: UserWarning:\n",
      "\n",
      "Parsing '30-01-1998' in DD/MM/YYYY format. Provide format or specify infer_datetime_format=True for consistent parsing.\n",
      "\n",
      "<ipython-input-1108-76e8df3c7752>:2: UserWarning:\n",
      "\n",
      "Parsing '27-02-1998' in DD/MM/YYYY format. Provide format or specify infer_datetime_format=True for consistent parsing.\n",
      "\n",
      "<ipython-input-1108-76e8df3c7752>:2: UserWarning:\n",
      "\n",
      "Parsing '31-03-1998' in DD/MM/YYYY format. Provide format or specify infer_datetime_format=True for consistent parsing.\n",
      "\n",
      "<ipython-input-1108-76e8df3c7752>:2: UserWarning:\n",
      "\n",
      "Parsing '30-04-1998' in DD/MM/YYYY format. Provide format or specify infer_datetime_format=True for consistent parsing.\n",
      "\n",
      "<ipython-input-1108-76e8df3c7752>:2: UserWarning:\n",
      "\n",
      "Parsing '29-05-1998' in DD/MM/YYYY format. Provide format or specify infer_datetime_format=True for consistent parsing.\n",
      "\n",
      "<ipython-input-1108-76e8df3c7752>:2: UserWarning:\n",
      "\n",
      "Parsing '30-06-1998' in DD/MM/YYYY format. Provide format or specify infer_datetime_format=True for consistent parsing.\n",
      "\n",
      "<ipython-input-1108-76e8df3c7752>:2: UserWarning:\n",
      "\n",
      "Parsing '31-07-1998' in DD/MM/YYYY format. Provide format or specify infer_datetime_format=True for consistent parsing.\n",
      "\n",
      "<ipython-input-1108-76e8df3c7752>:2: UserWarning:\n",
      "\n",
      "Parsing '31-08-1998' in DD/MM/YYYY format. Provide format or specify infer_datetime_format=True for consistent parsing.\n",
      "\n",
      "<ipython-input-1108-76e8df3c7752>:2: UserWarning:\n",
      "\n",
      "Parsing '30-09-1998' in DD/MM/YYYY format. Provide format or specify infer_datetime_format=True for consistent parsing.\n",
      "\n",
      "<ipython-input-1108-76e8df3c7752>:2: UserWarning:\n",
      "\n",
      "Parsing '30-10-1998' in DD/MM/YYYY format. Provide format or specify infer_datetime_format=True for consistent parsing.\n",
      "\n",
      "<ipython-input-1108-76e8df3c7752>:2: UserWarning:\n",
      "\n",
      "Parsing '30-11-1998' in DD/MM/YYYY format. Provide format or specify infer_datetime_format=True for consistent parsing.\n",
      "\n",
      "<ipython-input-1108-76e8df3c7752>:2: UserWarning:\n",
      "\n",
      "Parsing '31-12-1998' in DD/MM/YYYY format. Provide format or specify infer_datetime_format=True for consistent parsing.\n",
      "\n",
      "<ipython-input-1108-76e8df3c7752>:2: UserWarning:\n",
      "\n",
      "Parsing '29-01-1999' in DD/MM/YYYY format. Provide format or specify infer_datetime_format=True for consistent parsing.\n",
      "\n",
      "<ipython-input-1108-76e8df3c7752>:2: UserWarning:\n",
      "\n",
      "Parsing '26-02-1999' in DD/MM/YYYY format. Provide format or specify infer_datetime_format=True for consistent parsing.\n",
      "\n",
      "<ipython-input-1108-76e8df3c7752>:2: UserWarning:\n",
      "\n",
      "Parsing '31-03-1999' in DD/MM/YYYY format. Provide format or specify infer_datetime_format=True for consistent parsing.\n",
      "\n",
      "<ipython-input-1108-76e8df3c7752>:2: UserWarning:\n",
      "\n",
      "Parsing '30-04-1999' in DD/MM/YYYY format. Provide format or specify infer_datetime_format=True for consistent parsing.\n",
      "\n",
      "<ipython-input-1108-76e8df3c7752>:2: UserWarning:\n",
      "\n",
      "Parsing '31-05-1999' in DD/MM/YYYY format. Provide format or specify infer_datetime_format=True for consistent parsing.\n",
      "\n",
      "<ipython-input-1108-76e8df3c7752>:2: UserWarning:\n",
      "\n",
      "Parsing '30-06-1999' in DD/MM/YYYY format. Provide format or specify infer_datetime_format=True for consistent parsing.\n",
      "\n",
      "<ipython-input-1108-76e8df3c7752>:2: UserWarning:\n",
      "\n",
      "Parsing '30-07-1999' in DD/MM/YYYY format. Provide format or specify infer_datetime_format=True for consistent parsing.\n",
      "\n",
      "<ipython-input-1108-76e8df3c7752>:2: UserWarning:\n",
      "\n",
      "Parsing '31-08-1999' in DD/MM/YYYY format. Provide format or specify infer_datetime_format=True for consistent parsing.\n",
      "\n",
      "<ipython-input-1108-76e8df3c7752>:2: UserWarning:\n",
      "\n",
      "Parsing '30-09-1999' in DD/MM/YYYY format. Provide format or specify infer_datetime_format=True for consistent parsing.\n",
      "\n",
      "<ipython-input-1108-76e8df3c7752>:2: UserWarning:\n",
      "\n",
      "Parsing '29-10-1999' in DD/MM/YYYY format. Provide format or specify infer_datetime_format=True for consistent parsing.\n",
      "\n",
      "<ipython-input-1108-76e8df3c7752>:2: UserWarning:\n",
      "\n",
      "Parsing '30-11-1999' in DD/MM/YYYY format. Provide format or specify infer_datetime_format=True for consistent parsing.\n",
      "\n",
      "<ipython-input-1108-76e8df3c7752>:2: UserWarning:\n",
      "\n",
      "Parsing '31-12-1999' in DD/MM/YYYY format. Provide format or specify infer_datetime_format=True for consistent parsing.\n",
      "\n",
      "<ipython-input-1108-76e8df3c7752>:2: UserWarning:\n",
      "\n",
      "Parsing '31-01-2000' in DD/MM/YYYY format. Provide format or specify infer_datetime_format=True for consistent parsing.\n",
      "\n",
      "<ipython-input-1108-76e8df3c7752>:2: UserWarning:\n",
      "\n",
      "Parsing '29-02-2000' in DD/MM/YYYY format. Provide format or specify infer_datetime_format=True for consistent parsing.\n",
      "\n",
      "<ipython-input-1108-76e8df3c7752>:2: UserWarning:\n",
      "\n",
      "Parsing '31-03-2000' in DD/MM/YYYY format. Provide format or specify infer_datetime_format=True for consistent parsing.\n",
      "\n",
      "<ipython-input-1108-76e8df3c7752>:2: UserWarning:\n",
      "\n",
      "Parsing '28-04-2000' in DD/MM/YYYY format. Provide format or specify infer_datetime_format=True for consistent parsing.\n",
      "\n",
      "<ipython-input-1108-76e8df3c7752>:2: UserWarning:\n",
      "\n",
      "Parsing '31-05-2000' in DD/MM/YYYY format. Provide format or specify infer_datetime_format=True for consistent parsing.\n",
      "\n",
      "<ipython-input-1108-76e8df3c7752>:2: UserWarning:\n",
      "\n",
      "Parsing '30-06-2000' in DD/MM/YYYY format. Provide format or specify infer_datetime_format=True for consistent parsing.\n",
      "\n",
      "<ipython-input-1108-76e8df3c7752>:2: UserWarning:\n",
      "\n",
      "Parsing '31-07-2000' in DD/MM/YYYY format. Provide format or specify infer_datetime_format=True for consistent parsing.\n",
      "\n",
      "<ipython-input-1108-76e8df3c7752>:2: UserWarning:\n",
      "\n",
      "Parsing '31-08-2000' in DD/MM/YYYY format. Provide format or specify infer_datetime_format=True for consistent parsing.\n",
      "\n",
      "<ipython-input-1108-76e8df3c7752>:2: UserWarning:\n",
      "\n",
      "Parsing '29-09-2000' in DD/MM/YYYY format. Provide format or specify infer_datetime_format=True for consistent parsing.\n",
      "\n",
      "<ipython-input-1108-76e8df3c7752>:2: UserWarning:\n",
      "\n",
      "Parsing '31-10-2000' in DD/MM/YYYY format. Provide format or specify infer_datetime_format=True for consistent parsing.\n",
      "\n",
      "<ipython-input-1108-76e8df3c7752>:2: UserWarning:\n",
      "\n",
      "Parsing '30-11-2000' in DD/MM/YYYY format. Provide format or specify infer_datetime_format=True for consistent parsing.\n",
      "\n",
      "<ipython-input-1108-76e8df3c7752>:2: UserWarning:\n",
      "\n",
      "Parsing '29-12-2000' in DD/MM/YYYY format. Provide format or specify infer_datetime_format=True for consistent parsing.\n",
      "\n",
      "<ipython-input-1108-76e8df3c7752>:2: UserWarning:\n",
      "\n",
      "Parsing '31-01-2001' in DD/MM/YYYY format. Provide format or specify infer_datetime_format=True for consistent parsing.\n",
      "\n",
      "<ipython-input-1108-76e8df3c7752>:2: UserWarning:\n",
      "\n",
      "Parsing '28-02-2001' in DD/MM/YYYY format. Provide format or specify infer_datetime_format=True for consistent parsing.\n",
      "\n",
      "<ipython-input-1108-76e8df3c7752>:2: UserWarning:\n",
      "\n",
      "Parsing '30-03-2001' in DD/MM/YYYY format. Provide format or specify infer_datetime_format=True for consistent parsing.\n",
      "\n",
      "<ipython-input-1108-76e8df3c7752>:2: UserWarning:\n",
      "\n",
      "Parsing '30-04-2001' in DD/MM/YYYY format. Provide format or specify infer_datetime_format=True for consistent parsing.\n",
      "\n",
      "<ipython-input-1108-76e8df3c7752>:2: UserWarning:\n",
      "\n",
      "Parsing '31-05-2001' in DD/MM/YYYY format. Provide format or specify infer_datetime_format=True for consistent parsing.\n",
      "\n",
      "<ipython-input-1108-76e8df3c7752>:2: UserWarning:\n",
      "\n",
      "Parsing '29-06-2001' in DD/MM/YYYY format. Provide format or specify infer_datetime_format=True for consistent parsing.\n",
      "\n",
      "<ipython-input-1108-76e8df3c7752>:2: UserWarning:\n",
      "\n",
      "Parsing '31-07-2001' in DD/MM/YYYY format. Provide format or specify infer_datetime_format=True for consistent parsing.\n",
      "\n",
      "<ipython-input-1108-76e8df3c7752>:2: UserWarning:\n",
      "\n",
      "Parsing '31-08-2001' in DD/MM/YYYY format. Provide format or specify infer_datetime_format=True for consistent parsing.\n",
      "\n",
      "<ipython-input-1108-76e8df3c7752>:2: UserWarning:\n",
      "\n",
      "Parsing '28-09-2001' in DD/MM/YYYY format. Provide format or specify infer_datetime_format=True for consistent parsing.\n",
      "\n",
      "<ipython-input-1108-76e8df3c7752>:2: UserWarning:\n",
      "\n",
      "Parsing '31-10-2001' in DD/MM/YYYY format. Provide format or specify infer_datetime_format=True for consistent parsing.\n",
      "\n",
      "<ipython-input-1108-76e8df3c7752>:2: UserWarning:\n",
      "\n",
      "Parsing '30-11-2001' in DD/MM/YYYY format. Provide format or specify infer_datetime_format=True for consistent parsing.\n",
      "\n",
      "<ipython-input-1108-76e8df3c7752>:2: UserWarning:\n",
      "\n",
      "Parsing '31-12-2001' in DD/MM/YYYY format. Provide format or specify infer_datetime_format=True for consistent parsing.\n",
      "\n",
      "<ipython-input-1108-76e8df3c7752>:2: UserWarning:\n",
      "\n",
      "Parsing '31-01-2002' in DD/MM/YYYY format. Provide format or specify infer_datetime_format=True for consistent parsing.\n",
      "\n",
      "<ipython-input-1108-76e8df3c7752>:2: UserWarning:\n",
      "\n",
      "Parsing '28-02-2002' in DD/MM/YYYY format. Provide format or specify infer_datetime_format=True for consistent parsing.\n",
      "\n",
      "<ipython-input-1108-76e8df3c7752>:2: UserWarning:\n",
      "\n",
      "Parsing '29-03-2002' in DD/MM/YYYY format. Provide format or specify infer_datetime_format=True for consistent parsing.\n",
      "\n",
      "<ipython-input-1108-76e8df3c7752>:2: UserWarning:\n",
      "\n",
      "Parsing '30-04-2002' in DD/MM/YYYY format. Provide format or specify infer_datetime_format=True for consistent parsing.\n",
      "\n",
      "<ipython-input-1108-76e8df3c7752>:2: UserWarning:\n",
      "\n",
      "Parsing '31-05-2002' in DD/MM/YYYY format. Provide format or specify infer_datetime_format=True for consistent parsing.\n",
      "\n",
      "<ipython-input-1108-76e8df3c7752>:2: UserWarning:\n",
      "\n",
      "Parsing '28-06-2002' in DD/MM/YYYY format. Provide format or specify infer_datetime_format=True for consistent parsing.\n",
      "\n",
      "<ipython-input-1108-76e8df3c7752>:2: UserWarning:\n",
      "\n",
      "Parsing '31-07-2002' in DD/MM/YYYY format. Provide format or specify infer_datetime_format=True for consistent parsing.\n",
      "\n",
      "<ipython-input-1108-76e8df3c7752>:2: UserWarning:\n",
      "\n",
      "Parsing '30-08-2002' in DD/MM/YYYY format. Provide format or specify infer_datetime_format=True for consistent parsing.\n",
      "\n",
      "<ipython-input-1108-76e8df3c7752>:2: UserWarning:\n",
      "\n",
      "Parsing '30-09-2002' in DD/MM/YYYY format. Provide format or specify infer_datetime_format=True for consistent parsing.\n",
      "\n",
      "<ipython-input-1108-76e8df3c7752>:2: UserWarning:\n",
      "\n",
      "Parsing '31-10-2002' in DD/MM/YYYY format. Provide format or specify infer_datetime_format=True for consistent parsing.\n",
      "\n",
      "<ipython-input-1108-76e8df3c7752>:2: UserWarning:\n",
      "\n",
      "Parsing '29-11-2002' in DD/MM/YYYY format. Provide format or specify infer_datetime_format=True for consistent parsing.\n",
      "\n",
      "<ipython-input-1108-76e8df3c7752>:2: UserWarning:\n",
      "\n",
      "Parsing '31-12-2002' in DD/MM/YYYY format. Provide format or specify infer_datetime_format=True for consistent parsing.\n",
      "\n",
      "<ipython-input-1108-76e8df3c7752>:2: UserWarning:\n",
      "\n",
      "Parsing '31-01-2003' in DD/MM/YYYY format. Provide format or specify infer_datetime_format=True for consistent parsing.\n",
      "\n",
      "<ipython-input-1108-76e8df3c7752>:2: UserWarning:\n",
      "\n",
      "Parsing '28-02-2003' in DD/MM/YYYY format. Provide format or specify infer_datetime_format=True for consistent parsing.\n",
      "\n",
      "<ipython-input-1108-76e8df3c7752>:2: UserWarning:\n",
      "\n",
      "Parsing '31-03-2003' in DD/MM/YYYY format. Provide format or specify infer_datetime_format=True for consistent parsing.\n",
      "\n",
      "<ipython-input-1108-76e8df3c7752>:2: UserWarning:\n",
      "\n",
      "Parsing '30-04-2003' in DD/MM/YYYY format. Provide format or specify infer_datetime_format=True for consistent parsing.\n",
      "\n",
      "<ipython-input-1108-76e8df3c7752>:2: UserWarning:\n",
      "\n",
      "Parsing '30-05-2003' in DD/MM/YYYY format. Provide format or specify infer_datetime_format=True for consistent parsing.\n",
      "\n",
      "<ipython-input-1108-76e8df3c7752>:2: UserWarning:\n",
      "\n",
      "Parsing '30-06-2003' in DD/MM/YYYY format. Provide format or specify infer_datetime_format=True for consistent parsing.\n",
      "\n",
      "<ipython-input-1108-76e8df3c7752>:2: UserWarning:\n",
      "\n",
      "Parsing '31-07-2003' in DD/MM/YYYY format. Provide format or specify infer_datetime_format=True for consistent parsing.\n",
      "\n",
      "<ipython-input-1108-76e8df3c7752>:2: UserWarning:\n",
      "\n",
      "Parsing '29-08-2003' in DD/MM/YYYY format. Provide format or specify infer_datetime_format=True for consistent parsing.\n",
      "\n",
      "<ipython-input-1108-76e8df3c7752>:2: UserWarning:\n",
      "\n",
      "Parsing '30-09-2003' in DD/MM/YYYY format. Provide format or specify infer_datetime_format=True for consistent parsing.\n",
      "\n",
      "<ipython-input-1108-76e8df3c7752>:2: UserWarning:\n",
      "\n",
      "Parsing '31-10-2003' in DD/MM/YYYY format. Provide format or specify infer_datetime_format=True for consistent parsing.\n",
      "\n",
      "<ipython-input-1108-76e8df3c7752>:2: UserWarning:\n",
      "\n",
      "Parsing '28-11-2003' in DD/MM/YYYY format. Provide format or specify infer_datetime_format=True for consistent parsing.\n",
      "\n",
      "<ipython-input-1108-76e8df3c7752>:2: UserWarning:\n",
      "\n",
      "Parsing '31-12-2003' in DD/MM/YYYY format. Provide format or specify infer_datetime_format=True for consistent parsing.\n",
      "\n",
      "<ipython-input-1108-76e8df3c7752>:2: UserWarning:\n",
      "\n",
      "Parsing '30-01-2004' in DD/MM/YYYY format. Provide format or specify infer_datetime_format=True for consistent parsing.\n",
      "\n",
      "<ipython-input-1108-76e8df3c7752>:2: UserWarning:\n",
      "\n",
      "Parsing '27-02-2004' in DD/MM/YYYY format. Provide format or specify infer_datetime_format=True for consistent parsing.\n",
      "\n",
      "<ipython-input-1108-76e8df3c7752>:2: UserWarning:\n",
      "\n",
      "Parsing '31-03-2004' in DD/MM/YYYY format. Provide format or specify infer_datetime_format=True for consistent parsing.\n",
      "\n",
      "<ipython-input-1108-76e8df3c7752>:2: UserWarning:\n",
      "\n",
      "Parsing '30-04-2004' in DD/MM/YYYY format. Provide format or specify infer_datetime_format=True for consistent parsing.\n",
      "\n",
      "<ipython-input-1108-76e8df3c7752>:2: UserWarning:\n",
      "\n",
      "Parsing '31-05-2004' in DD/MM/YYYY format. Provide format or specify infer_datetime_format=True for consistent parsing.\n",
      "\n",
      "<ipython-input-1108-76e8df3c7752>:2: UserWarning:\n",
      "\n",
      "Parsing '30-06-2004' in DD/MM/YYYY format. Provide format or specify infer_datetime_format=True for consistent parsing.\n",
      "\n",
      "<ipython-input-1108-76e8df3c7752>:2: UserWarning:\n",
      "\n",
      "Parsing '30-07-2004' in DD/MM/YYYY format. Provide format or specify infer_datetime_format=True for consistent parsing.\n",
      "\n",
      "<ipython-input-1108-76e8df3c7752>:2: UserWarning:\n",
      "\n",
      "Parsing '31-08-2004' in DD/MM/YYYY format. Provide format or specify infer_datetime_format=True for consistent parsing.\n",
      "\n",
      "<ipython-input-1108-76e8df3c7752>:2: UserWarning:\n",
      "\n",
      "Parsing '30-09-2004' in DD/MM/YYYY format. Provide format or specify infer_datetime_format=True for consistent parsing.\n",
      "\n",
      "<ipython-input-1108-76e8df3c7752>:2: UserWarning:\n",
      "\n",
      "Parsing '29-10-2004' in DD/MM/YYYY format. Provide format or specify infer_datetime_format=True for consistent parsing.\n",
      "\n",
      "<ipython-input-1108-76e8df3c7752>:2: UserWarning:\n",
      "\n",
      "Parsing '30-11-2004' in DD/MM/YYYY format. Provide format or specify infer_datetime_format=True for consistent parsing.\n",
      "\n",
      "<ipython-input-1108-76e8df3c7752>:2: UserWarning:\n",
      "\n",
      "Parsing '31-12-2004' in DD/MM/YYYY format. Provide format or specify infer_datetime_format=True for consistent parsing.\n",
      "\n",
      "<ipython-input-1108-76e8df3c7752>:2: UserWarning:\n",
      "\n",
      "Parsing '31-01-2005' in DD/MM/YYYY format. Provide format or specify infer_datetime_format=True for consistent parsing.\n",
      "\n",
      "<ipython-input-1108-76e8df3c7752>:2: UserWarning:\n",
      "\n",
      "Parsing '28-02-2005' in DD/MM/YYYY format. Provide format or specify infer_datetime_format=True for consistent parsing.\n",
      "\n",
      "<ipython-input-1108-76e8df3c7752>:2: UserWarning:\n",
      "\n",
      "Parsing '31-03-2005' in DD/MM/YYYY format. Provide format or specify infer_datetime_format=True for consistent parsing.\n",
      "\n",
      "<ipython-input-1108-76e8df3c7752>:2: UserWarning:\n",
      "\n",
      "Parsing '29-04-2005' in DD/MM/YYYY format. Provide format or specify infer_datetime_format=True for consistent parsing.\n",
      "\n",
      "<ipython-input-1108-76e8df3c7752>:2: UserWarning:\n",
      "\n",
      "Parsing '31-05-2005' in DD/MM/YYYY format. Provide format or specify infer_datetime_format=True for consistent parsing.\n",
      "\n",
      "<ipython-input-1108-76e8df3c7752>:2: UserWarning:\n",
      "\n",
      "Parsing '30-06-2005' in DD/MM/YYYY format. Provide format or specify infer_datetime_format=True for consistent parsing.\n",
      "\n",
      "<ipython-input-1108-76e8df3c7752>:2: UserWarning:\n",
      "\n",
      "Parsing '29-07-2005' in DD/MM/YYYY format. Provide format or specify infer_datetime_format=True for consistent parsing.\n",
      "\n",
      "<ipython-input-1108-76e8df3c7752>:2: UserWarning:\n",
      "\n",
      "Parsing '31-08-2005' in DD/MM/YYYY format. Provide format or specify infer_datetime_format=True for consistent parsing.\n",
      "\n",
      "<ipython-input-1108-76e8df3c7752>:2: UserWarning:\n",
      "\n",
      "Parsing '30-09-2005' in DD/MM/YYYY format. Provide format or specify infer_datetime_format=True for consistent parsing.\n",
      "\n",
      "<ipython-input-1108-76e8df3c7752>:2: UserWarning:\n",
      "\n",
      "Parsing '31-10-2005' in DD/MM/YYYY format. Provide format or specify infer_datetime_format=True for consistent parsing.\n",
      "\n",
      "<ipython-input-1108-76e8df3c7752>:2: UserWarning:\n",
      "\n",
      "Parsing '30-11-2005' in DD/MM/YYYY format. Provide format or specify infer_datetime_format=True for consistent parsing.\n",
      "\n",
      "<ipython-input-1108-76e8df3c7752>:2: UserWarning:\n",
      "\n",
      "Parsing '30-12-2005' in DD/MM/YYYY format. Provide format or specify infer_datetime_format=True for consistent parsing.\n",
      "\n",
      "<ipython-input-1108-76e8df3c7752>:2: UserWarning:\n",
      "\n",
      "Parsing '31-01-2006' in DD/MM/YYYY format. Provide format or specify infer_datetime_format=True for consistent parsing.\n",
      "\n",
      "<ipython-input-1108-76e8df3c7752>:2: UserWarning:\n",
      "\n",
      "Parsing '28-02-2006' in DD/MM/YYYY format. Provide format or specify infer_datetime_format=True for consistent parsing.\n",
      "\n",
      "<ipython-input-1108-76e8df3c7752>:2: UserWarning:\n",
      "\n",
      "Parsing '31-03-2006' in DD/MM/YYYY format. Provide format or specify infer_datetime_format=True for consistent parsing.\n",
      "\n",
      "<ipython-input-1108-76e8df3c7752>:2: UserWarning:\n",
      "\n",
      "Parsing '28-04-2006' in DD/MM/YYYY format. Provide format or specify infer_datetime_format=True for consistent parsing.\n",
      "\n",
      "<ipython-input-1108-76e8df3c7752>:2: UserWarning:\n",
      "\n",
      "Parsing '31-05-2006' in DD/MM/YYYY format. Provide format or specify infer_datetime_format=True for consistent parsing.\n",
      "\n",
      "<ipython-input-1108-76e8df3c7752>:2: UserWarning:\n",
      "\n",
      "Parsing '30-06-2006' in DD/MM/YYYY format. Provide format or specify infer_datetime_format=True for consistent parsing.\n",
      "\n",
      "<ipython-input-1108-76e8df3c7752>:2: UserWarning:\n",
      "\n",
      "Parsing '31-07-2006' in DD/MM/YYYY format. Provide format or specify infer_datetime_format=True for consistent parsing.\n",
      "\n",
      "<ipython-input-1108-76e8df3c7752>:2: UserWarning:\n",
      "\n",
      "Parsing '31-08-2006' in DD/MM/YYYY format. Provide format or specify infer_datetime_format=True for consistent parsing.\n",
      "\n",
      "<ipython-input-1108-76e8df3c7752>:2: UserWarning:\n",
      "\n",
      "Parsing '29-09-2006' in DD/MM/YYYY format. Provide format or specify infer_datetime_format=True for consistent parsing.\n",
      "\n",
      "<ipython-input-1108-76e8df3c7752>:2: UserWarning:\n",
      "\n",
      "Parsing '31-10-2006' in DD/MM/YYYY format. Provide format or specify infer_datetime_format=True for consistent parsing.\n",
      "\n",
      "<ipython-input-1108-76e8df3c7752>:2: UserWarning:\n",
      "\n",
      "Parsing '30-11-2006' in DD/MM/YYYY format. Provide format or specify infer_datetime_format=True for consistent parsing.\n",
      "\n",
      "<ipython-input-1108-76e8df3c7752>:2: UserWarning:\n",
      "\n",
      "Parsing '29-12-2006' in DD/MM/YYYY format. Provide format or specify infer_datetime_format=True for consistent parsing.\n",
      "\n",
      "<ipython-input-1108-76e8df3c7752>:2: UserWarning:\n",
      "\n",
      "Parsing '31-01-2007' in DD/MM/YYYY format. Provide format or specify infer_datetime_format=True for consistent parsing.\n",
      "\n",
      "<ipython-input-1108-76e8df3c7752>:2: UserWarning:\n",
      "\n",
      "Parsing '28-02-2007' in DD/MM/YYYY format. Provide format or specify infer_datetime_format=True for consistent parsing.\n",
      "\n",
      "<ipython-input-1108-76e8df3c7752>:2: UserWarning:\n",
      "\n",
      "Parsing '30-03-2007' in DD/MM/YYYY format. Provide format or specify infer_datetime_format=True for consistent parsing.\n",
      "\n",
      "<ipython-input-1108-76e8df3c7752>:2: UserWarning:\n",
      "\n",
      "Parsing '30-04-2007' in DD/MM/YYYY format. Provide format or specify infer_datetime_format=True for consistent parsing.\n",
      "\n",
      "<ipython-input-1108-76e8df3c7752>:2: UserWarning:\n",
      "\n",
      "Parsing '31-05-2007' in DD/MM/YYYY format. Provide format or specify infer_datetime_format=True for consistent parsing.\n",
      "\n",
      "<ipython-input-1108-76e8df3c7752>:2: UserWarning:\n",
      "\n",
      "Parsing '29-06-2007' in DD/MM/YYYY format. Provide format or specify infer_datetime_format=True for consistent parsing.\n",
      "\n",
      "<ipython-input-1108-76e8df3c7752>:2: UserWarning:\n",
      "\n",
      "Parsing '31-07-2007' in DD/MM/YYYY format. Provide format or specify infer_datetime_format=True for consistent parsing.\n",
      "\n",
      "<ipython-input-1108-76e8df3c7752>:2: UserWarning:\n",
      "\n",
      "Parsing '31-08-2007' in DD/MM/YYYY format. Provide format or specify infer_datetime_format=True for consistent parsing.\n",
      "\n",
      "<ipython-input-1108-76e8df3c7752>:2: UserWarning:\n",
      "\n",
      "Parsing '28-09-2007' in DD/MM/YYYY format. Provide format or specify infer_datetime_format=True for consistent parsing.\n",
      "\n",
      "<ipython-input-1108-76e8df3c7752>:2: UserWarning:\n",
      "\n",
      "Parsing '31-10-2007' in DD/MM/YYYY format. Provide format or specify infer_datetime_format=True for consistent parsing.\n",
      "\n",
      "<ipython-input-1108-76e8df3c7752>:2: UserWarning:\n",
      "\n",
      "Parsing '30-11-2007' in DD/MM/YYYY format. Provide format or specify infer_datetime_format=True for consistent parsing.\n",
      "\n",
      "<ipython-input-1108-76e8df3c7752>:2: UserWarning:\n",
      "\n",
      "Parsing '31-12-2007' in DD/MM/YYYY format. Provide format or specify infer_datetime_format=True for consistent parsing.\n",
      "\n",
      "<ipython-input-1108-76e8df3c7752>:2: UserWarning:\n",
      "\n",
      "Parsing '31-01-2008' in DD/MM/YYYY format. Provide format or specify infer_datetime_format=True for consistent parsing.\n",
      "\n",
      "<ipython-input-1108-76e8df3c7752>:2: UserWarning:\n",
      "\n",
      "Parsing '29-02-2008' in DD/MM/YYYY format. Provide format or specify infer_datetime_format=True for consistent parsing.\n",
      "\n",
      "<ipython-input-1108-76e8df3c7752>:2: UserWarning:\n",
      "\n",
      "Parsing '31-03-2008' in DD/MM/YYYY format. Provide format or specify infer_datetime_format=True for consistent parsing.\n",
      "\n",
      "<ipython-input-1108-76e8df3c7752>:2: UserWarning:\n",
      "\n",
      "Parsing '30-04-2008' in DD/MM/YYYY format. Provide format or specify infer_datetime_format=True for consistent parsing.\n",
      "\n",
      "<ipython-input-1108-76e8df3c7752>:2: UserWarning:\n",
      "\n",
      "Parsing '30-05-2008' in DD/MM/YYYY format. Provide format or specify infer_datetime_format=True for consistent parsing.\n",
      "\n",
      "<ipython-input-1108-76e8df3c7752>:2: UserWarning:\n",
      "\n",
      "Parsing '30-06-2008' in DD/MM/YYYY format. Provide format or specify infer_datetime_format=True for consistent parsing.\n",
      "\n",
      "<ipython-input-1108-76e8df3c7752>:2: UserWarning:\n",
      "\n",
      "Parsing '31-07-2008' in DD/MM/YYYY format. Provide format or specify infer_datetime_format=True for consistent parsing.\n",
      "\n",
      "<ipython-input-1108-76e8df3c7752>:2: UserWarning:\n",
      "\n",
      "Parsing '29-08-2008' in DD/MM/YYYY format. Provide format or specify infer_datetime_format=True for consistent parsing.\n",
      "\n",
      "<ipython-input-1108-76e8df3c7752>:2: UserWarning:\n",
      "\n",
      "Parsing '30-09-2008' in DD/MM/YYYY format. Provide format or specify infer_datetime_format=True for consistent parsing.\n",
      "\n",
      "<ipython-input-1108-76e8df3c7752>:2: UserWarning:\n",
      "\n",
      "Parsing '31-10-2008' in DD/MM/YYYY format. Provide format or specify infer_datetime_format=True for consistent parsing.\n",
      "\n",
      "<ipython-input-1108-76e8df3c7752>:2: UserWarning:\n",
      "\n",
      "Parsing '28-11-2008' in DD/MM/YYYY format. Provide format or specify infer_datetime_format=True for consistent parsing.\n",
      "\n",
      "<ipython-input-1108-76e8df3c7752>:2: UserWarning:\n",
      "\n",
      "Parsing '31-12-2008' in DD/MM/YYYY format. Provide format or specify infer_datetime_format=True for consistent parsing.\n",
      "\n",
      "<ipython-input-1108-76e8df3c7752>:2: UserWarning:\n",
      "\n",
      "Parsing '30-01-2009' in DD/MM/YYYY format. Provide format or specify infer_datetime_format=True for consistent parsing.\n",
      "\n",
      "<ipython-input-1108-76e8df3c7752>:2: UserWarning:\n",
      "\n",
      "Parsing '27-02-2009' in DD/MM/YYYY format. Provide format or specify infer_datetime_format=True for consistent parsing.\n",
      "\n",
      "<ipython-input-1108-76e8df3c7752>:2: UserWarning:\n",
      "\n",
      "Parsing '31-03-2009' in DD/MM/YYYY format. Provide format or specify infer_datetime_format=True for consistent parsing.\n",
      "\n",
      "<ipython-input-1108-76e8df3c7752>:2: UserWarning:\n",
      "\n",
      "Parsing '30-04-2009' in DD/MM/YYYY format. Provide format or specify infer_datetime_format=True for consistent parsing.\n",
      "\n",
      "<ipython-input-1108-76e8df3c7752>:2: UserWarning:\n",
      "\n",
      "Parsing '29-05-2009' in DD/MM/YYYY format. Provide format or specify infer_datetime_format=True for consistent parsing.\n",
      "\n",
      "<ipython-input-1108-76e8df3c7752>:2: UserWarning:\n",
      "\n",
      "Parsing '30-06-2009' in DD/MM/YYYY format. Provide format or specify infer_datetime_format=True for consistent parsing.\n",
      "\n",
      "<ipython-input-1108-76e8df3c7752>:2: UserWarning:\n",
      "\n",
      "Parsing '31-07-2009' in DD/MM/YYYY format. Provide format or specify infer_datetime_format=True for consistent parsing.\n",
      "\n",
      "<ipython-input-1108-76e8df3c7752>:2: UserWarning:\n",
      "\n",
      "Parsing '31-08-2009' in DD/MM/YYYY format. Provide format or specify infer_datetime_format=True for consistent parsing.\n",
      "\n",
      "<ipython-input-1108-76e8df3c7752>:2: UserWarning:\n",
      "\n",
      "Parsing '30-09-2009' in DD/MM/YYYY format. Provide format or specify infer_datetime_format=True for consistent parsing.\n",
      "\n",
      "<ipython-input-1108-76e8df3c7752>:2: UserWarning:\n",
      "\n",
      "Parsing '30-10-2009' in DD/MM/YYYY format. Provide format or specify infer_datetime_format=True for consistent parsing.\n",
      "\n",
      "<ipython-input-1108-76e8df3c7752>:2: UserWarning:\n",
      "\n",
      "Parsing '30-11-2009' in DD/MM/YYYY format. Provide format or specify infer_datetime_format=True for consistent parsing.\n",
      "\n",
      "<ipython-input-1108-76e8df3c7752>:2: UserWarning:\n",
      "\n",
      "Parsing '31-12-2009' in DD/MM/YYYY format. Provide format or specify infer_datetime_format=True for consistent parsing.\n",
      "\n",
      "<ipython-input-1108-76e8df3c7752>:2: UserWarning:\n",
      "\n",
      "Parsing '29-01-2010' in DD/MM/YYYY format. Provide format or specify infer_datetime_format=True for consistent parsing.\n",
      "\n",
      "<ipython-input-1108-76e8df3c7752>:2: UserWarning:\n",
      "\n",
      "Parsing '26-02-2010' in DD/MM/YYYY format. Provide format or specify infer_datetime_format=True for consistent parsing.\n",
      "\n",
      "<ipython-input-1108-76e8df3c7752>:2: UserWarning:\n",
      "\n",
      "Parsing '31-03-2010' in DD/MM/YYYY format. Provide format or specify infer_datetime_format=True for consistent parsing.\n",
      "\n",
      "<ipython-input-1108-76e8df3c7752>:2: UserWarning:\n",
      "\n",
      "Parsing '30-04-2010' in DD/MM/YYYY format. Provide format or specify infer_datetime_format=True for consistent parsing.\n",
      "\n",
      "<ipython-input-1108-76e8df3c7752>:2: UserWarning:\n",
      "\n",
      "Parsing '31-05-2010' in DD/MM/YYYY format. Provide format or specify infer_datetime_format=True for consistent parsing.\n",
      "\n",
      "<ipython-input-1108-76e8df3c7752>:2: UserWarning:\n",
      "\n",
      "Parsing '30-06-2010' in DD/MM/YYYY format. Provide format or specify infer_datetime_format=True for consistent parsing.\n",
      "\n",
      "<ipython-input-1108-76e8df3c7752>:2: UserWarning:\n",
      "\n",
      "Parsing '30-07-2010' in DD/MM/YYYY format. Provide format or specify infer_datetime_format=True for consistent parsing.\n",
      "\n",
      "<ipython-input-1108-76e8df3c7752>:2: UserWarning:\n",
      "\n",
      "Parsing '31-08-2010' in DD/MM/YYYY format. Provide format or specify infer_datetime_format=True for consistent parsing.\n",
      "\n",
      "<ipython-input-1108-76e8df3c7752>:2: UserWarning:\n",
      "\n",
      "Parsing '30-09-2010' in DD/MM/YYYY format. Provide format or specify infer_datetime_format=True for consistent parsing.\n",
      "\n",
      "<ipython-input-1108-76e8df3c7752>:2: UserWarning:\n",
      "\n",
      "Parsing '29-10-2010' in DD/MM/YYYY format. Provide format or specify infer_datetime_format=True for consistent parsing.\n",
      "\n",
      "<ipython-input-1108-76e8df3c7752>:2: UserWarning:\n",
      "\n",
      "Parsing '30-11-2010' in DD/MM/YYYY format. Provide format or specify infer_datetime_format=True for consistent parsing.\n",
      "\n",
      "<ipython-input-1108-76e8df3c7752>:2: UserWarning:\n",
      "\n",
      "Parsing '31-12-2010' in DD/MM/YYYY format. Provide format or specify infer_datetime_format=True for consistent parsing.\n",
      "\n",
      "<ipython-input-1108-76e8df3c7752>:2: UserWarning:\n",
      "\n",
      "Parsing '31-01-2011' in DD/MM/YYYY format. Provide format or specify infer_datetime_format=True for consistent parsing.\n",
      "\n",
      "<ipython-input-1108-76e8df3c7752>:2: UserWarning:\n",
      "\n",
      "Parsing '28-02-2011' in DD/MM/YYYY format. Provide format or specify infer_datetime_format=True for consistent parsing.\n",
      "\n",
      "<ipython-input-1108-76e8df3c7752>:2: UserWarning:\n",
      "\n",
      "Parsing '31-03-2011' in DD/MM/YYYY format. Provide format or specify infer_datetime_format=True for consistent parsing.\n",
      "\n",
      "<ipython-input-1108-76e8df3c7752>:2: UserWarning:\n",
      "\n",
      "Parsing '29-04-2011' in DD/MM/YYYY format. Provide format or specify infer_datetime_format=True for consistent parsing.\n",
      "\n",
      "<ipython-input-1108-76e8df3c7752>:2: UserWarning:\n",
      "\n",
      "Parsing '31-05-2011' in DD/MM/YYYY format. Provide format or specify infer_datetime_format=True for consistent parsing.\n",
      "\n",
      "<ipython-input-1108-76e8df3c7752>:2: UserWarning:\n",
      "\n",
      "Parsing '30-06-2011' in DD/MM/YYYY format. Provide format or specify infer_datetime_format=True for consistent parsing.\n",
      "\n",
      "<ipython-input-1108-76e8df3c7752>:2: UserWarning:\n",
      "\n",
      "Parsing '29-07-2011' in DD/MM/YYYY format. Provide format or specify infer_datetime_format=True for consistent parsing.\n",
      "\n",
      "<ipython-input-1108-76e8df3c7752>:2: UserWarning:\n",
      "\n",
      "Parsing '31-08-2011' in DD/MM/YYYY format. Provide format or specify infer_datetime_format=True for consistent parsing.\n",
      "\n",
      "<ipython-input-1108-76e8df3c7752>:2: UserWarning:\n",
      "\n",
      "Parsing '30-09-2011' in DD/MM/YYYY format. Provide format or specify infer_datetime_format=True for consistent parsing.\n",
      "\n",
      "<ipython-input-1108-76e8df3c7752>:2: UserWarning:\n",
      "\n",
      "Parsing '31-10-2011' in DD/MM/YYYY format. Provide format or specify infer_datetime_format=True for consistent parsing.\n",
      "\n",
      "<ipython-input-1108-76e8df3c7752>:2: UserWarning:\n",
      "\n",
      "Parsing '30-11-2011' in DD/MM/YYYY format. Provide format or specify infer_datetime_format=True for consistent parsing.\n",
      "\n",
      "<ipython-input-1108-76e8df3c7752>:2: UserWarning:\n",
      "\n",
      "Parsing '30-12-2011' in DD/MM/YYYY format. Provide format or specify infer_datetime_format=True for consistent parsing.\n",
      "\n",
      "<ipython-input-1108-76e8df3c7752>:2: UserWarning:\n",
      "\n",
      "Parsing '31-01-2012' in DD/MM/YYYY format. Provide format or specify infer_datetime_format=True for consistent parsing.\n",
      "\n",
      "<ipython-input-1108-76e8df3c7752>:2: UserWarning:\n",
      "\n",
      "Parsing '29-02-2012' in DD/MM/YYYY format. Provide format or specify infer_datetime_format=True for consistent parsing.\n",
      "\n",
      "<ipython-input-1108-76e8df3c7752>:2: UserWarning:\n",
      "\n",
      "Parsing '30-03-2012' in DD/MM/YYYY format. Provide format or specify infer_datetime_format=True for consistent parsing.\n",
      "\n",
      "<ipython-input-1108-76e8df3c7752>:2: UserWarning:\n",
      "\n",
      "Parsing '30-04-2012' in DD/MM/YYYY format. Provide format or specify infer_datetime_format=True for consistent parsing.\n",
      "\n",
      "<ipython-input-1108-76e8df3c7752>:2: UserWarning:\n",
      "\n",
      "Parsing '31-05-2012' in DD/MM/YYYY format. Provide format or specify infer_datetime_format=True for consistent parsing.\n",
      "\n",
      "<ipython-input-1108-76e8df3c7752>:2: UserWarning:\n",
      "\n",
      "Parsing '29-06-2012' in DD/MM/YYYY format. Provide format or specify infer_datetime_format=True for consistent parsing.\n",
      "\n",
      "<ipython-input-1108-76e8df3c7752>:2: UserWarning:\n",
      "\n",
      "Parsing '31-07-2012' in DD/MM/YYYY format. Provide format or specify infer_datetime_format=True for consistent parsing.\n",
      "\n",
      "<ipython-input-1108-76e8df3c7752>:2: UserWarning:\n",
      "\n",
      "Parsing '31-08-2012' in DD/MM/YYYY format. Provide format or specify infer_datetime_format=True for consistent parsing.\n",
      "\n",
      "<ipython-input-1108-76e8df3c7752>:2: UserWarning:\n",
      "\n",
      "Parsing '28-09-2012' in DD/MM/YYYY format. Provide format or specify infer_datetime_format=True for consistent parsing.\n",
      "\n",
      "<ipython-input-1108-76e8df3c7752>:2: UserWarning:\n",
      "\n",
      "Parsing '31-10-2012' in DD/MM/YYYY format. Provide format or specify infer_datetime_format=True for consistent parsing.\n",
      "\n",
      "<ipython-input-1108-76e8df3c7752>:2: UserWarning:\n",
      "\n",
      "Parsing '30-11-2012' in DD/MM/YYYY format. Provide format or specify infer_datetime_format=True for consistent parsing.\n",
      "\n",
      "<ipython-input-1108-76e8df3c7752>:2: UserWarning:\n",
      "\n",
      "Parsing '31-12-2012' in DD/MM/YYYY format. Provide format or specify infer_datetime_format=True for consistent parsing.\n",
      "\n",
      "<ipython-input-1108-76e8df3c7752>:2: UserWarning:\n",
      "\n",
      "Parsing '31-01-2013' in DD/MM/YYYY format. Provide format or specify infer_datetime_format=True for consistent parsing.\n",
      "\n",
      "<ipython-input-1108-76e8df3c7752>:2: UserWarning:\n",
      "\n",
      "Parsing '28-02-2013' in DD/MM/YYYY format. Provide format or specify infer_datetime_format=True for consistent parsing.\n",
      "\n",
      "<ipython-input-1108-76e8df3c7752>:2: UserWarning:\n",
      "\n",
      "Parsing '29-03-2013' in DD/MM/YYYY format. Provide format or specify infer_datetime_format=True for consistent parsing.\n",
      "\n",
      "<ipython-input-1108-76e8df3c7752>:2: UserWarning:\n",
      "\n",
      "Parsing '30-04-2013' in DD/MM/YYYY format. Provide format or specify infer_datetime_format=True for consistent parsing.\n",
      "\n",
      "<ipython-input-1108-76e8df3c7752>:2: UserWarning:\n",
      "\n",
      "Parsing '31-05-2013' in DD/MM/YYYY format. Provide format or specify infer_datetime_format=True for consistent parsing.\n",
      "\n",
      "<ipython-input-1108-76e8df3c7752>:2: UserWarning:\n",
      "\n",
      "Parsing '28-06-2013' in DD/MM/YYYY format. Provide format or specify infer_datetime_format=True for consistent parsing.\n",
      "\n",
      "<ipython-input-1108-76e8df3c7752>:2: UserWarning:\n",
      "\n",
      "Parsing '31-07-2013' in DD/MM/YYYY format. Provide format or specify infer_datetime_format=True for consistent parsing.\n",
      "\n",
      "<ipython-input-1108-76e8df3c7752>:2: UserWarning:\n",
      "\n",
      "Parsing '30-08-2013' in DD/MM/YYYY format. Provide format or specify infer_datetime_format=True for consistent parsing.\n",
      "\n",
      "<ipython-input-1108-76e8df3c7752>:2: UserWarning:\n",
      "\n",
      "Parsing '30-09-2013' in DD/MM/YYYY format. Provide format or specify infer_datetime_format=True for consistent parsing.\n",
      "\n",
      "<ipython-input-1108-76e8df3c7752>:2: UserWarning:\n",
      "\n",
      "Parsing '31-10-2013' in DD/MM/YYYY format. Provide format or specify infer_datetime_format=True for consistent parsing.\n",
      "\n",
      "<ipython-input-1108-76e8df3c7752>:2: UserWarning:\n",
      "\n",
      "Parsing '29-11-2013' in DD/MM/YYYY format. Provide format or specify infer_datetime_format=True for consistent parsing.\n",
      "\n",
      "<ipython-input-1108-76e8df3c7752>:2: UserWarning:\n",
      "\n",
      "Parsing '31-12-2013' in DD/MM/YYYY format. Provide format or specify infer_datetime_format=True for consistent parsing.\n",
      "\n",
      "<ipython-input-1108-76e8df3c7752>:2: UserWarning:\n",
      "\n",
      "Parsing '31-01-2014' in DD/MM/YYYY format. Provide format or specify infer_datetime_format=True for consistent parsing.\n",
      "\n",
      "<ipython-input-1108-76e8df3c7752>:2: UserWarning:\n",
      "\n",
      "Parsing '28-02-2014' in DD/MM/YYYY format. Provide format or specify infer_datetime_format=True for consistent parsing.\n",
      "\n",
      "<ipython-input-1108-76e8df3c7752>:2: UserWarning:\n",
      "\n",
      "Parsing '31-03-2014' in DD/MM/YYYY format. Provide format or specify infer_datetime_format=True for consistent parsing.\n",
      "\n",
      "<ipython-input-1108-76e8df3c7752>:2: UserWarning:\n",
      "\n",
      "Parsing '30-04-2014' in DD/MM/YYYY format. Provide format or specify infer_datetime_format=True for consistent parsing.\n",
      "\n",
      "<ipython-input-1108-76e8df3c7752>:2: UserWarning:\n",
      "\n",
      "Parsing '30-05-2014' in DD/MM/YYYY format. Provide format or specify infer_datetime_format=True for consistent parsing.\n",
      "\n",
      "<ipython-input-1108-76e8df3c7752>:2: UserWarning:\n",
      "\n",
      "Parsing '30-06-2014' in DD/MM/YYYY format. Provide format or specify infer_datetime_format=True for consistent parsing.\n",
      "\n",
      "<ipython-input-1108-76e8df3c7752>:2: UserWarning:\n",
      "\n",
      "Parsing '31-07-2014' in DD/MM/YYYY format. Provide format or specify infer_datetime_format=True for consistent parsing.\n",
      "\n",
      "<ipython-input-1108-76e8df3c7752>:2: UserWarning:\n",
      "\n",
      "Parsing '29-08-2014' in DD/MM/YYYY format. Provide format or specify infer_datetime_format=True for consistent parsing.\n",
      "\n",
      "<ipython-input-1108-76e8df3c7752>:2: UserWarning:\n",
      "\n",
      "Parsing '30-09-2014' in DD/MM/YYYY format. Provide format or specify infer_datetime_format=True for consistent parsing.\n",
      "\n",
      "<ipython-input-1108-76e8df3c7752>:2: UserWarning:\n",
      "\n",
      "Parsing '31-10-2014' in DD/MM/YYYY format. Provide format or specify infer_datetime_format=True for consistent parsing.\n",
      "\n",
      "<ipython-input-1108-76e8df3c7752>:2: UserWarning:\n",
      "\n",
      "Parsing '28-11-2014' in DD/MM/YYYY format. Provide format or specify infer_datetime_format=True for consistent parsing.\n",
      "\n",
      "<ipython-input-1108-76e8df3c7752>:2: UserWarning:\n",
      "\n",
      "Parsing '31-12-2014' in DD/MM/YYYY format. Provide format or specify infer_datetime_format=True for consistent parsing.\n",
      "\n",
      "<ipython-input-1108-76e8df3c7752>:2: UserWarning:\n",
      "\n",
      "Parsing '30-01-2015' in DD/MM/YYYY format. Provide format or specify infer_datetime_format=True for consistent parsing.\n",
      "\n",
      "<ipython-input-1108-76e8df3c7752>:2: UserWarning:\n",
      "\n",
      "Parsing '27-02-2015' in DD/MM/YYYY format. Provide format or specify infer_datetime_format=True for consistent parsing.\n",
      "\n",
      "<ipython-input-1108-76e8df3c7752>:2: UserWarning:\n",
      "\n",
      "Parsing '31-03-2015' in DD/MM/YYYY format. Provide format or specify infer_datetime_format=True for consistent parsing.\n",
      "\n",
      "<ipython-input-1108-76e8df3c7752>:2: UserWarning:\n",
      "\n",
      "Parsing '30-04-2015' in DD/MM/YYYY format. Provide format or specify infer_datetime_format=True for consistent parsing.\n",
      "\n",
      "<ipython-input-1108-76e8df3c7752>:2: UserWarning:\n",
      "\n",
      "Parsing '29-05-2015' in DD/MM/YYYY format. Provide format or specify infer_datetime_format=True for consistent parsing.\n",
      "\n",
      "<ipython-input-1108-76e8df3c7752>:2: UserWarning:\n",
      "\n",
      "Parsing '30-06-2015' in DD/MM/YYYY format. Provide format or specify infer_datetime_format=True for consistent parsing.\n",
      "\n",
      "<ipython-input-1108-76e8df3c7752>:2: UserWarning:\n",
      "\n",
      "Parsing '31-07-2015' in DD/MM/YYYY format. Provide format or specify infer_datetime_format=True for consistent parsing.\n",
      "\n",
      "<ipython-input-1108-76e8df3c7752>:2: UserWarning:\n",
      "\n",
      "Parsing '31-08-2015' in DD/MM/YYYY format. Provide format or specify infer_datetime_format=True for consistent parsing.\n",
      "\n",
      "<ipython-input-1108-76e8df3c7752>:2: UserWarning:\n",
      "\n",
      "Parsing '30-09-2015' in DD/MM/YYYY format. Provide format or specify infer_datetime_format=True for consistent parsing.\n",
      "\n",
      "<ipython-input-1108-76e8df3c7752>:2: UserWarning:\n",
      "\n",
      "Parsing '30-10-2015' in DD/MM/YYYY format. Provide format or specify infer_datetime_format=True for consistent parsing.\n",
      "\n",
      "<ipython-input-1108-76e8df3c7752>:2: UserWarning:\n",
      "\n",
      "Parsing '30-11-2015' in DD/MM/YYYY format. Provide format or specify infer_datetime_format=True for consistent parsing.\n",
      "\n",
      "<ipython-input-1108-76e8df3c7752>:2: UserWarning:\n",
      "\n",
      "Parsing '31-12-2015' in DD/MM/YYYY format. Provide format or specify infer_datetime_format=True for consistent parsing.\n",
      "\n",
      "<ipython-input-1108-76e8df3c7752>:2: UserWarning:\n",
      "\n",
      "Parsing '29-01-2016' in DD/MM/YYYY format. Provide format or specify infer_datetime_format=True for consistent parsing.\n",
      "\n",
      "<ipython-input-1108-76e8df3c7752>:2: UserWarning:\n",
      "\n",
      "Parsing '29-02-2016' in DD/MM/YYYY format. Provide format or specify infer_datetime_format=True for consistent parsing.\n",
      "\n",
      "<ipython-input-1108-76e8df3c7752>:2: UserWarning:\n",
      "\n",
      "Parsing '31-03-2016' in DD/MM/YYYY format. Provide format or specify infer_datetime_format=True for consistent parsing.\n",
      "\n",
      "<ipython-input-1108-76e8df3c7752>:2: UserWarning:\n",
      "\n",
      "Parsing '29-04-2016' in DD/MM/YYYY format. Provide format or specify infer_datetime_format=True for consistent parsing.\n",
      "\n",
      "<ipython-input-1108-76e8df3c7752>:2: UserWarning:\n",
      "\n",
      "Parsing '31-05-2016' in DD/MM/YYYY format. Provide format or specify infer_datetime_format=True for consistent parsing.\n",
      "\n",
      "<ipython-input-1108-76e8df3c7752>:2: UserWarning:\n",
      "\n",
      "Parsing '30-06-2016' in DD/MM/YYYY format. Provide format or specify infer_datetime_format=True for consistent parsing.\n",
      "\n",
      "<ipython-input-1108-76e8df3c7752>:2: UserWarning:\n",
      "\n",
      "Parsing '29-07-2016' in DD/MM/YYYY format. Provide format or specify infer_datetime_format=True for consistent parsing.\n",
      "\n",
      "<ipython-input-1108-76e8df3c7752>:2: UserWarning:\n",
      "\n",
      "Parsing '31-08-2016' in DD/MM/YYYY format. Provide format or specify infer_datetime_format=True for consistent parsing.\n",
      "\n",
      "<ipython-input-1108-76e8df3c7752>:2: UserWarning:\n",
      "\n",
      "Parsing '30-09-2016' in DD/MM/YYYY format. Provide format or specify infer_datetime_format=True for consistent parsing.\n",
      "\n",
      "<ipython-input-1108-76e8df3c7752>:2: UserWarning:\n",
      "\n",
      "Parsing '31-10-2016' in DD/MM/YYYY format. Provide format or specify infer_datetime_format=True for consistent parsing.\n",
      "\n",
      "<ipython-input-1108-76e8df3c7752>:2: UserWarning:\n",
      "\n",
      "Parsing '30-11-2016' in DD/MM/YYYY format. Provide format or specify infer_datetime_format=True for consistent parsing.\n",
      "\n",
      "<ipython-input-1108-76e8df3c7752>:2: UserWarning:\n",
      "\n",
      "Parsing '30-12-2016' in DD/MM/YYYY format. Provide format or specify infer_datetime_format=True for consistent parsing.\n",
      "\n",
      "<ipython-input-1108-76e8df3c7752>:2: UserWarning:\n",
      "\n",
      "Parsing '31-01-2017' in DD/MM/YYYY format. Provide format or specify infer_datetime_format=True for consistent parsing.\n",
      "\n",
      "<ipython-input-1108-76e8df3c7752>:2: UserWarning:\n",
      "\n",
      "Parsing '28-02-2017' in DD/MM/YYYY format. Provide format or specify infer_datetime_format=True for consistent parsing.\n",
      "\n",
      "<ipython-input-1108-76e8df3c7752>:2: UserWarning:\n",
      "\n",
      "Parsing '31-03-2017' in DD/MM/YYYY format. Provide format or specify infer_datetime_format=True for consistent parsing.\n",
      "\n",
      "<ipython-input-1108-76e8df3c7752>:2: UserWarning:\n",
      "\n",
      "Parsing '28-04-2017' in DD/MM/YYYY format. Provide format or specify infer_datetime_format=True for consistent parsing.\n",
      "\n",
      "<ipython-input-1108-76e8df3c7752>:2: UserWarning:\n",
      "\n",
      "Parsing '31-05-2017' in DD/MM/YYYY format. Provide format or specify infer_datetime_format=True for consistent parsing.\n",
      "\n",
      "<ipython-input-1108-76e8df3c7752>:2: UserWarning:\n",
      "\n",
      "Parsing '30-06-2017' in DD/MM/YYYY format. Provide format or specify infer_datetime_format=True for consistent parsing.\n",
      "\n",
      "<ipython-input-1108-76e8df3c7752>:2: UserWarning:\n",
      "\n",
      "Parsing '31-07-2017' in DD/MM/YYYY format. Provide format or specify infer_datetime_format=True for consistent parsing.\n",
      "\n",
      "<ipython-input-1108-76e8df3c7752>:2: UserWarning:\n",
      "\n",
      "Parsing '31-08-2017' in DD/MM/YYYY format. Provide format or specify infer_datetime_format=True for consistent parsing.\n",
      "\n",
      "<ipython-input-1108-76e8df3c7752>:2: UserWarning:\n",
      "\n",
      "Parsing '29-09-2017' in DD/MM/YYYY format. Provide format or specify infer_datetime_format=True for consistent parsing.\n",
      "\n",
      "<ipython-input-1108-76e8df3c7752>:2: UserWarning:\n",
      "\n",
      "Parsing '31-10-2017' in DD/MM/YYYY format. Provide format or specify infer_datetime_format=True for consistent parsing.\n",
      "\n",
      "<ipython-input-1108-76e8df3c7752>:2: UserWarning:\n",
      "\n",
      "Parsing '30-11-2017' in DD/MM/YYYY format. Provide format or specify infer_datetime_format=True for consistent parsing.\n",
      "\n",
      "<ipython-input-1108-76e8df3c7752>:2: UserWarning:\n",
      "\n",
      "Parsing '29-12-2017' in DD/MM/YYYY format. Provide format or specify infer_datetime_format=True for consistent parsing.\n",
      "\n",
      "<ipython-input-1108-76e8df3c7752>:2: UserWarning:\n",
      "\n",
      "Parsing '31-01-2018' in DD/MM/YYYY format. Provide format or specify infer_datetime_format=True for consistent parsing.\n",
      "\n",
      "<ipython-input-1108-76e8df3c7752>:2: UserWarning:\n",
      "\n",
      "Parsing '28-02-2018' in DD/MM/YYYY format. Provide format or specify infer_datetime_format=True for consistent parsing.\n",
      "\n",
      "<ipython-input-1108-76e8df3c7752>:2: UserWarning:\n",
      "\n",
      "Parsing '30-03-2018' in DD/MM/YYYY format. Provide format or specify infer_datetime_format=True for consistent parsing.\n",
      "\n",
      "<ipython-input-1108-76e8df3c7752>:2: UserWarning:\n",
      "\n",
      "Parsing '30-04-2018' in DD/MM/YYYY format. Provide format or specify infer_datetime_format=True for consistent parsing.\n",
      "\n",
      "<ipython-input-1108-76e8df3c7752>:2: UserWarning:\n",
      "\n",
      "Parsing '31-05-2018' in DD/MM/YYYY format. Provide format or specify infer_datetime_format=True for consistent parsing.\n",
      "\n",
      "<ipython-input-1108-76e8df3c7752>:2: UserWarning:\n",
      "\n",
      "Parsing '29-06-2018' in DD/MM/YYYY format. Provide format or specify infer_datetime_format=True for consistent parsing.\n",
      "\n",
      "<ipython-input-1108-76e8df3c7752>:2: UserWarning:\n",
      "\n",
      "Parsing '31-07-2018' in DD/MM/YYYY format. Provide format or specify infer_datetime_format=True for consistent parsing.\n",
      "\n",
      "<ipython-input-1108-76e8df3c7752>:2: UserWarning:\n",
      "\n",
      "Parsing '31-08-2018' in DD/MM/YYYY format. Provide format or specify infer_datetime_format=True for consistent parsing.\n",
      "\n",
      "<ipython-input-1108-76e8df3c7752>:2: UserWarning:\n",
      "\n",
      "Parsing '28-09-2018' in DD/MM/YYYY format. Provide format or specify infer_datetime_format=True for consistent parsing.\n",
      "\n",
      "<ipython-input-1108-76e8df3c7752>:2: UserWarning:\n",
      "\n",
      "Parsing '31-10-2018' in DD/MM/YYYY format. Provide format or specify infer_datetime_format=True for consistent parsing.\n",
      "\n",
      "<ipython-input-1108-76e8df3c7752>:2: UserWarning:\n",
      "\n",
      "Parsing '30-11-2018' in DD/MM/YYYY format. Provide format or specify infer_datetime_format=True for consistent parsing.\n",
      "\n",
      "<ipython-input-1108-76e8df3c7752>:2: UserWarning:\n",
      "\n",
      "Parsing '31-12-2018' in DD/MM/YYYY format. Provide format or specify infer_datetime_format=True for consistent parsing.\n",
      "\n",
      "<ipython-input-1108-76e8df3c7752>:2: UserWarning:\n",
      "\n",
      "Parsing '31-01-2019' in DD/MM/YYYY format. Provide format or specify infer_datetime_format=True for consistent parsing.\n",
      "\n",
      "<ipython-input-1108-76e8df3c7752>:2: UserWarning:\n",
      "\n",
      "Parsing '28-02-2019' in DD/MM/YYYY format. Provide format or specify infer_datetime_format=True for consistent parsing.\n",
      "\n",
      "<ipython-input-1108-76e8df3c7752>:2: UserWarning:\n",
      "\n",
      "Parsing '29-03-2019' in DD/MM/YYYY format. Provide format or specify infer_datetime_format=True for consistent parsing.\n",
      "\n",
      "<ipython-input-1108-76e8df3c7752>:2: UserWarning:\n",
      "\n",
      "Parsing '30-04-2019' in DD/MM/YYYY format. Provide format or specify infer_datetime_format=True for consistent parsing.\n",
      "\n",
      "<ipython-input-1108-76e8df3c7752>:2: UserWarning:\n",
      "\n",
      "Parsing '31-05-2019' in DD/MM/YYYY format. Provide format or specify infer_datetime_format=True for consistent parsing.\n",
      "\n",
      "<ipython-input-1108-76e8df3c7752>:2: UserWarning:\n",
      "\n",
      "Parsing '28-06-2019' in DD/MM/YYYY format. Provide format or specify infer_datetime_format=True for consistent parsing.\n",
      "\n",
      "<ipython-input-1108-76e8df3c7752>:2: UserWarning:\n",
      "\n",
      "Parsing '31-07-2019' in DD/MM/YYYY format. Provide format or specify infer_datetime_format=True for consistent parsing.\n",
      "\n",
      "<ipython-input-1108-76e8df3c7752>:2: UserWarning:\n",
      "\n",
      "Parsing '30-08-2019' in DD/MM/YYYY format. Provide format or specify infer_datetime_format=True for consistent parsing.\n",
      "\n",
      "<ipython-input-1108-76e8df3c7752>:2: UserWarning:\n",
      "\n",
      "Parsing '30-09-2019' in DD/MM/YYYY format. Provide format or specify infer_datetime_format=True for consistent parsing.\n",
      "\n",
      "<ipython-input-1108-76e8df3c7752>:2: UserWarning:\n",
      "\n",
      "Parsing '31-10-2019' in DD/MM/YYYY format. Provide format or specify infer_datetime_format=True for consistent parsing.\n",
      "\n",
      "<ipython-input-1108-76e8df3c7752>:2: UserWarning:\n",
      "\n",
      "Parsing '29-11-2019' in DD/MM/YYYY format. Provide format or specify infer_datetime_format=True for consistent parsing.\n",
      "\n",
      "<ipython-input-1108-76e8df3c7752>:2: UserWarning:\n",
      "\n",
      "Parsing '31-12-2019' in DD/MM/YYYY format. Provide format or specify infer_datetime_format=True for consistent parsing.\n",
      "\n",
      "<ipython-input-1108-76e8df3c7752>:2: UserWarning:\n",
      "\n",
      "Parsing '31-01-2020' in DD/MM/YYYY format. Provide format or specify infer_datetime_format=True for consistent parsing.\n",
      "\n",
      "<ipython-input-1108-76e8df3c7752>:2: UserWarning:\n",
      "\n",
      "Parsing '28-02-2020' in DD/MM/YYYY format. Provide format or specify infer_datetime_format=True for consistent parsing.\n",
      "\n",
      "<ipython-input-1108-76e8df3c7752>:2: UserWarning:\n",
      "\n",
      "Parsing '31-03-2020' in DD/MM/YYYY format. Provide format or specify infer_datetime_format=True for consistent parsing.\n",
      "\n",
      "<ipython-input-1108-76e8df3c7752>:2: UserWarning:\n",
      "\n",
      "Parsing '30-04-2020' in DD/MM/YYYY format. Provide format or specify infer_datetime_format=True for consistent parsing.\n",
      "\n",
      "<ipython-input-1108-76e8df3c7752>:2: UserWarning:\n",
      "\n",
      "Parsing '29-05-2020' in DD/MM/YYYY format. Provide format or specify infer_datetime_format=True for consistent parsing.\n",
      "\n",
      "<ipython-input-1108-76e8df3c7752>:2: UserWarning:\n",
      "\n",
      "Parsing '30-06-2020' in DD/MM/YYYY format. Provide format or specify infer_datetime_format=True for consistent parsing.\n",
      "\n",
      "<ipython-input-1108-76e8df3c7752>:2: UserWarning:\n",
      "\n",
      "Parsing '31-07-2020' in DD/MM/YYYY format. Provide format or specify infer_datetime_format=True for consistent parsing.\n",
      "\n",
      "<ipython-input-1108-76e8df3c7752>:2: UserWarning:\n",
      "\n",
      "Parsing '31-08-2020' in DD/MM/YYYY format. Provide format or specify infer_datetime_format=True for consistent parsing.\n",
      "\n",
      "<ipython-input-1108-76e8df3c7752>:2: UserWarning:\n",
      "\n",
      "Parsing '30-09-2020' in DD/MM/YYYY format. Provide format or specify infer_datetime_format=True for consistent parsing.\n",
      "\n",
      "<ipython-input-1108-76e8df3c7752>:2: UserWarning:\n",
      "\n",
      "Parsing '30-10-2020' in DD/MM/YYYY format. Provide format or specify infer_datetime_format=True for consistent parsing.\n",
      "\n",
      "<ipython-input-1108-76e8df3c7752>:2: UserWarning:\n",
      "\n",
      "Parsing '30-11-2020' in DD/MM/YYYY format. Provide format or specify infer_datetime_format=True for consistent parsing.\n",
      "\n",
      "<ipython-input-1108-76e8df3c7752>:2: UserWarning:\n",
      "\n",
      "Parsing '31-12-2020' in DD/MM/YYYY format. Provide format or specify infer_datetime_format=True for consistent parsing.\n",
      "\n",
      "<ipython-input-1108-76e8df3c7752>:2: UserWarning:\n",
      "\n",
      "Parsing '29-01-2021' in DD/MM/YYYY format. Provide format or specify infer_datetime_format=True for consistent parsing.\n",
      "\n",
      "<ipython-input-1108-76e8df3c7752>:2: UserWarning:\n",
      "\n",
      "Parsing '26-02-2021' in DD/MM/YYYY format. Provide format or specify infer_datetime_format=True for consistent parsing.\n",
      "\n",
      "<ipython-input-1108-76e8df3c7752>:2: UserWarning:\n",
      "\n",
      "Parsing '31-03-2021' in DD/MM/YYYY format. Provide format or specify infer_datetime_format=True for consistent parsing.\n",
      "\n",
      "<ipython-input-1108-76e8df3c7752>:2: UserWarning:\n",
      "\n",
      "Parsing '30-04-2021' in DD/MM/YYYY format. Provide format or specify infer_datetime_format=True for consistent parsing.\n",
      "\n",
      "<ipython-input-1108-76e8df3c7752>:2: UserWarning:\n",
      "\n",
      "Parsing '31-05-2021' in DD/MM/YYYY format. Provide format or specify infer_datetime_format=True for consistent parsing.\n",
      "\n",
      "<ipython-input-1108-76e8df3c7752>:2: UserWarning:\n",
      "\n",
      "Parsing '30-06-2021' in DD/MM/YYYY format. Provide format or specify infer_datetime_format=True for consistent parsing.\n",
      "\n",
      "<ipython-input-1108-76e8df3c7752>:2: UserWarning:\n",
      "\n",
      "Parsing '30-07-2021' in DD/MM/YYYY format. Provide format or specify infer_datetime_format=True for consistent parsing.\n",
      "\n",
      "<ipython-input-1108-76e8df3c7752>:2: UserWarning:\n",
      "\n",
      "Parsing '31-08-2021' in DD/MM/YYYY format. Provide format or specify infer_datetime_format=True for consistent parsing.\n",
      "\n",
      "<ipython-input-1108-76e8df3c7752>:2: UserWarning:\n",
      "\n",
      "Parsing '30-09-2021' in DD/MM/YYYY format. Provide format or specify infer_datetime_format=True for consistent parsing.\n",
      "\n",
      "<ipython-input-1108-76e8df3c7752>:2: UserWarning:\n",
      "\n",
      "Parsing '29-10-2021' in DD/MM/YYYY format. Provide format or specify infer_datetime_format=True for consistent parsing.\n",
      "\n",
      "<ipython-input-1108-76e8df3c7752>:2: UserWarning:\n",
      "\n",
      "Parsing '30-11-2021' in DD/MM/YYYY format. Provide format or specify infer_datetime_format=True for consistent parsing.\n",
      "\n",
      "<ipython-input-1108-76e8df3c7752>:2: UserWarning:\n",
      "\n",
      "Parsing '31-12-2021' in DD/MM/YYYY format. Provide format or specify infer_datetime_format=True for consistent parsing.\n",
      "\n",
      "<ipython-input-1108-76e8df3c7752>:2: UserWarning:\n",
      "\n",
      "Parsing '31-01-2022' in DD/MM/YYYY format. Provide format or specify infer_datetime_format=True for consistent parsing.\n",
      "\n",
      "<ipython-input-1108-76e8df3c7752>:2: UserWarning:\n",
      "\n",
      "Parsing '28-02-2022' in DD/MM/YYYY format. Provide format or specify infer_datetime_format=True for consistent parsing.\n",
      "\n",
      "<ipython-input-1108-76e8df3c7752>:2: UserWarning:\n",
      "\n",
      "Parsing '31-03-2022' in DD/MM/YYYY format. Provide format or specify infer_datetime_format=True for consistent parsing.\n",
      "\n"
     ]
    }
   ],
   "source": [
    "#change Date column type to datetime type\n",
    "dff['Date'] = pd.to_datetime(dff['Date'])\n",
    "\n",
    "# check changing type\n",
    "dff['Date'] = pd.to_datetime(dff['Date'], format='%Y-%m-%d')\n",
    "dff.info()\n"
   ]
  },
  {
   "cell_type": "code",
   "execution_count": 1109,
   "metadata": {
    "colab": {
     "base_uri": "https://localhost:8080/",
     "height": 228
    },
    "id": "77UViQKoICD6",
    "outputId": "5749045f-2fa1-4607-8eea-bdd2ccd0bf48"
   },
   "outputs": [
    {
     "data": {
      "text/html": [
       "<div>\n",
       "<style scoped>\n",
       "    .dataframe tbody tr th:only-of-type {\n",
       "        vertical-align: middle;\n",
       "    }\n",
       "\n",
       "    .dataframe tbody tr th {\n",
       "        vertical-align: top;\n",
       "    }\n",
       "\n",
       "    .dataframe thead th {\n",
       "        text-align: right;\n",
       "    }\n",
       "</style>\n",
       "<table border=\"1\" class=\"dataframe\">\n",
       "  <thead>\n",
       "    <tr style=\"text-align: right;\">\n",
       "      <th></th>\n",
       "      <th>Date</th>\n",
       "      <th>United States(USD)</th>\n",
       "      <th>Europe(EUR)</th>\n",
       "      <th>Japan(JPY)</th>\n",
       "      <th>United Kingdom(GBP)</th>\n",
       "      <th>Canada(CAD)</th>\n",
       "      <th>Switzerland(CHF)</th>\n",
       "      <th>India(INR)</th>\n",
       "      <th>China(CNY)</th>\n",
       "      <th>Turkey(TRY)</th>\n",
       "      <th>Saudi Arabia(SAR)</th>\n",
       "      <th>Indonesia(IDR)</th>\n",
       "      <th>United Arab Emirates(AED)</th>\n",
       "      <th>Thailand(THB)</th>\n",
       "      <th>Vietnam(VND)</th>\n",
       "      <th>Egypt(EGP)</th>\n",
       "      <th>South Korean(KRW)</th>\n",
       "      <th>Australia(AUD)</th>\n",
       "      <th>South Africa(ZAR)</th>\n",
       "    </tr>\n",
       "  </thead>\n",
       "  <tbody>\n",
       "    <tr>\n",
       "      <th>385</th>\n",
       "      <td>2022-02-28</td>\n",
       "      <td>1909.85</td>\n",
       "      <td>1700.37</td>\n",
       "      <td>219966.99</td>\n",
       "      <td>1423.40</td>\n",
       "      <td>NaN</td>\n",
       "      <td>NaN</td>\n",
       "      <td>NaN</td>\n",
       "      <td>NaN</td>\n",
       "      <td>NaN</td>\n",
       "      <td>NaN</td>\n",
       "      <td>NaN</td>\n",
       "      <td>NaN</td>\n",
       "      <td>NaN</td>\n",
       "      <td>NaN</td>\n",
       "      <td>NaN</td>\n",
       "      <td>NaN</td>\n",
       "      <td>NaN</td>\n",
       "      <td>NaN</td>\n",
       "    </tr>\n",
       "    <tr>\n",
       "      <th>386</th>\n",
       "      <td>2022-03-31</td>\n",
       "      <td>1942.15</td>\n",
       "      <td>1745.52</td>\n",
       "      <td>235728.44</td>\n",
       "      <td>1475.07</td>\n",
       "      <td>NaN</td>\n",
       "      <td>NaN</td>\n",
       "      <td>NaN</td>\n",
       "      <td>NaN</td>\n",
       "      <td>NaN</td>\n",
       "      <td>NaN</td>\n",
       "      <td>NaN</td>\n",
       "      <td>NaN</td>\n",
       "      <td>NaN</td>\n",
       "      <td>NaN</td>\n",
       "      <td>NaN</td>\n",
       "      <td>NaN</td>\n",
       "      <td>NaN</td>\n",
       "      <td>NaN</td>\n",
       "    </tr>\n",
       "  </tbody>\n",
       "</table>\n",
       "</div>"
      ],
      "text/plain": [
       "          Date  United States(USD)  Europe(EUR)  Japan(JPY)  \\\n",
       "385 2022-02-28             1909.85      1700.37   219966.99   \n",
       "386 2022-03-31             1942.15      1745.52   235728.44   \n",
       "\n",
       "     United Kingdom(GBP)  Canada(CAD)  Switzerland(CHF)  India(INR)  \\\n",
       "385              1423.40          NaN               NaN         NaN   \n",
       "386              1475.07          NaN               NaN         NaN   \n",
       "\n",
       "     China(CNY)  Turkey(TRY)  Saudi Arabia(SAR)  Indonesia(IDR)  \\\n",
       "385         NaN          NaN                NaN             NaN   \n",
       "386         NaN          NaN                NaN             NaN   \n",
       "\n",
       "     United Arab Emirates(AED)  Thailand(THB)  Vietnam(VND)  Egypt(EGP)  \\\n",
       "385                        NaN            NaN           NaN         NaN   \n",
       "386                        NaN            NaN           NaN         NaN   \n",
       "\n",
       "     South Korean(KRW)  Australia(AUD)  South Africa(ZAR)  \n",
       "385                NaN             NaN                NaN  \n",
       "386                NaN             NaN                NaN  "
      ]
     },
     "execution_count": 1109,
     "metadata": {},
     "output_type": "execute_result"
    }
   ],
   "source": [
    "dff.tail(2)"
   ]
  },
  {
   "cell_type": "code",
   "execution_count": 1110,
   "metadata": {},
   "outputs": [
    {
     "data": {
      "text/html": [
       "<div>\n",
       "<style scoped>\n",
       "    .dataframe tbody tr th:only-of-type {\n",
       "        vertical-align: middle;\n",
       "    }\n",
       "\n",
       "    .dataframe tbody tr th {\n",
       "        vertical-align: top;\n",
       "    }\n",
       "\n",
       "    .dataframe thead th {\n",
       "        text-align: right;\n",
       "    }\n",
       "</style>\n",
       "<table border=\"1\" class=\"dataframe\">\n",
       "  <thead>\n",
       "    <tr style=\"text-align: right;\">\n",
       "      <th></th>\n",
       "      <th>Date</th>\n",
       "      <th>United States(USD)</th>\n",
       "      <th>Europe(EUR)</th>\n",
       "      <th>Japan(JPY)</th>\n",
       "      <th>United Kingdom(GBP)</th>\n",
       "      <th>Canada(CAD)</th>\n",
       "      <th>Switzerland(CHF)</th>\n",
       "      <th>India(INR)</th>\n",
       "      <th>China(CNY)</th>\n",
       "      <th>Turkey(TRY)</th>\n",
       "      <th>Saudi Arabia(SAR)</th>\n",
       "      <th>Indonesia(IDR)</th>\n",
       "      <th>United Arab Emirates(AED)</th>\n",
       "      <th>Thailand(THB)</th>\n",
       "      <th>Vietnam(VND)</th>\n",
       "      <th>Egypt(EGP)</th>\n",
       "      <th>South Korean(KRW)</th>\n",
       "      <th>Australia(AUD)</th>\n",
       "      <th>South Africa(ZAR)</th>\n",
       "    </tr>\n",
       "  </thead>\n",
       "  <tbody>\n",
       "    <tr>\n",
       "      <th>385</th>\n",
       "      <td>2022-02-28</td>\n",
       "      <td>1909.85</td>\n",
       "      <td>1700.37</td>\n",
       "      <td>219966.99</td>\n",
       "      <td>1423.40</td>\n",
       "      <td>NaN</td>\n",
       "      <td>NaN</td>\n",
       "      <td>NaN</td>\n",
       "      <td>NaN</td>\n",
       "      <td>NaN</td>\n",
       "      <td>NaN</td>\n",
       "      <td>NaN</td>\n",
       "      <td>NaN</td>\n",
       "      <td>NaN</td>\n",
       "      <td>NaN</td>\n",
       "      <td>NaN</td>\n",
       "      <td>NaN</td>\n",
       "      <td>NaN</td>\n",
       "      <td>NaN</td>\n",
       "    </tr>\n",
       "    <tr>\n",
       "      <th>386</th>\n",
       "      <td>2022-03-31</td>\n",
       "      <td>1942.15</td>\n",
       "      <td>1745.52</td>\n",
       "      <td>235728.44</td>\n",
       "      <td>1475.07</td>\n",
       "      <td>NaN</td>\n",
       "      <td>NaN</td>\n",
       "      <td>NaN</td>\n",
       "      <td>NaN</td>\n",
       "      <td>NaN</td>\n",
       "      <td>NaN</td>\n",
       "      <td>NaN</td>\n",
       "      <td>NaN</td>\n",
       "      <td>NaN</td>\n",
       "      <td>NaN</td>\n",
       "      <td>NaN</td>\n",
       "      <td>NaN</td>\n",
       "      <td>NaN</td>\n",
       "      <td>NaN</td>\n",
       "    </tr>\n",
       "  </tbody>\n",
       "</table>\n",
       "</div>"
      ],
      "text/plain": [
       "          Date  United States(USD)  Europe(EUR)  Japan(JPY)  \\\n",
       "385 2022-02-28             1909.85      1700.37   219966.99   \n",
       "386 2022-03-31             1942.15      1745.52   235728.44   \n",
       "\n",
       "     United Kingdom(GBP)  Canada(CAD)  Switzerland(CHF)  India(INR)  \\\n",
       "385              1423.40          NaN               NaN         NaN   \n",
       "386              1475.07          NaN               NaN         NaN   \n",
       "\n",
       "     China(CNY)  Turkey(TRY)  Saudi Arabia(SAR)  Indonesia(IDR)  \\\n",
       "385         NaN          NaN                NaN             NaN   \n",
       "386         NaN          NaN                NaN             NaN   \n",
       "\n",
       "     United Arab Emirates(AED)  Thailand(THB)  Vietnam(VND)  Egypt(EGP)  \\\n",
       "385                        NaN            NaN           NaN         NaN   \n",
       "386                        NaN            NaN           NaN         NaN   \n",
       "\n",
       "     South Korean(KRW)  Australia(AUD)  South Africa(ZAR)  \n",
       "385                NaN             NaN                NaN  \n",
       "386                NaN             NaN                NaN  "
      ]
     },
     "execution_count": 1110,
     "metadata": {},
     "output_type": "execute_result"
    }
   ],
   "source": [
    "df = dff.copy()\n",
    "df = pd.DataFrame(df.iloc[:387,:])\n",
    "df.tail(2)"
   ]
  },
  {
   "cell_type": "code",
   "execution_count": 1111,
   "metadata": {},
   "outputs": [
    {
     "data": {
      "text/plain": [
       "385    2022\n",
       "386    2022\n",
       "Name: year, dtype: int64"
      ]
     },
     "execution_count": 1111,
     "metadata": {},
     "output_type": "execute_result"
    }
   ],
   "source": [
    "df[\"year\"] = df[\"Date\"].map(lambda x : x.year)\n",
    "df[\"year\"].tail(2)"
   ]
  },
  {
   "cell_type": "code",
   "execution_count": 1112,
   "metadata": {},
   "outputs": [
    {
     "data": {
      "text/html": [
       "<div>\n",
       "<style scoped>\n",
       "    .dataframe tbody tr th:only-of-type {\n",
       "        vertical-align: middle;\n",
       "    }\n",
       "\n",
       "    .dataframe tbody tr th {\n",
       "        vertical-align: top;\n",
       "    }\n",
       "\n",
       "    .dataframe thead th {\n",
       "        text-align: right;\n",
       "    }\n",
       "</style>\n",
       "<table border=\"1\" class=\"dataframe\">\n",
       "  <thead>\n",
       "    <tr style=\"text-align: right;\">\n",
       "      <th></th>\n",
       "      <th>United States(USD)</th>\n",
       "      <th>Europe(EUR)</th>\n",
       "      <th>Japan(JPY)</th>\n",
       "      <th>United Kingdom(GBP)</th>\n",
       "      <th>Canada(CAD)</th>\n",
       "      <th>Switzerland(CHF)</th>\n",
       "      <th>India(INR)</th>\n",
       "      <th>China(CNY)</th>\n",
       "      <th>Turkey(TRY)</th>\n",
       "      <th>Saudi Arabia(SAR)</th>\n",
       "      <th>Indonesia(IDR)</th>\n",
       "      <th>United Arab Emirates(AED)</th>\n",
       "      <th>Thailand(THB)</th>\n",
       "      <th>Vietnam(VND)</th>\n",
       "      <th>Egypt(EGP)</th>\n",
       "      <th>South Korean(KRW)</th>\n",
       "      <th>Australia(AUD)</th>\n",
       "      <th>South Africa(ZAR)</th>\n",
       "    </tr>\n",
       "    <tr>\n",
       "      <th>year</th>\n",
       "      <th></th>\n",
       "      <th></th>\n",
       "      <th></th>\n",
       "      <th></th>\n",
       "      <th></th>\n",
       "      <th></th>\n",
       "      <th></th>\n",
       "      <th></th>\n",
       "      <th></th>\n",
       "      <th></th>\n",
       "      <th></th>\n",
       "      <th></th>\n",
       "      <th></th>\n",
       "      <th></th>\n",
       "      <th></th>\n",
       "      <th></th>\n",
       "      <th></th>\n",
       "      <th></th>\n",
       "    </tr>\n",
       "  </thead>\n",
       "  <tbody>\n",
       "    <tr>\n",
       "      <th>2018</th>\n",
       "      <td>1264.866667</td>\n",
       "      <td>1073.200000</td>\n",
       "      <td>139400.525000</td>\n",
       "      <td>950.275000</td>\n",
       "      <td>1643.350000</td>\n",
       "      <td>1234.941667</td>\n",
       "      <td>86519.350000</td>\n",
       "      <td>8377.750000</td>\n",
       "      <td>6115.70</td>\n",
       "      <td>4743.775000</td>\n",
       "      <td>1.799714e+07</td>\n",
       "      <td>4645.825000</td>\n",
       "      <td>40821.341667</td>\n",
       "      <td>2.913901e+07</td>\n",
       "      <td>22527.275000</td>\n",
       "      <td>1.389624e+06</td>\n",
       "      <td>1698.316667</td>\n",
       "      <td>16742.533333</td>\n",
       "    </tr>\n",
       "    <tr>\n",
       "      <th>2019</th>\n",
       "      <td>1404.341667</td>\n",
       "      <td>1255.833333</td>\n",
       "      <td>152927.841667</td>\n",
       "      <td>1098.041667</td>\n",
       "      <td>1857.083333</td>\n",
       "      <td>1393.683333</td>\n",
       "      <td>98920.283333</td>\n",
       "      <td>9704.325000</td>\n",
       "      <td>7986.00</td>\n",
       "      <td>5266.925000</td>\n",
       "      <td>1.981410e+07</td>\n",
       "      <td>5158.158333</td>\n",
       "      <td>43362.200000</td>\n",
       "      <td>3.262205e+07</td>\n",
       "      <td>23465.091667</td>\n",
       "      <td>1.637101e+06</td>\n",
       "      <td>2020.058333</td>\n",
       "      <td>20266.575000</td>\n",
       "    </tr>\n",
       "    <tr>\n",
       "      <th>2020</th>\n",
       "      <td>1778.666667</td>\n",
       "      <td>1548.633333</td>\n",
       "      <td>188997.100000</td>\n",
       "      <td>1376.175000</td>\n",
       "      <td>2384.141667</td>\n",
       "      <td>1657.916667</td>\n",
       "      <td>131768.833333</td>\n",
       "      <td>12254.083333</td>\n",
       "      <td>12683.85</td>\n",
       "      <td>6673.908333</td>\n",
       "      <td>2.591768e+07</td>\n",
       "      <td>6533.158333</td>\n",
       "      <td>55684.283333</td>\n",
       "      <td>4.133362e+07</td>\n",
       "      <td>28110.533333</td>\n",
       "      <td>2.096114e+06</td>\n",
       "      <td>2566.866667</td>\n",
       "      <td>29497.208333</td>\n",
       "    </tr>\n",
       "    <tr>\n",
       "      <th>2021</th>\n",
       "      <td>1790.962500</td>\n",
       "      <td>1518.224167</td>\n",
       "      <td>197766.160833</td>\n",
       "      <td>1302.617500</td>\n",
       "      <td>2235.028571</td>\n",
       "      <td>1633.242857</td>\n",
       "      <td>131932.385714</td>\n",
       "      <td>11584.214286</td>\n",
       "      <td>14569.10</td>\n",
       "      <td>6726.214286</td>\n",
       "      <td>2.573791e+07</td>\n",
       "      <td>6587.571429</td>\n",
       "      <td>56007.357143</td>\n",
       "      <td>4.130345e+07</td>\n",
       "      <td>28145.971429</td>\n",
       "      <td>2.017087e+06</td>\n",
       "      <td>2353.714286</td>\n",
       "      <td>26145.500000</td>\n",
       "    </tr>\n",
       "    <tr>\n",
       "      <th>2022</th>\n",
       "      <td>1882.416667</td>\n",
       "      <td>1682.453333</td>\n",
       "      <td>220851.036667</td>\n",
       "      <td>1412.186667</td>\n",
       "      <td>NaN</td>\n",
       "      <td>NaN</td>\n",
       "      <td>NaN</td>\n",
       "      <td>NaN</td>\n",
       "      <td>NaN</td>\n",
       "      <td>NaN</td>\n",
       "      <td>NaN</td>\n",
       "      <td>NaN</td>\n",
       "      <td>NaN</td>\n",
       "      <td>NaN</td>\n",
       "      <td>NaN</td>\n",
       "      <td>NaN</td>\n",
       "      <td>NaN</td>\n",
       "      <td>NaN</td>\n",
       "    </tr>\n",
       "  </tbody>\n",
       "</table>\n",
       "</div>"
      ],
      "text/plain": [
       "      United States(USD)  Europe(EUR)     Japan(JPY)  United Kingdom(GBP)  \\\n",
       "year                                                                        \n",
       "2018         1264.866667  1073.200000  139400.525000           950.275000   \n",
       "2019         1404.341667  1255.833333  152927.841667          1098.041667   \n",
       "2020         1778.666667  1548.633333  188997.100000          1376.175000   \n",
       "2021         1790.962500  1518.224167  197766.160833          1302.617500   \n",
       "2022         1882.416667  1682.453333  220851.036667          1412.186667   \n",
       "\n",
       "      Canada(CAD)  Switzerland(CHF)     India(INR)    China(CNY)  Turkey(TRY)  \\\n",
       "year                                                                            \n",
       "2018  1643.350000       1234.941667   86519.350000   8377.750000      6115.70   \n",
       "2019  1857.083333       1393.683333   98920.283333   9704.325000      7986.00   \n",
       "2020  2384.141667       1657.916667  131768.833333  12254.083333     12683.85   \n",
       "2021  2235.028571       1633.242857  131932.385714  11584.214286     14569.10   \n",
       "2022          NaN               NaN            NaN           NaN          NaN   \n",
       "\n",
       "      Saudi Arabia(SAR)  Indonesia(IDR)  United Arab Emirates(AED)  \\\n",
       "year                                                                 \n",
       "2018        4743.775000    1.799714e+07                4645.825000   \n",
       "2019        5266.925000    1.981410e+07                5158.158333   \n",
       "2020        6673.908333    2.591768e+07                6533.158333   \n",
       "2021        6726.214286    2.573791e+07                6587.571429   \n",
       "2022                NaN             NaN                        NaN   \n",
       "\n",
       "      Thailand(THB)  Vietnam(VND)    Egypt(EGP)  South Korean(KRW)  \\\n",
       "year                                                                 \n",
       "2018   40821.341667  2.913901e+07  22527.275000       1.389624e+06   \n",
       "2019   43362.200000  3.262205e+07  23465.091667       1.637101e+06   \n",
       "2020   55684.283333  4.133362e+07  28110.533333       2.096114e+06   \n",
       "2021   56007.357143  4.130345e+07  28145.971429       2.017087e+06   \n",
       "2022            NaN           NaN           NaN                NaN   \n",
       "\n",
       "      Australia(AUD)  South Africa(ZAR)  \n",
       "year                                     \n",
       "2018     1698.316667       16742.533333  \n",
       "2019     2020.058333       20266.575000  \n",
       "2020     2566.866667       29497.208333  \n",
       "2021     2353.714286       26145.500000  \n",
       "2022             NaN                NaN  "
      ]
     },
     "execution_count": 1112,
     "metadata": {},
     "output_type": "execute_result"
    }
   ],
   "source": [
    "df_mean_by_year = pd.DataFrame(df.groupby([\"year\"]).mean())\n",
    "df_mean_by_year.tail()"
   ]
  },
  {
   "cell_type": "code",
   "execution_count": 1113,
   "metadata": {
    "id": "BmCRhqTPQ3v2"
   },
   "outputs": [
    {
     "name": "stdout",
     "output_type": "stream",
     "text": [
      "United States(USD)\n",
      "0\n",
      "Europe(EUR)\n",
      "0\n",
      "Japan(JPY)\n",
      "0\n",
      "United Kingdom(GBP)\n",
      "0\n",
      "Canada(CAD)\n",
      "8\n",
      "Switzerland(CHF)\n",
      "8\n",
      "India(INR)\n",
      "8\n",
      "China(CNY)\n",
      "8\n",
      "Turkey(TRY)\n",
      "8\n",
      "Saudi Arabia(SAR)\n",
      "8\n",
      "Indonesia(IDR)\n",
      "8\n",
      "United Arab Emirates(AED)\n",
      "8\n",
      "Thailand(THB)\n",
      "8\n",
      "Vietnam(VND)\n",
      "8\n",
      "Egypt(EGP)\n",
      "8\n",
      "South Korean(KRW)\n",
      "8\n",
      "Australia(AUD)\n",
      "8\n",
      "South Africa(ZAR)\n",
      "8\n"
     ]
    }
   ],
   "source": [
    "# print(df_mean_by_year.loc[2021,\"United States(USD)\"])\n",
    "\n",
    "for col in df.iloc[:,1:-1].columns:\n",
    "    print(col)\n",
    "    print(df[col].isna().sum())\n",
    "    df[col] = df[col].fillna(value=df_mean_by_year.loc[2021,col])\n",
    "# #filter DataFrame depend on start year and end year\n",
    "# # df[(df['Date'] <= '2015') & (df['Date'] >= '2010')]"
   ]
  },
  {
   "cell_type": "code",
   "execution_count": 1114,
   "metadata": {},
   "outputs": [
    {
     "data": {
      "text/html": [
       "<div>\n",
       "<style scoped>\n",
       "    .dataframe tbody tr th:only-of-type {\n",
       "        vertical-align: middle;\n",
       "    }\n",
       "\n",
       "    .dataframe tbody tr th {\n",
       "        vertical-align: top;\n",
       "    }\n",
       "\n",
       "    .dataframe thead th {\n",
       "        text-align: right;\n",
       "    }\n",
       "</style>\n",
       "<table border=\"1\" class=\"dataframe\">\n",
       "  <thead>\n",
       "    <tr style=\"text-align: right;\">\n",
       "      <th></th>\n",
       "      <th>year</th>\n",
       "      <th>United States(USD)</th>\n",
       "      <th>Europe(EUR)</th>\n",
       "      <th>Japan(JPY)</th>\n",
       "      <th>United Kingdom(GBP)</th>\n",
       "      <th>Canada(CAD)</th>\n",
       "      <th>Switzerland(CHF)</th>\n",
       "      <th>India(INR)</th>\n",
       "      <th>China(CNY)</th>\n",
       "      <th>Turkey(TRY)</th>\n",
       "      <th>Saudi Arabia(SAR)</th>\n",
       "      <th>Indonesia(IDR)</th>\n",
       "      <th>United Arab Emirates(AED)</th>\n",
       "      <th>Thailand(THB)</th>\n",
       "      <th>Vietnam(VND)</th>\n",
       "      <th>Egypt(EGP)</th>\n",
       "      <th>South Korean(KRW)</th>\n",
       "      <th>Australia(AUD)</th>\n",
       "      <th>South Africa(ZAR)</th>\n",
       "    </tr>\n",
       "  </thead>\n",
       "  <tbody>\n",
       "    <tr>\n",
       "      <th>0</th>\n",
       "      <td>1990</td>\n",
       "      <td>382.791667</td>\n",
       "      <td>281.583333</td>\n",
       "      <td>55518.466667</td>\n",
       "      <td>214.291667</td>\n",
       "      <td>447.391667</td>\n",
       "      <td>529.366667</td>\n",
       "      <td>6713.808333</td>\n",
       "      <td>1840.175000</td>\n",
       "      <td>1.008333</td>\n",
       "      <td>1436.316667</td>\n",
       "      <td>708590.600</td>\n",
       "      <td>1406.416667</td>\n",
       "      <td>9750.683333</td>\n",
       "      <td>1.909552e+06</td>\n",
       "      <td>1040.608333</td>\n",
       "      <td>271327.450</td>\n",
       "      <td>491.225000</td>\n",
       "      <td>991.416667</td>\n",
       "    </tr>\n",
       "    <tr>\n",
       "      <th>1</th>\n",
       "      <td>1991</td>\n",
       "      <td>359.433333</td>\n",
       "      <td>276.591667</td>\n",
       "      <td>48245.466667</td>\n",
       "      <td>204.475000</td>\n",
       "      <td>411.791667</td>\n",
       "      <td>517.600000</td>\n",
       "      <td>8201.683333</td>\n",
       "      <td>1916.216667</td>\n",
       "      <td>1.541667</td>\n",
       "      <td>1346.950000</td>\n",
       "      <td>704737.925</td>\n",
       "      <td>1318.675000</td>\n",
       "      <td>9157.425000</td>\n",
       "      <td>3.316319e+06</td>\n",
       "      <td>1170.608333</td>\n",
       "      <td>263775.275</td>\n",
       "      <td>462.041667</td>\n",
       "      <td>995.858333</td>\n",
       "    </tr>\n",
       "  </tbody>\n",
       "</table>\n",
       "</div>"
      ],
      "text/plain": [
       "   year  United States(USD)  Europe(EUR)    Japan(JPY)  United Kingdom(GBP)  \\\n",
       "0  1990          382.791667   281.583333  55518.466667           214.291667   \n",
       "1  1991          359.433333   276.591667  48245.466667           204.475000   \n",
       "\n",
       "   Canada(CAD)  Switzerland(CHF)   India(INR)   China(CNY)  Turkey(TRY)  \\\n",
       "0   447.391667        529.366667  6713.808333  1840.175000     1.008333   \n",
       "1   411.791667        517.600000  8201.683333  1916.216667     1.541667   \n",
       "\n",
       "   Saudi Arabia(SAR)  Indonesia(IDR)  United Arab Emirates(AED)  \\\n",
       "0        1436.316667      708590.600                1406.416667   \n",
       "1        1346.950000      704737.925                1318.675000   \n",
       "\n",
       "   Thailand(THB)  Vietnam(VND)   Egypt(EGP)  South Korean(KRW)  \\\n",
       "0    9750.683333  1.909552e+06  1040.608333         271327.450   \n",
       "1    9157.425000  3.316319e+06  1170.608333         263775.275   \n",
       "\n",
       "   Australia(AUD)  South Africa(ZAR)  \n",
       "0      491.225000         991.416667  \n",
       "1      462.041667         995.858333  "
      ]
     },
     "execution_count": 1114,
     "metadata": {},
     "output_type": "execute_result"
    }
   ],
   "source": [
    "df_mean_by_year.reset_index(inplace=True)\n",
    "df_mean_by_year.head(2)"
   ]
  },
  {
   "cell_type": "code",
   "execution_count": 1115,
   "metadata": {},
   "outputs": [
    {
     "data": {
      "text/html": [
       "<div>\n",
       "<style scoped>\n",
       "    .dataframe tbody tr th:only-of-type {\n",
       "        vertical-align: middle;\n",
       "    }\n",
       "\n",
       "    .dataframe tbody tr th {\n",
       "        vertical-align: top;\n",
       "    }\n",
       "\n",
       "    .dataframe thead th {\n",
       "        text-align: right;\n",
       "    }\n",
       "</style>\n",
       "<table border=\"1\" class=\"dataframe\">\n",
       "  <thead>\n",
       "    <tr style=\"text-align: right;\">\n",
       "      <th></th>\n",
       "      <th>year</th>\n",
       "      <th>United States(USD)</th>\n",
       "      <th>Europe(EUR)</th>\n",
       "      <th>Japan(JPY)</th>\n",
       "      <th>United Kingdom(GBP)</th>\n",
       "      <th>Canada(CAD)</th>\n",
       "      <th>Switzerland(CHF)</th>\n",
       "      <th>India(INR)</th>\n",
       "      <th>China(CNY)</th>\n",
       "      <th>Turkey(TRY)</th>\n",
       "      <th>Saudi Arabia(SAR)</th>\n",
       "      <th>Indonesia(IDR)</th>\n",
       "      <th>United Arab Emirates(AED)</th>\n",
       "      <th>Thailand(THB)</th>\n",
       "      <th>Vietnam(VND)</th>\n",
       "      <th>Egypt(EGP)</th>\n",
       "      <th>South Korean(KRW)</th>\n",
       "      <th>Australia(AUD)</th>\n",
       "      <th>South Africa(ZAR)</th>\n",
       "    </tr>\n",
       "  </thead>\n",
       "  <tbody>\n",
       "    <tr>\n",
       "      <th>28</th>\n",
       "      <td>2018</td>\n",
       "      <td>1345.10</td>\n",
       "      <td>1118.80</td>\n",
       "      <td>146818.90</td>\n",
       "      <td>1004.20</td>\n",
       "      <td>1746.900000</td>\n",
       "      <td>1299.900000</td>\n",
       "      <td>89839.500000</td>\n",
       "      <td>8781.200000</td>\n",
       "      <td>7962.9</td>\n",
       "      <td>5043.900000</td>\n",
       "      <td>1.847028e+07</td>\n",
       "      <td>4940.500000</td>\n",
       "      <td>42127.000000</td>\n",
       "      <td>3.054507e+07</td>\n",
       "      <td>23753.600000</td>\n",
       "      <td>1436311.2</td>\n",
       "      <td>1816.800000</td>\n",
       "      <td>18398.4</td>\n",
       "    </tr>\n",
       "    <tr>\n",
       "      <th>29</th>\n",
       "      <td>2019</td>\n",
       "      <td>1528.40</td>\n",
       "      <td>1387.90</td>\n",
       "      <td>164615.40</td>\n",
       "      <td>1255.00</td>\n",
       "      <td>2030.900000</td>\n",
       "      <td>1512.300000</td>\n",
       "      <td>109139.200000</td>\n",
       "      <td>10920.900000</td>\n",
       "      <td>9014.3</td>\n",
       "      <td>5732.600000</td>\n",
       "      <td>2.168035e+07</td>\n",
       "      <td>5614.000000</td>\n",
       "      <td>46727.000000</td>\n",
       "      <td>3.543748e+07</td>\n",
       "      <td>25295.000000</td>\n",
       "      <td>1851274.4</td>\n",
       "      <td>2268.500000</td>\n",
       "      <td>23206.8</td>\n",
       "    </tr>\n",
       "    <tr>\n",
       "      <th>30</th>\n",
       "      <td>2020</td>\n",
       "      <td>1964.90</td>\n",
       "      <td>1661.70</td>\n",
       "      <td>207748.90</td>\n",
       "      <td>1497.10</td>\n",
       "      <td>2632.000000</td>\n",
       "      <td>1787.500000</td>\n",
       "      <td>146999.100000</td>\n",
       "      <td>13714.000000</td>\n",
       "      <td>15775.6</td>\n",
       "      <td>7369.200000</td>\n",
       "      <td>2.868754e+07</td>\n",
       "      <td>7217.400000</td>\n",
       "      <td>61270.500000</td>\n",
       "      <td>4.553950e+07</td>\n",
       "      <td>31379.500000</td>\n",
       "      <td>2340981.6</td>\n",
       "      <td>2739.900000</td>\n",
       "      <td>33459.8</td>\n",
       "    </tr>\n",
       "    <tr>\n",
       "      <th>31</th>\n",
       "      <td>2021</td>\n",
       "      <td>1900.00</td>\n",
       "      <td>1603.06</td>\n",
       "      <td>207952.67</td>\n",
       "      <td>1363.87</td>\n",
       "      <td>2380.900000</td>\n",
       "      <td>1708.700000</td>\n",
       "      <td>137979.100000</td>\n",
       "      <td>12084.800000</td>\n",
       "      <td>16105.4</td>\n",
       "      <td>7125.400000</td>\n",
       "      <td>2.713129e+07</td>\n",
       "      <td>6978.300000</td>\n",
       "      <td>60007.800000</td>\n",
       "      <td>4.378625e+07</td>\n",
       "      <td>29772.200000</td>\n",
       "      <td>2110939.4</td>\n",
       "      <td>2483.800000</td>\n",
       "      <td>28054.9</td>\n",
       "    </tr>\n",
       "    <tr>\n",
       "      <th>32</th>\n",
       "      <td>2022</td>\n",
       "      <td>1942.15</td>\n",
       "      <td>1745.52</td>\n",
       "      <td>235728.44</td>\n",
       "      <td>1475.07</td>\n",
       "      <td>2235.028571</td>\n",
       "      <td>1633.242857</td>\n",
       "      <td>131932.385714</td>\n",
       "      <td>11584.214286</td>\n",
       "      <td>14569.1</td>\n",
       "      <td>6726.214286</td>\n",
       "      <td>2.573791e+07</td>\n",
       "      <td>6587.571429</td>\n",
       "      <td>56007.357143</td>\n",
       "      <td>4.130345e+07</td>\n",
       "      <td>28145.971429</td>\n",
       "      <td>2017087.1</td>\n",
       "      <td>2353.714286</td>\n",
       "      <td>26145.5</td>\n",
       "    </tr>\n",
       "  </tbody>\n",
       "</table>\n",
       "</div>"
      ],
      "text/plain": [
       "    year  United States(USD)  Europe(EUR)  Japan(JPY)  United Kingdom(GBP)  \\\n",
       "28  2018             1345.10      1118.80   146818.90              1004.20   \n",
       "29  2019             1528.40      1387.90   164615.40              1255.00   \n",
       "30  2020             1964.90      1661.70   207748.90              1497.10   \n",
       "31  2021             1900.00      1603.06   207952.67              1363.87   \n",
       "32  2022             1942.15      1745.52   235728.44              1475.07   \n",
       "\n",
       "    Canada(CAD)  Switzerland(CHF)     India(INR)    China(CNY)  Turkey(TRY)  \\\n",
       "28  1746.900000       1299.900000   89839.500000   8781.200000       7962.9   \n",
       "29  2030.900000       1512.300000  109139.200000  10920.900000       9014.3   \n",
       "30  2632.000000       1787.500000  146999.100000  13714.000000      15775.6   \n",
       "31  2380.900000       1708.700000  137979.100000  12084.800000      16105.4   \n",
       "32  2235.028571       1633.242857  131932.385714  11584.214286      14569.1   \n",
       "\n",
       "    Saudi Arabia(SAR)  Indonesia(IDR)  United Arab Emirates(AED)  \\\n",
       "28        5043.900000    1.847028e+07                4940.500000   \n",
       "29        5732.600000    2.168035e+07                5614.000000   \n",
       "30        7369.200000    2.868754e+07                7217.400000   \n",
       "31        7125.400000    2.713129e+07                6978.300000   \n",
       "32        6726.214286    2.573791e+07                6587.571429   \n",
       "\n",
       "    Thailand(THB)  Vietnam(VND)    Egypt(EGP)  South Korean(KRW)  \\\n",
       "28   42127.000000  3.054507e+07  23753.600000          1436311.2   \n",
       "29   46727.000000  3.543748e+07  25295.000000          1851274.4   \n",
       "30   61270.500000  4.553950e+07  31379.500000          2340981.6   \n",
       "31   60007.800000  4.378625e+07  29772.200000          2110939.4   \n",
       "32   56007.357143  4.130345e+07  28145.971429          2017087.1   \n",
       "\n",
       "    Australia(AUD)  South Africa(ZAR)  \n",
       "28     1816.800000            18398.4  \n",
       "29     2268.500000            23206.8  \n",
       "30     2739.900000            33459.8  \n",
       "31     2483.800000            28054.9  \n",
       "32     2353.714286            26145.5  "
      ]
     },
     "execution_count": 1115,
     "metadata": {},
     "output_type": "execute_result"
    }
   ],
   "source": [
    "df_max_by_year = pd.DataFrame(df.groupby([\"year\"]).max())\n",
    "df_max_by_year.reset_index(inplace=True)\n",
    "df_max_by_year.drop(\"Date\",axis=1,inplace=True)\n",
    "df_max_by_year.tail()"
   ]
  },
  {
   "cell_type": "code",
   "execution_count": 1116,
   "metadata": {},
   "outputs": [
    {
     "data": {
      "text/html": [
       "<div>\n",
       "<style scoped>\n",
       "    .dataframe tbody tr th:only-of-type {\n",
       "        vertical-align: middle;\n",
       "    }\n",
       "\n",
       "    .dataframe tbody tr th {\n",
       "        vertical-align: top;\n",
       "    }\n",
       "\n",
       "    .dataframe thead th {\n",
       "        text-align: right;\n",
       "    }\n",
       "</style>\n",
       "<table border=\"1\" class=\"dataframe\">\n",
       "  <thead>\n",
       "    <tr style=\"text-align: right;\">\n",
       "      <th></th>\n",
       "      <th>Date</th>\n",
       "      <th>United States(USD)</th>\n",
       "      <th>Europe(EUR)</th>\n",
       "      <th>Japan(JPY)</th>\n",
       "      <th>United Kingdom(GBP)</th>\n",
       "      <th>Canada(CAD)</th>\n",
       "      <th>Switzerland(CHF)</th>\n",
       "      <th>India(INR)</th>\n",
       "      <th>China(CNY)</th>\n",
       "      <th>Turkey(TRY)</th>\n",
       "      <th>Saudi Arabia(SAR)</th>\n",
       "      <th>Indonesia(IDR)</th>\n",
       "      <th>United Arab Emirates(AED)</th>\n",
       "      <th>Thailand(THB)</th>\n",
       "      <th>Vietnam(VND)</th>\n",
       "      <th>Egypt(EGP)</th>\n",
       "      <th>South Korean(KRW)</th>\n",
       "      <th>Australia(AUD)</th>\n",
       "      <th>South Africa(ZAR)</th>\n",
       "      <th>year</th>\n",
       "    </tr>\n",
       "  </thead>\n",
       "  <tbody>\n",
       "    <tr>\n",
       "      <th>385</th>\n",
       "      <td>2022-02-28</td>\n",
       "      <td>1909.85</td>\n",
       "      <td>1700.37</td>\n",
       "      <td>219966.99</td>\n",
       "      <td>1423.40</td>\n",
       "      <td>2235.028571</td>\n",
       "      <td>1633.242857</td>\n",
       "      <td>131932.385714</td>\n",
       "      <td>11584.214286</td>\n",
       "      <td>14569.1</td>\n",
       "      <td>6726.214286</td>\n",
       "      <td>2.573791e+07</td>\n",
       "      <td>6587.571429</td>\n",
       "      <td>56007.357143</td>\n",
       "      <td>4.130345e+07</td>\n",
       "      <td>28145.971429</td>\n",
       "      <td>2017087.1</td>\n",
       "      <td>2353.714286</td>\n",
       "      <td>26145.5</td>\n",
       "      <td>2022</td>\n",
       "    </tr>\n",
       "    <tr>\n",
       "      <th>386</th>\n",
       "      <td>2022-03-31</td>\n",
       "      <td>1942.15</td>\n",
       "      <td>1745.52</td>\n",
       "      <td>235728.44</td>\n",
       "      <td>1475.07</td>\n",
       "      <td>2235.028571</td>\n",
       "      <td>1633.242857</td>\n",
       "      <td>131932.385714</td>\n",
       "      <td>11584.214286</td>\n",
       "      <td>14569.1</td>\n",
       "      <td>6726.214286</td>\n",
       "      <td>2.573791e+07</td>\n",
       "      <td>6587.571429</td>\n",
       "      <td>56007.357143</td>\n",
       "      <td>4.130345e+07</td>\n",
       "      <td>28145.971429</td>\n",
       "      <td>2017087.1</td>\n",
       "      <td>2353.714286</td>\n",
       "      <td>26145.5</td>\n",
       "      <td>2022</td>\n",
       "    </tr>\n",
       "  </tbody>\n",
       "</table>\n",
       "</div>"
      ],
      "text/plain": [
       "          Date  United States(USD)  Europe(EUR)  Japan(JPY)  \\\n",
       "385 2022-02-28             1909.85      1700.37   219966.99   \n",
       "386 2022-03-31             1942.15      1745.52   235728.44   \n",
       "\n",
       "     United Kingdom(GBP)  Canada(CAD)  Switzerland(CHF)     India(INR)  \\\n",
       "385              1423.40  2235.028571       1633.242857  131932.385714   \n",
       "386              1475.07  2235.028571       1633.242857  131932.385714   \n",
       "\n",
       "       China(CNY)  Turkey(TRY)  Saudi Arabia(SAR)  Indonesia(IDR)  \\\n",
       "385  11584.214286      14569.1        6726.214286    2.573791e+07   \n",
       "386  11584.214286      14569.1        6726.214286    2.573791e+07   \n",
       "\n",
       "     United Arab Emirates(AED)  Thailand(THB)  Vietnam(VND)    Egypt(EGP)  \\\n",
       "385                6587.571429   56007.357143  4.130345e+07  28145.971429   \n",
       "386                6587.571429   56007.357143  4.130345e+07  28145.971429   \n",
       "\n",
       "     South Korean(KRW)  Australia(AUD)  South Africa(ZAR)  year  \n",
       "385          2017087.1     2353.714286            26145.5  2022  \n",
       "386          2017087.1     2353.714286            26145.5  2022  "
      ]
     },
     "execution_count": 1116,
     "metadata": {},
     "output_type": "execute_result"
    }
   ],
   "source": [
    "df.tail(2)"
   ]
  },
  {
   "cell_type": "code",
   "execution_count": 1117,
   "metadata": {
    "id": "jO9BwHfHfP6K"
   },
   "outputs": [
    {
     "data": {
      "text/plain": [
       "['United States(USD)',\n",
       " 'Europe(EUR)',\n",
       " 'Japan(JPY)',\n",
       " 'United Kingdom(GBP)',\n",
       " 'Canada(CAD)',\n",
       " 'Switzerland(CHF)',\n",
       " 'India(INR)',\n",
       " 'China(CNY)',\n",
       " 'Turkey(TRY)',\n",
       " 'Saudi Arabia(SAR)',\n",
       " 'Indonesia(IDR)',\n",
       " 'United Arab Emirates(AED)',\n",
       " 'Thailand(THB)',\n",
       " 'Vietnam(VND)',\n",
       " 'Egypt(EGP)',\n",
       " 'South Korean(KRW)',\n",
       " 'Australia(AUD)',\n",
       " 'South Africa(ZAR)']"
      ]
     },
     "execution_count": 1117,
     "metadata": {},
     "output_type": "execute_result"
    }
   ],
   "source": [
    "# List of currencies \n",
    "currency = list(df.iloc[:,1:-1].columns)\n",
    "currency"
   ]
  },
  {
   "cell_type": "code",
   "execution_count": 1118,
   "metadata": {
    "colab": {
     "base_uri": "https://localhost:8080/"
    },
    "id": "2CqHEGGviVl4",
    "outputId": "c91822e5-21bf-40ee-99ff-ac2b02a27ea8"
   },
   "outputs": [
    {
     "data": {
      "text/plain": [
       "['United States(USD)', 'Europe(EUR)']"
      ]
     },
     "execution_count": 1118,
     "metadata": {},
     "output_type": "execute_result"
    }
   ],
   "source": [
    "currency[0:2]"
   ]
  },
  {
   "cell_type": "code",
   "execution_count": 1119,
   "metadata": {},
   "outputs": [
    {
     "data": {
      "text/plain": [
       "0      1990\n",
       "1      1990\n",
       "2      1990\n",
       "3      1990\n",
       "4      1990\n",
       "       ... \n",
       "382    2021\n",
       "383    2021\n",
       "384    2022\n",
       "385    2022\n",
       "386    2022\n",
       "Name: year, Length: 387, dtype: int64"
      ]
     },
     "execution_count": 1119,
     "metadata": {},
     "output_type": "execute_result"
    }
   ],
   "source": [
    "# years = pd.to_datetime(df['Date']).dt.year\n",
    "years = df[\"year\"]\n",
    "years"
   ]
  },
  {
   "cell_type": "code",
   "execution_count": 1120,
   "metadata": {},
   "outputs": [
    {
     "data": {
      "text/plain": [
       "[1990,\n",
       " 1991,\n",
       " 1992,\n",
       " 1993,\n",
       " 1994,\n",
       " 1995,\n",
       " 1996,\n",
       " 1997,\n",
       " 1998,\n",
       " 1999,\n",
       " 2000,\n",
       " 2001,\n",
       " 2002,\n",
       " 2003,\n",
       " 2004,\n",
       " 2005,\n",
       " 2006,\n",
       " 2007,\n",
       " 2008,\n",
       " 2009,\n",
       " 2010,\n",
       " 2011,\n",
       " 2012,\n",
       " 2013,\n",
       " 2014,\n",
       " 2015,\n",
       " 2016,\n",
       " 2017,\n",
       " 2018,\n",
       " 2019,\n",
       " 2020,\n",
       " 2021,\n",
       " 2022]"
      ]
     },
     "execution_count": 1120,
     "metadata": {},
     "output_type": "execute_result"
    }
   ],
   "source": [
    "years=list(years.unique())\n",
    "years"
   ]
  },
  {
   "cell_type": "code",
   "execution_count": 1121,
   "metadata": {},
   "outputs": [],
   "source": [
    "colors = {\n",
    "    'background': '#111111',\n",
    "    'text': 'Gold'\n",
    "}"
   ]
  },
  {
   "cell_type": "code",
   "execution_count": 1122,
   "metadata": {},
   "outputs": [
    {
     "data": {
      "text/plain": [
       "0     1990-01-31\n",
       "1     1990-02-28\n",
       "2     1990-03-30\n",
       "3     1990-04-30\n",
       "4     1990-05-31\n",
       "         ...    \n",
       "382   2021-11-30\n",
       "383   2021-12-31\n",
       "384   2022-01-31\n",
       "385   2022-02-28\n",
       "386   2022-03-31\n",
       "Name: Date, Length: 387, dtype: datetime64[ns]"
      ]
     },
     "execution_count": 1122,
     "metadata": {},
     "output_type": "execute_result"
    }
   ],
   "source": [
    "df[\"Date\"]"
   ]
  },
  {
   "cell_type": "code",
   "execution_count": 1123,
   "metadata": {
    "colab": {
     "base_uri": "https://localhost:8080/",
     "height": 542
    },
    "id": "ttn_k-yWRHl9",
    "outputId": "91270cc0-041a-4a91-f272-b49945472efe"
   },
   "outputs": [
    {
     "data": {
      "application/vnd.plotly.v1+json": {
       "config": {
        "plotlyServerURL": "https://plot.ly"
       },
       "data": [
        {
         "alignmentgroup": "True",
         "hovertemplate": "variable=United States(USD)<br>year=%{x}<br>value=%{y}<extra></extra>",
         "legendgroup": "United States(USD)",
         "marker": {
          "color": "#636efa",
          "pattern": {
           "shape": ""
          }
         },
         "name": "United States(USD)",
         "offsetgroup": "United States(USD)",
         "orientation": "v",
         "showlegend": true,
         "textposition": "auto",
         "type": "bar",
         "x": [
          2000,
          2001,
          2002,
          2003,
          2004,
          2005,
          2006,
          2007,
          2008,
          2009
         ],
         "xaxis": "x",
         "y": [
          277.0833333333333,
          271.0833333333333,
          313.19166666666666,
          367.7916666666667,
          410.5,
          448.9666666666667,
          612.9250000000001,
          704.1999999999999,
          880.5,
          981.2416666666667
         ],
         "yaxis": "y"
        },
        {
         "alignmentgroup": "True",
         "hovertemplate": "variable=Europe(EUR)<br>year=%{x}<br>value=%{y}<extra></extra>",
         "legendgroup": "Europe(EUR)",
         "marker": {
          "color": "#EF553B",
          "pattern": {
           "shape": ""
          }
         },
         "name": "Europe(EUR)",
         "offsetgroup": "Europe(EUR)",
         "orientation": "v",
         "showlegend": true,
         "textposition": "auto",
         "type": "bar",
         "x": [
          2000,
          2001,
          2002,
          2003,
          2004,
          2005,
          2006,
          2007,
          2008,
          2009
         ],
         "xaxis": "x",
         "y": [
          301.1416666666667,
          304.31666666666666,
          329.9583333333333,
          322.2583333333333,
          328.975,
          363.4583333333333,
          484.26666666666665,
          509.9583333333333,
          600.025,
          702.8916666666668
         ],
         "yaxis": "y"
        },
        {
         "alignmentgroup": "True",
         "hovertemplate": "variable=Japan(JPY)<br>year=%{x}<br>value=%{y}<extra></extra>",
         "legendgroup": "Japan(JPY)",
         "marker": {
          "color": "#00cc96",
          "pattern": {
           "shape": ""
          }
         },
         "name": "Japan(JPY)",
         "offsetgroup": "Japan(JPY)",
         "orientation": "v",
         "showlegend": true,
         "textposition": "auto",
         "type": "bar",
         "x": [
          2000,
          2001,
          2002,
          2003,
          2004,
          2005,
          2006,
          2007,
          2008,
          2009
         ],
         "xaxis": "x",
         "y": [
          29997.208333333332,
          33105.6,
          38984.23333333333,
          42535.558333333334,
          44144.049999999996,
          49846.15833333333,
          71135.375,
          82558.60833333334,
          90598.11666666665,
          91689.80833333333
         ],
         "yaxis": "y"
        },
        {
         "alignmentgroup": "True",
         "hovertemplate": "variable=United Kingdom(GBP)<br>year=%{x}<br>value=%{y}<extra></extra>",
         "legendgroup": "United Kingdom(GBP)",
         "marker": {
          "color": "#ab63fa",
          "pattern": {
           "shape": ""
          }
         },
         "name": "United Kingdom(GBP)",
         "offsetgroup": "United Kingdom(GBP)",
         "orientation": "v",
         "showlegend": true,
         "textposition": "auto",
         "type": "bar",
         "x": [
          2000,
          2001,
          2002,
          2003,
          2004,
          2005,
          2006,
          2007,
          2008,
          2009
         ],
         "xaxis": "x",
         "y": [
          183.20833333333334,
          188.40833333333333,
          207.61666666666667,
          223.36666666666667,
          223.58333333333334,
          248.225,
          330.30833333333334,
          350.825,
          481.84999999999997,
          625.8
         ],
         "yaxis": "y"
        },
        {
         "alignmentgroup": "True",
         "hovertemplate": "variable=Canada(CAD)<br>year=%{x}<br>value=%{y}<extra></extra>",
         "legendgroup": "Canada(CAD)",
         "marker": {
          "color": "#FFA15A",
          "pattern": {
           "shape": ""
          }
         },
         "name": "Canada(CAD)",
         "offsetgroup": "Canada(CAD)",
         "orientation": "v",
         "showlegend": true,
         "textposition": "auto",
         "type": "bar",
         "x": [
          2000,
          2001,
          2002,
          2003,
          2004,
          2005,
          2006,
          2007,
          2008,
          2009
         ],
         "xaxis": "x",
         "y": [
          411.825,
          420.76666666666665,
          491.825,
          510.9666666666667,
          532.025,
          541.8333333333334,
          692.5583333333334,
          747.5583333333334,
          939.9416666666666,
          1111.4916666666666
         ],
         "yaxis": "y"
        },
        {
         "alignmentgroup": "True",
         "hovertemplate": "variable=Switzerland(CHF)<br>year=%{x}<br>value=%{y}<extra></extra>",
         "legendgroup": "Switzerland(CHF)",
         "marker": {
          "color": "#19d3f3",
          "pattern": {
           "shape": ""
          }
         },
         "name": "Switzerland(CHF)",
         "offsetgroup": "Switzerland(CHF)",
         "orientation": "v",
         "showlegend": true,
         "textposition": "auto",
         "type": "bar",
         "x": [
          2000,
          2001,
          2002,
          2003,
          2004,
          2005,
          2006,
          2007,
          2008,
          2009
         ],
         "xaxis": "x",
         "y": [
          468.68333333333334,
          458.825,
          483.34999999999997,
          491.125,
          507.89166666666665,
          562.6916666666667,
          763.3833333333333,
          839.7583333333333,
          946.35,
          1058.7416666666666
         ],
         "yaxis": "y"
        },
        {
         "alignmentgroup": "True",
         "hovertemplate": "variable=India(INR)<br>year=%{x}<br>value=%{y}<extra></extra>",
         "legendgroup": "India(INR)",
         "marker": {
          "color": "#FF6692",
          "pattern": {
           "shape": ""
          }
         },
         "name": "India(INR)",
         "offsetgroup": "India(INR)",
         "orientation": "v",
         "showlegend": true,
         "textposition": "auto",
         "type": "bar",
         "x": [
          2000,
          2001,
          2002,
          2003,
          2004,
          2005,
          2006,
          2007,
          2008,
          2009
         ],
         "xaxis": "x",
         "y": [
          12482.783333333333,
          12805.925000000001,
          15210.158333333333,
          17092.175,
          18524.225000000002,
          19816.7,
          27764.925,
          28911.933333333334,
          38510.25,
          47397.4
         ],
         "yaxis": "y"
        },
        {
         "alignmentgroup": "True",
         "hovertemplate": "variable=China(CNY)<br>year=%{x}<br>value=%{y}<extra></extra>",
         "legendgroup": "China(CNY)",
         "marker": {
          "color": "#B6E880",
          "pattern": {
           "shape": ""
          }
         },
         "name": "China(CNY)",
         "offsetgroup": "China(CNY)",
         "orientation": "v",
         "showlegend": true,
         "textposition": "auto",
         "type": "bar",
         "x": [
          2000,
          2001,
          2002,
          2003,
          2004,
          2005,
          2006,
          2007,
          2008,
          2009
         ],
         "xaxis": "x",
         "y": [
          2293.5333333333333,
          2243.758333333333,
          2592.1833333333334,
          3043.991666666667,
          3397.3916666666664,
          3671.4083333333333,
          4876.116666666667,
          5332.308333333333,
          6101.525000000001,
          6701.974999999999
         ],
         "yaxis": "y"
        },
        {
         "alignmentgroup": "True",
         "hovertemplate": "variable=Turkey(TRY)<br>year=%{x}<br>value=%{y}<extra></extra>",
         "legendgroup": "Turkey(TRY)",
         "marker": {
          "color": "#FF97FF",
          "pattern": {
           "shape": ""
          }
         },
         "name": "Turkey(TRY)",
         "offsetgroup": "Turkey(TRY)",
         "orientation": "v",
         "showlegend": true,
         "textposition": "auto",
         "type": "bar",
         "x": [
          2000,
          2001,
          2002,
          2003,
          2004,
          2005,
          2006,
          2007,
          2008,
          2009
         ],
         "xaxis": "x",
         "y": [
          174.36666666666667,
          340.7416666666667,
          478.25,
          548.6166666666667,
          585.275,
          603.1,
          883.3583333333332,
          905.9499999999999,
          1145.2583333333334,
          1525.3833333333332
         ],
         "yaxis": "y"
        },
        {
         "alignmentgroup": "True",
         "hovertemplate": "variable=Saudi Arabia(SAR)<br>year=%{x}<br>value=%{y}<extra></extra>",
         "legendgroup": "Saudi Arabia(SAR)",
         "marker": {
          "color": "#FECB52",
          "pattern": {
           "shape": ""
          }
         },
         "name": "Saudi Arabia(SAR)",
         "offsetgroup": "Saudi Arabia(SAR)",
         "orientation": "v",
         "showlegend": true,
         "textposition": "auto",
         "type": "bar",
         "x": [
          2000,
          2001,
          2002,
          2003,
          2004,
          2005,
          2006,
          2007,
          2008,
          2009
         ],
         "xaxis": "x",
         "y": [
          1039.1083333333333,
          1016.6333333333333,
          1174.5083333333334,
          1379.2,
          1539.375,
          1683.7333333333333,
          2298.641666666667,
          2637.5833333333335,
          3302.7166666666667,
          3680.0333333333333
         ],
         "yaxis": "y"
        },
        {
         "alignmentgroup": "True",
         "hovertemplate": "variable=Indonesia(IDR)<br>year=%{x}<br>value=%{y}<extra></extra>",
         "legendgroup": "Indonesia(IDR)",
         "marker": {
          "color": "#636efa",
          "pattern": {
           "shape": ""
          }
         },
         "name": "Indonesia(IDR)",
         "offsetgroup": "Indonesia(IDR)",
         "orientation": "v",
         "showlegend": true,
         "textposition": "auto",
         "type": "bar",
         "x": [
          2000,
          2001,
          2002,
          2003,
          2004,
          2005,
          2006,
          2007,
          2008,
          2009
         ],
         "xaxis": "x",
         "y": [
          2356863.341666667,
          2782648.033333333,
          2893066.225,
          3145354.033333333,
          3694548.0666666664,
          4386690.433333334,
          5597568.016666667,
          6455501.625,
          8529015.158333333,
          10102145.85
         ],
         "yaxis": "y"
        },
        {
         "alignmentgroup": "True",
         "hovertemplate": "variable=United Arab Emirates(AED)<br>year=%{x}<br>value=%{y}<extra></extra>",
         "legendgroup": "United Arab Emirates(AED)",
         "marker": {
          "color": "#EF553B",
          "pattern": {
           "shape": ""
          }
         },
         "name": "United Arab Emirates(AED)",
         "offsetgroup": "United Arab Emirates(AED)",
         "orientation": "v",
         "showlegend": true,
         "textposition": "auto",
         "type": "bar",
         "x": [
          2000,
          2001,
          2002,
          2003,
          2004,
          2005,
          2006,
          2007,
          2008,
          2009
         ],
         "xaxis": "x",
         "y": [
          1017.6083333333332,
          995.6583333333333,
          1150.3166666666668,
          1350.7749999999999,
          1507.675,
          1648.8833333333332,
          2251.1583333333333,
          2584.9666666666667,
          3233.8250000000003,
          3604.0750000000003
         ],
         "yaxis": "y"
        },
        {
         "alignmentgroup": "True",
         "hovertemplate": "variable=Thailand(THB)<br>year=%{x}<br>value=%{y}<extra></extra>",
         "legendgroup": "Thailand(THB)",
         "marker": {
          "color": "#00cc96",
          "pattern": {
           "shape": ""
          }
         },
         "name": "Thailand(THB)",
         "offsetgroup": "Thailand(THB)",
         "orientation": "v",
         "showlegend": true,
         "textposition": "auto",
         "type": "bar",
         "x": [
          2000,
          2001,
          2002,
          2003,
          2004,
          2005,
          2006,
          2007,
          2008,
          2009
         ],
         "xaxis": "x",
         "y": [
          11196.483333333332,
          12060.133333333333,
          13455.558333333334,
          15219.641666666668,
          16515.533333333333,
          18135.191666666666,
          23101.033333333336,
          24131.708333333332,
          29330.016666666666,
          33617.38333333333
         ],
         "yaxis": "y"
        },
        {
         "alignmentgroup": "True",
         "hovertemplate": "variable=Vietnam(VND)<br>year=%{x}<br>value=%{y}<extra></extra>",
         "legendgroup": "Vietnam(VND)",
         "marker": {
          "color": "#ab63fa",
          "pattern": {
           "shape": ""
          }
         },
         "name": "Vietnam(VND)",
         "offsetgroup": "Vietnam(VND)",
         "orientation": "v",
         "showlegend": true,
         "textposition": "auto",
         "type": "bar",
         "x": [
          2000,
          2001,
          2002,
          2003,
          2004,
          2005,
          2006,
          2007,
          2008,
          2009
         ],
         "xaxis": "x",
         "y": [
          3929190.475,
          4018955.5,
          4785829.45,
          5709436.008333333,
          6462003.05,
          7120594.875,
          9803563.383333333,
          11321242.608333334,
          14543504.5,
          17549612.941666666
         ],
         "yaxis": "y"
        },
        {
         "alignmentgroup": "True",
         "hovertemplate": "variable=Egypt(EGP)<br>year=%{x}<br>value=%{y}<extra></extra>",
         "legendgroup": "Egypt(EGP)",
         "marker": {
          "color": "#FFA15A",
          "pattern": {
           "shape": ""
          }
         },
         "name": "Egypt(EGP)",
         "offsetgroup": "Egypt(EGP)",
         "orientation": "v",
         "showlegend": true,
         "textposition": "auto",
         "type": "bar",
         "x": [
          2000,
          2001,
          2002,
          2003,
          2004,
          2005,
          2006,
          2007,
          2008,
          2009
         ],
         "xaxis": "x",
         "y": [
          983.2083333333334,
          1104.7083333333333,
          1451.0916666666665,
          2195.258333333333,
          2542.3166666666666,
          2595.4666666666667,
          3517.941666666667,
          3964.0499999999997,
          4788.483333333334,
          5444.616666666667
         ],
         "yaxis": "y"
        },
        {
         "alignmentgroup": "True",
         "hovertemplate": "variable=South Korean(KRW)<br>year=%{x}<br>value=%{y}<extra></extra>",
         "legendgroup": "South Korean(KRW)",
         "marker": {
          "color": "#19d3f3",
          "pattern": {
           "shape": ""
          }
         },
         "name": "South Korean(KRW)",
         "offsetgroup": "South Korean(KRW)",
         "orientation": "v",
         "showlegend": true,
         "textposition": "auto",
         "type": "bar",
         "x": [
          2000,
          2001,
          2002,
          2003,
          2004,
          2005,
          2006,
          2007,
          2008,
          2009
         ],
         "xaxis": "x",
         "y": [
          315569.60833333334,
          350305.51666666666,
          388782.45,
          438364.075,
          466655.52499999997,
          459509.0333333334,
          582483.3666666667,
          653232.8333333334,
          967167.8916666666,
          1243930.25
         ],
         "yaxis": "y"
        },
        {
         "alignmentgroup": "True",
         "hovertemplate": "variable=Australia(AUD)<br>year=%{x}<br>value=%{y}<extra></extra>",
         "legendgroup": "Australia(AUD)",
         "marker": {
          "color": "#FF6692",
          "pattern": {
           "shape": ""
          }
         },
         "name": "Australia(AUD)",
         "offsetgroup": "Australia(AUD)",
         "orientation": "v",
         "showlegend": true,
         "textposition": "auto",
         "type": "bar",
         "x": [
          2000,
          2001,
          2002,
          2003,
          2004,
          2005,
          2006,
          2007,
          2008,
          2009
         ],
         "xaxis": "x",
         "y": [
          482.125,
          529.4166666666666,
          574.5083333333333,
          559.2166666666667,
          555.8166666666667,
          590.35,
          808.65,
          834.0166666666668,
          1049.0833333333333,
          1239
         ],
         "yaxis": "y"
        },
        {
         "alignmentgroup": "True",
         "hovertemplate": "variable=South Africa(ZAR)<br>year=%{x}<br>value=%{y}<extra></extra>",
         "legendgroup": "South Africa(ZAR)",
         "marker": {
          "color": "#B6E880",
          "pattern": {
           "shape": ""
          }
         },
         "name": "South Africa(ZAR)",
         "offsetgroup": "South Africa(ZAR)",
         "orientation": "v",
         "showlegend": true,
         "textposition": "auto",
         "type": "bar",
         "x": [
          2000,
          2001,
          2002,
          2003,
          2004,
          2005,
          2006,
          2007,
          2008,
          2009
         ],
         "xaxis": "x",
         "y": [
          1930.9416666666666,
          2377.8333333333335,
          3226.775,
          2716.9333333333334,
          2617.625,
          2857.616666666667,
          4184.816666666667,
          4937.383333333333,
          7211.925,
          8119.875
         ],
         "yaxis": "y"
        }
       ],
       "layout": {
        "barmode": "relative",
        "legend": {
         "title": {
          "text": "variable"
         },
         "tracegroupgap": 0
        },
        "margin": {
         "t": 60
        },
        "template": {
         "data": {
          "bar": [
           {
            "error_x": {
             "color": "#2a3f5f"
            },
            "error_y": {
             "color": "#2a3f5f"
            },
            "marker": {
             "line": {
              "color": "#E5ECF6",
              "width": 0.5
             },
             "pattern": {
              "fillmode": "overlay",
              "size": 10,
              "solidity": 0.2
             }
            },
            "type": "bar"
           }
          ],
          "barpolar": [
           {
            "marker": {
             "line": {
              "color": "#E5ECF6",
              "width": 0.5
             },
             "pattern": {
              "fillmode": "overlay",
              "size": 10,
              "solidity": 0.2
             }
            },
            "type": "barpolar"
           }
          ],
          "carpet": [
           {
            "aaxis": {
             "endlinecolor": "#2a3f5f",
             "gridcolor": "white",
             "linecolor": "white",
             "minorgridcolor": "white",
             "startlinecolor": "#2a3f5f"
            },
            "baxis": {
             "endlinecolor": "#2a3f5f",
             "gridcolor": "white",
             "linecolor": "white",
             "minorgridcolor": "white",
             "startlinecolor": "#2a3f5f"
            },
            "type": "carpet"
           }
          ],
          "choropleth": [
           {
            "colorbar": {
             "outlinewidth": 0,
             "ticks": ""
            },
            "type": "choropleth"
           }
          ],
          "contour": [
           {
            "colorbar": {
             "outlinewidth": 0,
             "ticks": ""
            },
            "colorscale": [
             [
              0,
              "#0d0887"
             ],
             [
              0.1111111111111111,
              "#46039f"
             ],
             [
              0.2222222222222222,
              "#7201a8"
             ],
             [
              0.3333333333333333,
              "#9c179e"
             ],
             [
              0.4444444444444444,
              "#bd3786"
             ],
             [
              0.5555555555555556,
              "#d8576b"
             ],
             [
              0.6666666666666666,
              "#ed7953"
             ],
             [
              0.7777777777777778,
              "#fb9f3a"
             ],
             [
              0.8888888888888888,
              "#fdca26"
             ],
             [
              1,
              "#f0f921"
             ]
            ],
            "type": "contour"
           }
          ],
          "contourcarpet": [
           {
            "colorbar": {
             "outlinewidth": 0,
             "ticks": ""
            },
            "type": "contourcarpet"
           }
          ],
          "heatmap": [
           {
            "colorbar": {
             "outlinewidth": 0,
             "ticks": ""
            },
            "colorscale": [
             [
              0,
              "#0d0887"
             ],
             [
              0.1111111111111111,
              "#46039f"
             ],
             [
              0.2222222222222222,
              "#7201a8"
             ],
             [
              0.3333333333333333,
              "#9c179e"
             ],
             [
              0.4444444444444444,
              "#bd3786"
             ],
             [
              0.5555555555555556,
              "#d8576b"
             ],
             [
              0.6666666666666666,
              "#ed7953"
             ],
             [
              0.7777777777777778,
              "#fb9f3a"
             ],
             [
              0.8888888888888888,
              "#fdca26"
             ],
             [
              1,
              "#f0f921"
             ]
            ],
            "type": "heatmap"
           }
          ],
          "heatmapgl": [
           {
            "colorbar": {
             "outlinewidth": 0,
             "ticks": ""
            },
            "colorscale": [
             [
              0,
              "#0d0887"
             ],
             [
              0.1111111111111111,
              "#46039f"
             ],
             [
              0.2222222222222222,
              "#7201a8"
             ],
             [
              0.3333333333333333,
              "#9c179e"
             ],
             [
              0.4444444444444444,
              "#bd3786"
             ],
             [
              0.5555555555555556,
              "#d8576b"
             ],
             [
              0.6666666666666666,
              "#ed7953"
             ],
             [
              0.7777777777777778,
              "#fb9f3a"
             ],
             [
              0.8888888888888888,
              "#fdca26"
             ],
             [
              1,
              "#f0f921"
             ]
            ],
            "type": "heatmapgl"
           }
          ],
          "histogram": [
           {
            "marker": {
             "pattern": {
              "fillmode": "overlay",
              "size": 10,
              "solidity": 0.2
             }
            },
            "type": "histogram"
           }
          ],
          "histogram2d": [
           {
            "colorbar": {
             "outlinewidth": 0,
             "ticks": ""
            },
            "colorscale": [
             [
              0,
              "#0d0887"
             ],
             [
              0.1111111111111111,
              "#46039f"
             ],
             [
              0.2222222222222222,
              "#7201a8"
             ],
             [
              0.3333333333333333,
              "#9c179e"
             ],
             [
              0.4444444444444444,
              "#bd3786"
             ],
             [
              0.5555555555555556,
              "#d8576b"
             ],
             [
              0.6666666666666666,
              "#ed7953"
             ],
             [
              0.7777777777777778,
              "#fb9f3a"
             ],
             [
              0.8888888888888888,
              "#fdca26"
             ],
             [
              1,
              "#f0f921"
             ]
            ],
            "type": "histogram2d"
           }
          ],
          "histogram2dcontour": [
           {
            "colorbar": {
             "outlinewidth": 0,
             "ticks": ""
            },
            "colorscale": [
             [
              0,
              "#0d0887"
             ],
             [
              0.1111111111111111,
              "#46039f"
             ],
             [
              0.2222222222222222,
              "#7201a8"
             ],
             [
              0.3333333333333333,
              "#9c179e"
             ],
             [
              0.4444444444444444,
              "#bd3786"
             ],
             [
              0.5555555555555556,
              "#d8576b"
             ],
             [
              0.6666666666666666,
              "#ed7953"
             ],
             [
              0.7777777777777778,
              "#fb9f3a"
             ],
             [
              0.8888888888888888,
              "#fdca26"
             ],
             [
              1,
              "#f0f921"
             ]
            ],
            "type": "histogram2dcontour"
           }
          ],
          "mesh3d": [
           {
            "colorbar": {
             "outlinewidth": 0,
             "ticks": ""
            },
            "type": "mesh3d"
           }
          ],
          "parcoords": [
           {
            "line": {
             "colorbar": {
              "outlinewidth": 0,
              "ticks": ""
             }
            },
            "type": "parcoords"
           }
          ],
          "pie": [
           {
            "automargin": true,
            "type": "pie"
           }
          ],
          "scatter": [
           {
            "marker": {
             "colorbar": {
              "outlinewidth": 0,
              "ticks": ""
             }
            },
            "type": "scatter"
           }
          ],
          "scatter3d": [
           {
            "line": {
             "colorbar": {
              "outlinewidth": 0,
              "ticks": ""
             }
            },
            "marker": {
             "colorbar": {
              "outlinewidth": 0,
              "ticks": ""
             }
            },
            "type": "scatter3d"
           }
          ],
          "scattercarpet": [
           {
            "marker": {
             "colorbar": {
              "outlinewidth": 0,
              "ticks": ""
             }
            },
            "type": "scattercarpet"
           }
          ],
          "scattergeo": [
           {
            "marker": {
             "colorbar": {
              "outlinewidth": 0,
              "ticks": ""
             }
            },
            "type": "scattergeo"
           }
          ],
          "scattergl": [
           {
            "marker": {
             "colorbar": {
              "outlinewidth": 0,
              "ticks": ""
             }
            },
            "type": "scattergl"
           }
          ],
          "scattermapbox": [
           {
            "marker": {
             "colorbar": {
              "outlinewidth": 0,
              "ticks": ""
             }
            },
            "type": "scattermapbox"
           }
          ],
          "scatterpolar": [
           {
            "marker": {
             "colorbar": {
              "outlinewidth": 0,
              "ticks": ""
             }
            },
            "type": "scatterpolar"
           }
          ],
          "scatterpolargl": [
           {
            "marker": {
             "colorbar": {
              "outlinewidth": 0,
              "ticks": ""
             }
            },
            "type": "scatterpolargl"
           }
          ],
          "scatterternary": [
           {
            "marker": {
             "colorbar": {
              "outlinewidth": 0,
              "ticks": ""
             }
            },
            "type": "scatterternary"
           }
          ],
          "surface": [
           {
            "colorbar": {
             "outlinewidth": 0,
             "ticks": ""
            },
            "colorscale": [
             [
              0,
              "#0d0887"
             ],
             [
              0.1111111111111111,
              "#46039f"
             ],
             [
              0.2222222222222222,
              "#7201a8"
             ],
             [
              0.3333333333333333,
              "#9c179e"
             ],
             [
              0.4444444444444444,
              "#bd3786"
             ],
             [
              0.5555555555555556,
              "#d8576b"
             ],
             [
              0.6666666666666666,
              "#ed7953"
             ],
             [
              0.7777777777777778,
              "#fb9f3a"
             ],
             [
              0.8888888888888888,
              "#fdca26"
             ],
             [
              1,
              "#f0f921"
             ]
            ],
            "type": "surface"
           }
          ],
          "table": [
           {
            "cells": {
             "fill": {
              "color": "#EBF0F8"
             },
             "line": {
              "color": "white"
             }
            },
            "header": {
             "fill": {
              "color": "#C8D4E3"
             },
             "line": {
              "color": "white"
             }
            },
            "type": "table"
           }
          ]
         },
         "layout": {
          "annotationdefaults": {
           "arrowcolor": "#2a3f5f",
           "arrowhead": 0,
           "arrowwidth": 1
          },
          "autotypenumbers": "strict",
          "coloraxis": {
           "colorbar": {
            "outlinewidth": 0,
            "ticks": ""
           }
          },
          "colorscale": {
           "diverging": [
            [
             0,
             "#8e0152"
            ],
            [
             0.1,
             "#c51b7d"
            ],
            [
             0.2,
             "#de77ae"
            ],
            [
             0.3,
             "#f1b6da"
            ],
            [
             0.4,
             "#fde0ef"
            ],
            [
             0.5,
             "#f7f7f7"
            ],
            [
             0.6,
             "#e6f5d0"
            ],
            [
             0.7,
             "#b8e186"
            ],
            [
             0.8,
             "#7fbc41"
            ],
            [
             0.9,
             "#4d9221"
            ],
            [
             1,
             "#276419"
            ]
           ],
           "sequential": [
            [
             0,
             "#0d0887"
            ],
            [
             0.1111111111111111,
             "#46039f"
            ],
            [
             0.2222222222222222,
             "#7201a8"
            ],
            [
             0.3333333333333333,
             "#9c179e"
            ],
            [
             0.4444444444444444,
             "#bd3786"
            ],
            [
             0.5555555555555556,
             "#d8576b"
            ],
            [
             0.6666666666666666,
             "#ed7953"
            ],
            [
             0.7777777777777778,
             "#fb9f3a"
            ],
            [
             0.8888888888888888,
             "#fdca26"
            ],
            [
             1,
             "#f0f921"
            ]
           ],
           "sequentialminus": [
            [
             0,
             "#0d0887"
            ],
            [
             0.1111111111111111,
             "#46039f"
            ],
            [
             0.2222222222222222,
             "#7201a8"
            ],
            [
             0.3333333333333333,
             "#9c179e"
            ],
            [
             0.4444444444444444,
             "#bd3786"
            ],
            [
             0.5555555555555556,
             "#d8576b"
            ],
            [
             0.6666666666666666,
             "#ed7953"
            ],
            [
             0.7777777777777778,
             "#fb9f3a"
            ],
            [
             0.8888888888888888,
             "#fdca26"
            ],
            [
             1,
             "#f0f921"
            ]
           ]
          },
          "colorway": [
           "#636efa",
           "#EF553B",
           "#00cc96",
           "#ab63fa",
           "#FFA15A",
           "#19d3f3",
           "#FF6692",
           "#B6E880",
           "#FF97FF",
           "#FECB52"
          ],
          "font": {
           "color": "#2a3f5f"
          },
          "geo": {
           "bgcolor": "white",
           "lakecolor": "white",
           "landcolor": "#E5ECF6",
           "showlakes": true,
           "showland": true,
           "subunitcolor": "white"
          },
          "hoverlabel": {
           "align": "left"
          },
          "hovermode": "closest",
          "mapbox": {
           "style": "light"
          },
          "paper_bgcolor": "white",
          "plot_bgcolor": "#E5ECF6",
          "polar": {
           "angularaxis": {
            "gridcolor": "white",
            "linecolor": "white",
            "ticks": ""
           },
           "bgcolor": "#E5ECF6",
           "radialaxis": {
            "gridcolor": "white",
            "linecolor": "white",
            "ticks": ""
           }
          },
          "scene": {
           "xaxis": {
            "backgroundcolor": "#E5ECF6",
            "gridcolor": "white",
            "gridwidth": 2,
            "linecolor": "white",
            "showbackground": true,
            "ticks": "",
            "zerolinecolor": "white"
           },
           "yaxis": {
            "backgroundcolor": "#E5ECF6",
            "gridcolor": "white",
            "gridwidth": 2,
            "linecolor": "white",
            "showbackground": true,
            "ticks": "",
            "zerolinecolor": "white"
           },
           "zaxis": {
            "backgroundcolor": "#E5ECF6",
            "gridcolor": "white",
            "gridwidth": 2,
            "linecolor": "white",
            "showbackground": true,
            "ticks": "",
            "zerolinecolor": "white"
           }
          },
          "shapedefaults": {
           "line": {
            "color": "#2a3f5f"
           }
          },
          "ternary": {
           "aaxis": {
            "gridcolor": "white",
            "linecolor": "white",
            "ticks": ""
           },
           "baxis": {
            "gridcolor": "white",
            "linecolor": "white",
            "ticks": ""
           },
           "bgcolor": "#E5ECF6",
           "caxis": {
            "gridcolor": "white",
            "linecolor": "white",
            "ticks": ""
           }
          },
          "title": {
           "x": 0.05
          },
          "xaxis": {
           "automargin": true,
           "gridcolor": "white",
           "linecolor": "white",
           "ticks": "",
           "title": {
            "standoff": 15
           },
           "zerolinecolor": "white",
           "zerolinewidth": 2
          },
          "yaxis": {
           "automargin": true,
           "gridcolor": "white",
           "linecolor": "white",
           "ticks": "",
           "title": {
            "standoff": 15
           },
           "zerolinecolor": "white",
           "zerolinewidth": 2
          }
         }
        },
        "xaxis": {
         "anchor": "y",
         "domain": [
          0,
          1
         ],
         "title": {
          "text": "year"
         }
        },
        "yaxis": {
         "anchor": "x",
         "domain": [
          0,
          1
         ],
         "title": {
          "text": "value"
         }
        }
       }
      }
     },
     "metadata": {},
     "output_type": "display_data"
    }
   ],
   "source": [
    "df_new =df_mean_by_year[(df_mean_by_year['year'] < 2010) & (df_mean_by_year['year'] >= 2000)]\n",
    "px.bar(df_new,x='year', y=currency)\n"
   ]
  },
  {
   "cell_type": "code",
   "execution_count": 1124,
   "metadata": {},
   "outputs": [
    {
     "data": {
      "text/html": [
       "<div>\n",
       "<style scoped>\n",
       "    .dataframe tbody tr th:only-of-type {\n",
       "        vertical-align: middle;\n",
       "    }\n",
       "\n",
       "    .dataframe tbody tr th {\n",
       "        vertical-align: top;\n",
       "    }\n",
       "\n",
       "    .dataframe thead th {\n",
       "        text-align: right;\n",
       "    }\n",
       "</style>\n",
       "<table border=\"1\" class=\"dataframe\">\n",
       "  <thead>\n",
       "    <tr style=\"text-align: right;\">\n",
       "      <th></th>\n",
       "      <th>country</th>\n",
       "      <th>2010</th>\n",
       "      <th>2011</th>\n",
       "      <th>2012</th>\n",
       "      <th>2013</th>\n",
       "      <th>2014</th>\n",
       "      <th>2015</th>\n",
       "      <th>2016</th>\n",
       "      <th>2017</th>\n",
       "      <th>2018</th>\n",
       "      <th>2019</th>\n",
       "      <th>2020</th>\n",
       "      <th>code</th>\n",
       "    </tr>\n",
       "  </thead>\n",
       "  <tbody>\n",
       "    <tr>\n",
       "      <th>0</th>\n",
       "      <td>United States</td>\n",
       "      <td>231.3</td>\n",
       "      <td>233.9</td>\n",
       "      <td>234.6</td>\n",
       "      <td>230.1</td>\n",
       "      <td>210.0</td>\n",
       "      <td>216.7</td>\n",
       "      <td>229.1</td>\n",
       "      <td>236.3</td>\n",
       "      <td>224.9</td>\n",
       "      <td>200.4</td>\n",
       "      <td>190.2</td>\n",
       "      <td>USA</td>\n",
       "    </tr>\n",
       "    <tr>\n",
       "      <th>1</th>\n",
       "      <td>Canada</td>\n",
       "      <td>102.1</td>\n",
       "      <td>102.0</td>\n",
       "      <td>106.4</td>\n",
       "      <td>131.4</td>\n",
       "      <td>151.2</td>\n",
       "      <td>157.7</td>\n",
       "      <td>163.1</td>\n",
       "      <td>171.2</td>\n",
       "      <td>188.9</td>\n",
       "      <td>182.9</td>\n",
       "      <td>170.6</td>\n",
       "      <td>CAN</td>\n",
       "    </tr>\n",
       "    <tr>\n",
       "      <th>2</th>\n",
       "      <td>Mexico</td>\n",
       "      <td>78.7</td>\n",
       "      <td>94.4</td>\n",
       "      <td>107.5</td>\n",
       "      <td>107.1</td>\n",
       "      <td>113.3</td>\n",
       "      <td>131.1</td>\n",
       "      <td>130.7</td>\n",
       "      <td>119.6</td>\n",
       "      <td>118.4</td>\n",
       "      <td>109.0</td>\n",
       "      <td>101.6</td>\n",
       "      <td>MEX</td>\n",
       "    </tr>\n",
       "    <tr>\n",
       "      <th>3</th>\n",
       "      <td>Peru</td>\n",
       "      <td>184.8</td>\n",
       "      <td>183.8</td>\n",
       "      <td>189.8</td>\n",
       "      <td>182.4</td>\n",
       "      <td>171.1</td>\n",
       "      <td>170.5</td>\n",
       "      <td>166.0</td>\n",
       "      <td>166.6</td>\n",
       "      <td>162.6</td>\n",
       "      <td>143.3</td>\n",
       "      <td>97.8</td>\n",
       "      <td>PER</td>\n",
       "    </tr>\n",
       "    <tr>\n",
       "      <th>4</th>\n",
       "      <td>Brazil</td>\n",
       "      <td>71.5</td>\n",
       "      <td>77.7</td>\n",
       "      <td>80.2</td>\n",
       "      <td>89.3</td>\n",
       "      <td>90.4</td>\n",
       "      <td>95.4</td>\n",
       "      <td>95.9</td>\n",
       "      <td>95.4</td>\n",
       "      <td>96.7</td>\n",
       "      <td>100.4</td>\n",
       "      <td>107.0</td>\n",
       "      <td>BRA</td>\n",
       "    </tr>\n",
       "  </tbody>\n",
       "</table>\n",
       "</div>"
      ],
      "text/plain": [
       "         country   2010   2011   2012   2013   2014   2015   2016   2017  \\\n",
       "0  United States  231.3  233.9  234.6  230.1  210.0  216.7  229.1  236.3   \n",
       "1         Canada  102.1  102.0  106.4  131.4  151.2  157.7  163.1  171.2   \n",
       "2         Mexico   78.7   94.4  107.5  107.1  113.3  131.1  130.7  119.6   \n",
       "3           Peru  184.8  183.8  189.8  182.4  171.1  170.5  166.0  166.6   \n",
       "4         Brazil   71.5   77.7   80.2   89.3   90.4   95.4   95.9   95.4   \n",
       "\n",
       "    2018   2019   2020 code  \n",
       "0  224.9  200.4  190.2  USA  \n",
       "1  188.9  182.9  170.6  CAN  \n",
       "2  118.4  109.0  101.6  MEX  \n",
       "3  162.6  143.3   97.8  PER  \n",
       "4   96.7  100.4  107.0  BRA  "
      ]
     },
     "execution_count": 1124,
     "metadata": {},
     "output_type": "execute_result"
    }
   ],
   "source": [
    "df3 = pd.read_csv(\"Gold Mining.csv\")\n",
    "df3.head()"
   ]
  },
  {
   "cell_type": "code",
   "execution_count": 1125,
   "metadata": {},
   "outputs": [
    {
     "data": {
      "text/plain": [
       "Index(['2010', '2011', '2012', '2013', '2014', '2015', '2016', '2017', '2018',\n",
       "       '2019', '2020', 'code'],\n",
       "      dtype='object')"
      ]
     },
     "execution_count": 1125,
     "metadata": {},
     "output_type": "execute_result"
    }
   ],
   "source": [
    "df3.columns[1:]"
   ]
  },
  {
   "cell_type": "code",
   "execution_count": 1126,
   "metadata": {},
   "outputs": [
    {
     "data": {
      "application/vnd.plotly.v1+json": {
       "config": {
        "plotlyServerURL": "https://plot.ly"
       },
       "data": [
        {
         "autocolorscale": false,
         "colorbar": {
          "tickprefix": "$",
          "title": {
           "text": "mine production (ton)"
          }
         },
         "colorscale": [
          [
           0,
           "rgb(63, 5, 5)"
          ],
          [
           0.09090909090909091,
           "rgb(101, 6, 13)"
          ],
          [
           0.18181818181818182,
           "rgb(138, 17, 9)"
          ],
          [
           0.2727272727272727,
           "rgb(96, 95, 95)"
          ],
          [
           0.36363636363636365,
           "rgb(119, 118, 118)"
          ],
          [
           0.45454545454545453,
           "rgb(142, 141, 141)"
          ],
          [
           0.5454545454545454,
           "rgb(166, 166, 165)"
          ],
          [
           0.6363636363636364,
           "rgb(193, 192, 191)"
          ],
          [
           0.7272727272727273,
           "rgb(222, 222, 220)"
          ],
          [
           0.8181818181818182,
           "rgb(239, 248, 90)"
          ],
          [
           0.9090909090909091,
           "rgb(230, 210, 41)"
          ],
          [
           1,
           "rgb(220, 174, 25)"
          ]
         ],
         "locations": [
          "USA",
          "CAN",
          "MEX",
          "PER",
          "BRA",
          "ARG",
          "COL",
          "CHL",
          "DOM",
          "VEN",
          "SUR",
          "GUY",
          "ECU",
          "NIC",
          "FIN",
          "SWE",
          "ZAF",
          "GHA",
          "TZA",
          "MLI",
          "COD",
          "BFA",
          "SDN",
          "ZWE",
          "GIN",
          "CIV",
          "EGY",
          "ETH",
          "MRT",
          "SEN",
          "NAM",
          "RUS",
          "UZB",
          "KAZ",
          "KGZ",
          "CHN",
          "IDN",
          "PHL",
          "MNG",
          "TUR",
          "IRN",
          "AUS",
          "PNG",
          "NZL"
         ],
         "marker": {
          "line": {
           "color": "gold",
           "width": 0.5
          }
         },
         "reversescale": false,
         "text": [
          "United States",
          "Canada",
          "Mexico",
          "Peru",
          "Brazil",
          "Argentina",
          "Colombia",
          "Chile",
          "Dominican Republic",
          "Venezuela",
          "Suriname",
          "Guyana",
          "Ecuador",
          "Nicaragua",
          "Finland",
          "Sweden",
          "South Africa",
          "Ghana",
          "Tanzania",
          "Mali",
          "DR Congo",
          "Burkina Faso",
          "Sudan",
          "Zimbabwe",
          "Guinea",
          "Ivory Coast",
          "Egypt",
          "Ethiopia",
          "Mauritania",
          "Senegal",
          "Namibia",
          "Russia",
          "Uzbekistan",
          "Kazakhstan",
          "Kyrgyzstan",
          "China",
          "Indonesia",
          "Philippines",
          "Mongolia",
          "Turkey",
          "Iran",
          "Australia",
          "Papua New Guinea",
          "New Zealand"
         ],
         "type": "choropleth",
         "z": [
          231.3,
          102.1,
          78.7,
          184.8,
          71.5,
          63.9,
          43.6,
          39.5,
          0.1,
          24.9,
          20.4,
          11.9,
          15.2,
          5.5,
          5.8,
          6.2,
          210,
          94.3,
          47.5,
          42.7,
          18,
          44.9,
          29.3,
          17.1,
          25.8,
          7.8,
          4.7,
          8.1,
          9,
          5.4,
          3.3,
          203.1,
          69,
          29.9,
          19,
          351.1,
          132.3,
          40.8,
          14,
          16.6,
          5,
          256.7,
          69.7,
          12.1
         ]
        }
       ],
       "layout": {
        "autosize": false,
        "height": 500,
        "template": {
         "data": {
          "bar": [
           {
            "error_x": {
             "color": "#2a3f5f"
            },
            "error_y": {
             "color": "#2a3f5f"
            },
            "marker": {
             "line": {
              "color": "#E5ECF6",
              "width": 0.5
             },
             "pattern": {
              "fillmode": "overlay",
              "size": 10,
              "solidity": 0.2
             }
            },
            "type": "bar"
           }
          ],
          "barpolar": [
           {
            "marker": {
             "line": {
              "color": "#E5ECF6",
              "width": 0.5
             },
             "pattern": {
              "fillmode": "overlay",
              "size": 10,
              "solidity": 0.2
             }
            },
            "type": "barpolar"
           }
          ],
          "carpet": [
           {
            "aaxis": {
             "endlinecolor": "#2a3f5f",
             "gridcolor": "white",
             "linecolor": "white",
             "minorgridcolor": "white",
             "startlinecolor": "#2a3f5f"
            },
            "baxis": {
             "endlinecolor": "#2a3f5f",
             "gridcolor": "white",
             "linecolor": "white",
             "minorgridcolor": "white",
             "startlinecolor": "#2a3f5f"
            },
            "type": "carpet"
           }
          ],
          "choropleth": [
           {
            "colorbar": {
             "outlinewidth": 0,
             "ticks": ""
            },
            "type": "choropleth"
           }
          ],
          "contour": [
           {
            "colorbar": {
             "outlinewidth": 0,
             "ticks": ""
            },
            "colorscale": [
             [
              0,
              "#0d0887"
             ],
             [
              0.1111111111111111,
              "#46039f"
             ],
             [
              0.2222222222222222,
              "#7201a8"
             ],
             [
              0.3333333333333333,
              "#9c179e"
             ],
             [
              0.4444444444444444,
              "#bd3786"
             ],
             [
              0.5555555555555556,
              "#d8576b"
             ],
             [
              0.6666666666666666,
              "#ed7953"
             ],
             [
              0.7777777777777778,
              "#fb9f3a"
             ],
             [
              0.8888888888888888,
              "#fdca26"
             ],
             [
              1,
              "#f0f921"
             ]
            ],
            "type": "contour"
           }
          ],
          "contourcarpet": [
           {
            "colorbar": {
             "outlinewidth": 0,
             "ticks": ""
            },
            "type": "contourcarpet"
           }
          ],
          "heatmap": [
           {
            "colorbar": {
             "outlinewidth": 0,
             "ticks": ""
            },
            "colorscale": [
             [
              0,
              "#0d0887"
             ],
             [
              0.1111111111111111,
              "#46039f"
             ],
             [
              0.2222222222222222,
              "#7201a8"
             ],
             [
              0.3333333333333333,
              "#9c179e"
             ],
             [
              0.4444444444444444,
              "#bd3786"
             ],
             [
              0.5555555555555556,
              "#d8576b"
             ],
             [
              0.6666666666666666,
              "#ed7953"
             ],
             [
              0.7777777777777778,
              "#fb9f3a"
             ],
             [
              0.8888888888888888,
              "#fdca26"
             ],
             [
              1,
              "#f0f921"
             ]
            ],
            "type": "heatmap"
           }
          ],
          "heatmapgl": [
           {
            "colorbar": {
             "outlinewidth": 0,
             "ticks": ""
            },
            "colorscale": [
             [
              0,
              "#0d0887"
             ],
             [
              0.1111111111111111,
              "#46039f"
             ],
             [
              0.2222222222222222,
              "#7201a8"
             ],
             [
              0.3333333333333333,
              "#9c179e"
             ],
             [
              0.4444444444444444,
              "#bd3786"
             ],
             [
              0.5555555555555556,
              "#d8576b"
             ],
             [
              0.6666666666666666,
              "#ed7953"
             ],
             [
              0.7777777777777778,
              "#fb9f3a"
             ],
             [
              0.8888888888888888,
              "#fdca26"
             ],
             [
              1,
              "#f0f921"
             ]
            ],
            "type": "heatmapgl"
           }
          ],
          "histogram": [
           {
            "marker": {
             "pattern": {
              "fillmode": "overlay",
              "size": 10,
              "solidity": 0.2
             }
            },
            "type": "histogram"
           }
          ],
          "histogram2d": [
           {
            "colorbar": {
             "outlinewidth": 0,
             "ticks": ""
            },
            "colorscale": [
             [
              0,
              "#0d0887"
             ],
             [
              0.1111111111111111,
              "#46039f"
             ],
             [
              0.2222222222222222,
              "#7201a8"
             ],
             [
              0.3333333333333333,
              "#9c179e"
             ],
             [
              0.4444444444444444,
              "#bd3786"
             ],
             [
              0.5555555555555556,
              "#d8576b"
             ],
             [
              0.6666666666666666,
              "#ed7953"
             ],
             [
              0.7777777777777778,
              "#fb9f3a"
             ],
             [
              0.8888888888888888,
              "#fdca26"
             ],
             [
              1,
              "#f0f921"
             ]
            ],
            "type": "histogram2d"
           }
          ],
          "histogram2dcontour": [
           {
            "colorbar": {
             "outlinewidth": 0,
             "ticks": ""
            },
            "colorscale": [
             [
              0,
              "#0d0887"
             ],
             [
              0.1111111111111111,
              "#46039f"
             ],
             [
              0.2222222222222222,
              "#7201a8"
             ],
             [
              0.3333333333333333,
              "#9c179e"
             ],
             [
              0.4444444444444444,
              "#bd3786"
             ],
             [
              0.5555555555555556,
              "#d8576b"
             ],
             [
              0.6666666666666666,
              "#ed7953"
             ],
             [
              0.7777777777777778,
              "#fb9f3a"
             ],
             [
              0.8888888888888888,
              "#fdca26"
             ],
             [
              1,
              "#f0f921"
             ]
            ],
            "type": "histogram2dcontour"
           }
          ],
          "mesh3d": [
           {
            "colorbar": {
             "outlinewidth": 0,
             "ticks": ""
            },
            "type": "mesh3d"
           }
          ],
          "parcoords": [
           {
            "line": {
             "colorbar": {
              "outlinewidth": 0,
              "ticks": ""
             }
            },
            "type": "parcoords"
           }
          ],
          "pie": [
           {
            "automargin": true,
            "type": "pie"
           }
          ],
          "scatter": [
           {
            "marker": {
             "colorbar": {
              "outlinewidth": 0,
              "ticks": ""
             }
            },
            "type": "scatter"
           }
          ],
          "scatter3d": [
           {
            "line": {
             "colorbar": {
              "outlinewidth": 0,
              "ticks": ""
             }
            },
            "marker": {
             "colorbar": {
              "outlinewidth": 0,
              "ticks": ""
             }
            },
            "type": "scatter3d"
           }
          ],
          "scattercarpet": [
           {
            "marker": {
             "colorbar": {
              "outlinewidth": 0,
              "ticks": ""
             }
            },
            "type": "scattercarpet"
           }
          ],
          "scattergeo": [
           {
            "marker": {
             "colorbar": {
              "outlinewidth": 0,
              "ticks": ""
             }
            },
            "type": "scattergeo"
           }
          ],
          "scattergl": [
           {
            "marker": {
             "colorbar": {
              "outlinewidth": 0,
              "ticks": ""
             }
            },
            "type": "scattergl"
           }
          ],
          "scattermapbox": [
           {
            "marker": {
             "colorbar": {
              "outlinewidth": 0,
              "ticks": ""
             }
            },
            "type": "scattermapbox"
           }
          ],
          "scatterpolar": [
           {
            "marker": {
             "colorbar": {
              "outlinewidth": 0,
              "ticks": ""
             }
            },
            "type": "scatterpolar"
           }
          ],
          "scatterpolargl": [
           {
            "marker": {
             "colorbar": {
              "outlinewidth": 0,
              "ticks": ""
             }
            },
            "type": "scatterpolargl"
           }
          ],
          "scatterternary": [
           {
            "marker": {
             "colorbar": {
              "outlinewidth": 0,
              "ticks": ""
             }
            },
            "type": "scatterternary"
           }
          ],
          "surface": [
           {
            "colorbar": {
             "outlinewidth": 0,
             "ticks": ""
            },
            "colorscale": [
             [
              0,
              "#0d0887"
             ],
             [
              0.1111111111111111,
              "#46039f"
             ],
             [
              0.2222222222222222,
              "#7201a8"
             ],
             [
              0.3333333333333333,
              "#9c179e"
             ],
             [
              0.4444444444444444,
              "#bd3786"
             ],
             [
              0.5555555555555556,
              "#d8576b"
             ],
             [
              0.6666666666666666,
              "#ed7953"
             ],
             [
              0.7777777777777778,
              "#fb9f3a"
             ],
             [
              0.8888888888888888,
              "#fdca26"
             ],
             [
              1,
              "#f0f921"
             ]
            ],
            "type": "surface"
           }
          ],
          "table": [
           {
            "cells": {
             "fill": {
              "color": "#EBF0F8"
             },
             "line": {
              "color": "white"
             }
            },
            "header": {
             "fill": {
              "color": "#C8D4E3"
             },
             "line": {
              "color": "white"
             }
            },
            "type": "table"
           }
          ]
         },
         "layout": {
          "annotationdefaults": {
           "arrowcolor": "#2a3f5f",
           "arrowhead": 0,
           "arrowwidth": 1
          },
          "autotypenumbers": "strict",
          "coloraxis": {
           "colorbar": {
            "outlinewidth": 0,
            "ticks": ""
           }
          },
          "colorscale": {
           "diverging": [
            [
             0,
             "#8e0152"
            ],
            [
             0.1,
             "#c51b7d"
            ],
            [
             0.2,
             "#de77ae"
            ],
            [
             0.3,
             "#f1b6da"
            ],
            [
             0.4,
             "#fde0ef"
            ],
            [
             0.5,
             "#f7f7f7"
            ],
            [
             0.6,
             "#e6f5d0"
            ],
            [
             0.7,
             "#b8e186"
            ],
            [
             0.8,
             "#7fbc41"
            ],
            [
             0.9,
             "#4d9221"
            ],
            [
             1,
             "#276419"
            ]
           ],
           "sequential": [
            [
             0,
             "#0d0887"
            ],
            [
             0.1111111111111111,
             "#46039f"
            ],
            [
             0.2222222222222222,
             "#7201a8"
            ],
            [
             0.3333333333333333,
             "#9c179e"
            ],
            [
             0.4444444444444444,
             "#bd3786"
            ],
            [
             0.5555555555555556,
             "#d8576b"
            ],
            [
             0.6666666666666666,
             "#ed7953"
            ],
            [
             0.7777777777777778,
             "#fb9f3a"
            ],
            [
             0.8888888888888888,
             "#fdca26"
            ],
            [
             1,
             "#f0f921"
            ]
           ],
           "sequentialminus": [
            [
             0,
             "#0d0887"
            ],
            [
             0.1111111111111111,
             "#46039f"
            ],
            [
             0.2222222222222222,
             "#7201a8"
            ],
            [
             0.3333333333333333,
             "#9c179e"
            ],
            [
             0.4444444444444444,
             "#bd3786"
            ],
            [
             0.5555555555555556,
             "#d8576b"
            ],
            [
             0.6666666666666666,
             "#ed7953"
            ],
            [
             0.7777777777777778,
             "#fb9f3a"
            ],
            [
             0.8888888888888888,
             "#fdca26"
            ],
            [
             1,
             "#f0f921"
            ]
           ]
          },
          "colorway": [
           "#636efa",
           "#EF553B",
           "#00cc96",
           "#ab63fa",
           "#FFA15A",
           "#19d3f3",
           "#FF6692",
           "#B6E880",
           "#FF97FF",
           "#FECB52"
          ],
          "font": {
           "color": "#2a3f5f"
          },
          "geo": {
           "bgcolor": "white",
           "lakecolor": "white",
           "landcolor": "#E5ECF6",
           "showlakes": true,
           "showland": true,
           "subunitcolor": "white"
          },
          "hoverlabel": {
           "align": "left"
          },
          "hovermode": "closest",
          "mapbox": {
           "style": "light"
          },
          "paper_bgcolor": "white",
          "plot_bgcolor": "#E5ECF6",
          "polar": {
           "angularaxis": {
            "gridcolor": "white",
            "linecolor": "white",
            "ticks": ""
           },
           "bgcolor": "#E5ECF6",
           "radialaxis": {
            "gridcolor": "white",
            "linecolor": "white",
            "ticks": ""
           }
          },
          "scene": {
           "xaxis": {
            "backgroundcolor": "#E5ECF6",
            "gridcolor": "white",
            "gridwidth": 2,
            "linecolor": "white",
            "showbackground": true,
            "ticks": "",
            "zerolinecolor": "white"
           },
           "yaxis": {
            "backgroundcolor": "#E5ECF6",
            "gridcolor": "white",
            "gridwidth": 2,
            "linecolor": "white",
            "showbackground": true,
            "ticks": "",
            "zerolinecolor": "white"
           },
           "zaxis": {
            "backgroundcolor": "#E5ECF6",
            "gridcolor": "white",
            "gridwidth": 2,
            "linecolor": "white",
            "showbackground": true,
            "ticks": "",
            "zerolinecolor": "white"
           }
          },
          "shapedefaults": {
           "line": {
            "color": "#2a3f5f"
           }
          },
          "ternary": {
           "aaxis": {
            "gridcolor": "white",
            "linecolor": "white",
            "ticks": ""
           },
           "baxis": {
            "gridcolor": "white",
            "linecolor": "white",
            "ticks": ""
           },
           "bgcolor": "#E5ECF6",
           "caxis": {
            "gridcolor": "white",
            "linecolor": "white",
            "ticks": ""
           }
          },
          "title": {
           "x": 0.05
          },
          "xaxis": {
           "automargin": true,
           "gridcolor": "white",
           "linecolor": "white",
           "ticks": "",
           "title": {
            "standoff": 15
           },
           "zerolinecolor": "white",
           "zerolinewidth": 2
          },
          "yaxis": {
           "automargin": true,
           "gridcolor": "white",
           "linecolor": "white",
           "ticks": "",
           "title": {
            "standoff": 15
           },
           "zerolinecolor": "white",
           "zerolinewidth": 2
          }
         }
        },
        "width": 1000,
        "yaxis": {
         "tickmode": "array",
         "ticktext": [
          "Very long label",
          "long label",
          "3",
          "label"
         ],
         "tickvals": [
          1,
          2,
          3,
          4
         ],
         "title": {
          "font": {
           "size": 30
          },
          "text": "Y-axis Title"
         }
        }
       }
      }
     },
     "metadata": {},
     "output_type": "display_data"
    }
   ],
   "source": [
    "fig = go.Figure(data = go.Choropleth(\n",
    "                    locations=df3[\"code\"],\n",
    "                    z = df3[\"2010\"],\n",
    "                    text = df3[\"country\"],\n",
    "                    colorscale = \"oxy\",\n",
    "                    autocolorscale = False,\n",
    "                    reversescale = False,\n",
    "                    marker_line_color = 'gold',\n",
    "                    marker_line_width = 0.5,\n",
    "                    colorbar_tickprefix = '$',\n",
    "                    colorbar_title = \"mine production (ton)\"))\n",
    "\n",
    "\n",
    "fig.update_layout(\n",
    "    autosize=False,\n",
    "    width=1000,\n",
    "    height=500,\n",
    "    yaxis=dict(\n",
    "        title_text=\"Y-axis Title\",\n",
    "        ticktext=[\"Very long label\", \"long label\", \"3\", \"label\"],\n",
    "        tickvals=[1, 2, 3, 4],\n",
    "        tickmode=\"array\",\n",
    "        titlefont=dict(size=30)\n",
    "    ))\n",
    " \n",
    " \n",
    "fig.show()"
   ]
  },
  {
   "cell_type": "code",
   "execution_count": 1127,
   "metadata": {
    "id": "mgCSr7NfdHkv"
   },
   "outputs": [],
   "source": [
    "jupyter_dash.JupyterDash(__name__)\n",
    "\n",
    "app.layout= html.Div((\n",
    "    \n",
    "##################################### First  Raw ###############################\n",
    "        html.Div([\n",
    "                    \n",
    "                    html.Div([\n",
    "                              \n",
    "                              html.Div([\n",
    "                                              \n",
    "                                          html.H3( 'Gold Prices DataBase', style= {'color': 'Gold',\"text-align\": \"center\"}),\n",
    "        \n",
    "                                          html.H5(\"1990 - 2022\", style= {'color': 'Gold',\"text-align\": \"center\"}),\n",
    "                                      \n",
    "                                      ]) ,\n",
    "                              ################# Download CSV #################\n",
    "                               html.Div(\n",
    "                                         [\n",
    "                                            html.Button(\"Download Full Data .CSV\", id=\"btn_csv\" , style={\"color\" : \"Gold\", \"background\" : \"black\"}),\n",
    "                                            dcc.Download(id=\"download-dataframe-csv\"),\n",
    "                                          ],style={\"color\" : \"Gold\", \"background\" : \"black\"})\n",
    "                              \n",
    "                              ],className= \"six column\", id = \"title\")\n",
    "                    \n",
    "                    \n",
    "\n",
    "\n",
    "                ]               , id = \"header\", className=\"row flex-display\",style= {'color': 'Gold',\"text-align\": \"center\"})\n",
    "        \n",
    "        \n",
    "        , \n",
    "\n",
    "\n",
    "\n",
    "#,\n",
    "############################### Second RAW ######################################\n",
    "   html.Br(),html.Br(),\n",
    "\n",
    "    html.Div([\n",
    "              \n",
    "              html.Br(),html.Br(),\n",
    "\n",
    "            \n",
    "              html.Div([\n",
    "                  \n",
    "                  html.Br(),html.Br(),\n",
    "                    \n",
    "                    html.P('Select Currency:', className = 'fix_label', style={'color': 'Gold' ,\"background\":colors[\"background\"] }),\n",
    "                    \n",
    "                    dcc.Dropdown (currency,\n",
    "                                  id = 'Currency',\n",
    "                                  multi = False,\n",
    "                                  clearable = True,\n",
    "                                  disabled = False,\n",
    "                                  style = {'display': True},\n",
    "                                  value='United States(USD)',\n",
    "                                  \n",
    "                                  \n",
    "                                  className = 'dcc_compon')\n",
    "                    \n",
    "                                           , ###### Second drop down #######\n",
    "\n",
    "\n",
    "                  html.P('Select Start Year:', className= 'fix_label', style={'color': 'Gold',\"background\":colors[\"background\"]  }),\n",
    "\n",
    "                     dcc.Dropdown (years,\n",
    "                                  id = 'minyear',\n",
    "                                  multi = False,\n",
    "                                  clearable = True,\n",
    "                                  disabled = False,\n",
    "                                  style = {'display': True},\n",
    "                                  value='1990',\n",
    "                                  \n",
    "                                  \n",
    "                                  className = 'dcc_compon'),\n",
    "                  html.P('Select End Year:', className= 'fix_label', style={'color': 'Gold',\"background\":colors[\"background\"]  }),\n",
    "\n",
    "                     dcc.Dropdown (years,\n",
    "                                  id = 'maxyear',\n",
    "                                  multi = False,\n",
    "                                  clearable = True,\n",
    "                                  disabled = False,\n",
    "                                  style = {'display': True},\n",
    "                                  value='2022',\n",
    "                                  \n",
    "                                  \n",
    "                                  className = 'dcc_compon'),\n",
    "\n",
    "                  \n",
    "\n",
    "              ],className = \"create_container three columns\" , style={\"background\":colors[\"background\"] }),\n",
    "\n",
    "\n",
    "              ################# Line Graph ###################\n",
    "\n",
    "        \n",
    "\n",
    "\n",
    "        html.Div( [\n",
    "\n",
    "                  html.Br(),\n",
    "                  dcc.Graph(id= \"line graph\")\n",
    "                   \n",
    "                 ],className = \"create_container six columns\",style={\"width\" : \"90%\" ,\"color\" : \"black\", \"background\" : \"black\" }),\n",
    "        \n",
    "        \n",
    "        \n",
    "              \n",
    "      ################# Calculator Part ############\n",
    "      \n",
    "      html.Div([\n",
    "          \n",
    "          html.Br(),html.Br(),\n",
    "          \n",
    "          html.P('GOLD CALCULATOR', className= 'fix_label', style={'color': colors[\"text\"] ,\"text-align\": \"center\",\"background\":colors[\"background\"] }),\n",
    "          html.P('Select Currency:', className= 'fix_label', style={'color': 'Gold',\"text-align\": \"Llefy\",\"background\":colors[\"background\"] }),\n",
    "          \n",
    "          dcc.Dropdown (currency,\n",
    "                                  id = 'curr_calc',\n",
    "                                  multi = False,\n",
    "                                  clearable = True,\n",
    "                                  disabled = False,\n",
    "                                  style = {'display': True},\n",
    "                                  value='United States(USD)',\n",
    "                                  className = 'dcc_compon'),\n",
    "          \n",
    "        html.P('Enter The money:', className= 'fix_label', style={\"text-align\": \"left\",'color': 'Gold'}),\n",
    "\n",
    "          \n",
    "          dcc.Input(id='money', type='number',className = 'dcc_compon'),\n",
    "          \n",
    "          html.P('You can Buy in (g):', className= 'fix_label', style={'color': 'Gold'}),\n",
    "\n",
    "          \n",
    "            html.Div(id=\"my_div\", style={\"color\":\"Gold\"})\n",
    "                    \n",
    "                                           \n",
    "         \n",
    "#                 \n",
    "      ],className = \"create_container three columns\",style={\"background\":colors[\"background\"] }),\n",
    "    ] , className = \"rom flex-display\" , style={\"background\":colors[\"background\"] }),\n",
    "    \n",
    "    \n",
    "    ################################### Third RAW #################################\n",
    "\n",
    "                      ################# bar Graph ###################\n",
    "\n",
    "    \n",
    "        html.Div( [\n",
    "        \n",
    "             html.Br(),\n",
    "             html.Br(),\n",
    "                        \n",
    "              dcc.Graph(id= \"bar graph\",)\n",
    "                   \n",
    "              ],className = \"create_container six columns\" , style={\"width\" : \"100%\" ,\"color\" : \"black\", \"background\" : \"black\" }),\n",
    "                \n",
    "         \n",
    "         \n",
    "         \n",
    "         \n",
    "        ############################### 4th RAW ######################################\n",
    "        html.Br(),html.Br(),\n",
    "\n",
    "        html.Div([\n",
    "              \n",
    "              html.Br(),html.Br(),\n",
    "\n",
    "            \n",
    "              html.Div([\n",
    "                  \n",
    "                  html.Br(),html.Br(),\n",
    "                    \n",
    "                    html.P('Select Year:', className = 'fix_label', style={'color': 'Gold' ,\"background\":colors[\"background\"] }),\n",
    "                    \n",
    "                    dcc.Dropdown (df3.columns[1:-1],\n",
    "                                  id = 'year',\n",
    "                                  multi = False,\n",
    "                                  clearable = True,\n",
    "                                  disabled = False,\n",
    "                                  style = {'display': True},\n",
    "                                  value='2010',\n",
    "                                  className = 'dcc_compon')\n",
    "  \n",
    "\n",
    "              ],className = \"create_container three columns\" , style={\"background\":colors[\"background\"] }),\n",
    "\n",
    "\n",
    "              ################# GEO Graph ###################\n",
    "\n",
    "\n",
    "        html.Div( [\n",
    "\n",
    "                  html.Br(),\n",
    "                  dcc.Graph(id= \"GEO graph\")\n",
    "                   \n",
    "                 ],className = \"create_container six columns\",style={\"width\" : \"60%\" ,\"color\" : \"black\", \"background\" : \"black\" }),\n",
    "        \n",
    "    ] , className = \"rom flex-display\" , style={\"background\":colors[\"background\"] }), \n",
    "        \n",
    "    ),id = \"mainContainer\",style={'backgroundColor': colors['background'],\"display\": \"flex\", \"flex-direction\": \"column\",\"width\" : \"100%\" ,\"color\" : \"black\"})\n",
    "\n",
    "\n",
    "################################## CALL BACK ########################################\n",
    "\n",
    "\n",
    "@app.callback(\n",
    "    \n",
    "    Output(component_id=\"line graph\",component_property='figure'),\n",
    "    Input(component_id='Currency',component_property='value'),\n",
    "    Input(component_id='minyear',component_property='value'),\n",
    "    Input(component_id='maxyear',component_property='value'),\n",
    "\n",
    "\n",
    ")\n",
    "\n",
    "def line_chart_for_country_change(coun,mini,maxi):\n",
    "    \n",
    "    df_new =df[(df['Date'] <= str(maxi)) & (df['Date'] >= str(mini))]\n",
    "    fig = go.Figure()\n",
    "\n",
    "    fig.add_trace(\n",
    "    go.Line(x=df_new[\"Date\"], y=df_new[coun]))\n",
    "\n",
    "    fig.update_layout(\n",
    "\n",
    "        \n",
    "    xaxis=dict(\n",
    "        \n",
    "        title= \"year\",\n",
    "        \n",
    "        rangeselector=dict(\n",
    "            buttons=list([\n",
    "                dict(count=1,\n",
    "                     label=\"1m\",\n",
    "                     step=\"month\",\n",
    "                     stepmode=\"backward\"),\n",
    "                dict(count=6,\n",
    "                     label=\"6m\",\n",
    "                     step=\"month\",\n",
    "                     stepmode=\"backward\"),\n",
    "                dict(count=1,\n",
    "                     label=\"1y\",\n",
    "                     step=\"year\",\n",
    "                     stepmode=\"backward\"),\n",
    "                dict(step=\"all\")\n",
    "            ])\n",
    "        ),\n",
    "        rangeslider=dict(\n",
    "            visible=True\n",
    "        ),\n",
    "        type=\"date\"\n",
    "    )\n",
    "    ,\n",
    "       yaxis=dict(\n",
    "        title=coun,\n",
    "        titlefont_size=20,\n",
    "        tickfont_size=20,\n",
    "    ),\n",
    ")\n",
    "    \n",
    "    return fig\n",
    "\n",
    "    \n",
    "@app.callback(\n",
    "    \n",
    "    Output(component_id=\"bar graph\",component_property='figure'),\n",
    "    Input(component_id='Currency',component_property='value'),\n",
    "    Input(component_id='minyear',component_property='value'),\n",
    "    Input(component_id='maxyear',component_property='value'),\n",
    "\n",
    "\n",
    ")\n",
    "\n",
    "def bar_chart_for_country_change(coun,mini,maxi):\n",
    "    \n",
    "    df_mean = pd.DataFrame(df_mean_by_year[(df_mean_by_year['year'] <= maxi) & (df_mean_by_year['year'] >= mini)])\n",
    "    df_max  = pd.DataFrame(df_max_by_year[(df_max_by_year ['year'] <= maxi) & (df_max_by_year ['year'] >= mini)])\n",
    "    \n",
    "    fig = go.Figure(data=[\n",
    "    go.Bar(name='max', x=df_mean['year'], y=df_mean[coun],marker_color='rgb(55, 83, 109)' , text=df_mean[coun]),\n",
    "    go.Bar(name='mean', x=df_max['year'], y=df_max[coun], marker_color='rgb(26, 118, 255)',text=df_max[coun])\n",
    "])\n",
    "    \n",
    "    fig.update_traces(texttemplate='%{text:.2s}', textposition='outside')\n",
    "    fig.update_layout(\n",
    "        \n",
    "        height=700,\n",
    "    \n",
    "    xaxis_tickfont_size=20,\n",
    "    xaxis=dict(\n",
    "        title=\"year\",\n",
    "        titlefont_size=20,\n",
    "        tickfont_size=20,\n",
    "    ),\n",
    "    yaxis=dict(\n",
    "        title=coun,\n",
    "        titlefont_size=20,\n",
    "        tickfont_size=20,\n",
    "    ),\n",
    "    legend=dict(\n",
    "        x=0,\n",
    "        y=1.0,\n",
    "        bgcolor='rgba(255, 255, 255, 0)',\n",
    "        bordercolor='rgba(255, 255, 255, 0)'\n",
    "    ),barmode='group',bargap=0.15,bargroupgap=0.1)\n",
    "    \n",
    "   \n",
    "    return fig"
   ]
  },
  {
   "cell_type": "code",
   "execution_count": 1128,
   "metadata": {},
   "outputs": [],
   "source": [
    "    \n",
    "@app.callback(\n",
    "    \n",
    "    Output(component_id=\"GEO graph\",component_property='figure'),\n",
    "    Input(component_id='year',component_property='value'),\n",
    "\n",
    "\n",
    "\n",
    ")\n",
    "def geo_chart_for_country_change(coun):\n",
    "    \n",
    "    \n",
    "    \n",
    "    fig = go.Figure(data = go.Choropleth(\n",
    "                    locations=df3[\"code\"],\n",
    "                    z = df3[coun],\n",
    "                    text = df3[\"country\"],\n",
    "                    colorscale = \"oxy\",\n",
    "                    autocolorscale = False,\n",
    "                    reversescale = False,\n",
    "                    marker_line_color = 'gold',\n",
    "                    marker_line_width = 0.5,\n",
    "                    colorbar_tickprefix = '$',\n",
    "                    colorbar_title = \"mine production (ton)\"))\n",
    "\n",
    "\n",
    "    fig.update_layout(\n",
    "        title = \"Gold Mine Production\",\n",
    "        autosize=False,\n",
    "        width=1300,\n",
    "        height=700,\n",
    "        yaxis=dict(\n",
    "            title_text=\"Y-axis Title\",\n",
    "            ticktext=[\"Very long label\", \"long label\", \"3\", \"label\"],\n",
    "            tickvals=[1, 2, 3, 4],\n",
    "            tickmode=\"array\",\n",
    "            titlefont=dict(size=30)\n",
    "    ))\n",
    "    \n",
    "   \n",
    "    return fig"
   ]
  },
  {
   "cell_type": "code",
   "execution_count": 1129,
   "metadata": {},
   "outputs": [],
   "source": [
    "@app.callback(\n",
    "    Output(component_id=\"my_div\",component_property='children'),\n",
    "    Input(component_id='Currency',component_property='value'),\n",
    "    Input(component_id='money',component_property='value')\n",
    "\n",
    ")\n",
    "def gold_calculator(curr,mon):\n",
    "    if mon==None:\n",
    "        return 0\n",
    "    else:\n",
    "    \n",
    "        price_in_gram = (df[curr][df.shape[0]-1])/1000\n",
    "    \n",
    "        return mon/ price_in_gram"
   ]
  },
  {
   "cell_type": "code",
   "execution_count": 1130,
   "metadata": {},
   "outputs": [],
   "source": [
    "@app.callback(\n",
    "    Output(\"download-dataframe-csv\", \"data\"),\n",
    "    Input(\"btn_csv\", \"n_clicks\"),\n",
    "    \n",
    "    prevent_initial_call=True,\n",
    ")\n",
    "def func(n_clicks):\n",
    "    return dcc.send_data_frame(df.to_csv, \"Gold-Prices.csv\")"
   ]
  },
  {
   "cell_type": "code",
   "execution_count": 1131,
   "metadata": {
    "colab": {
     "base_uri": "https://localhost:8080/",
     "height": 52
    },
    "id": "evWxK-PlNoSr",
    "outputId": "0984be97-3393-443c-c930-f3838c109432"
   },
   "outputs": [
    {
     "name": "stdout",
     "output_type": "stream",
     "text": [
      "Dash app running on http://127.0.0.1:8050/\n"
     ]
    },
    {
     "name": "stderr",
     "output_type": "stream",
     "text": [
      "C:\\Users\\Hp\\anaconda3\\lib\\site-packages\\plotly\\graph_objs\\_deprecations.py:378: DeprecationWarning:\n",
      "\n",
      "plotly.graph_objs.Line is deprecated.\n",
      "Please replace it with one of the following more specific types\n",
      "  - plotly.graph_objs.scatter.Line\n",
      "  - plotly.graph_objs.layout.shape.Line\n",
      "  - etc.\n",
      "\n",
      "\n",
      "C:\\Users\\Hp\\anaconda3\\lib\\site-packages\\plotly\\graph_objs\\_deprecations.py:378: DeprecationWarning:\n",
      "\n",
      "plotly.graph_objs.Line is deprecated.\n",
      "Please replace it with one of the following more specific types\n",
      "  - plotly.graph_objs.scatter.Line\n",
      "  - plotly.graph_objs.layout.shape.Line\n",
      "  - etc.\n",
      "\n",
      "\n",
      "C:\\Users\\Hp\\anaconda3\\lib\\site-packages\\plotly\\graph_objs\\_deprecations.py:378: DeprecationWarning:\n",
      "\n",
      "plotly.graph_objs.Line is deprecated.\n",
      "Please replace it with one of the following more specific types\n",
      "  - plotly.graph_objs.scatter.Line\n",
      "  - plotly.graph_objs.layout.shape.Line\n",
      "  - etc.\n",
      "\n",
      "\n"
     ]
    }
   ],
   "source": [
    "app.run_server()"
   ]
  },
  {
   "cell_type": "code",
   "execution_count": null,
   "metadata": {},
   "outputs": [],
   "source": []
  },
  {
   "cell_type": "code",
   "execution_count": null,
   "metadata": {
    "id": "EcNJSWUYNoUR"
   },
   "outputs": [],
   "source": []
  },
  {
   "cell_type": "code",
   "execution_count": null,
   "metadata": {
    "id": "ryN5dqV7b6gc"
   },
   "outputs": [],
   "source": []
  },
  {
   "cell_type": "code",
   "execution_count": null,
   "metadata": {
    "id": "nTIaXPawNoYU"
   },
   "outputs": [],
   "source": []
  },
  {
   "cell_type": "code",
   "execution_count": null,
   "metadata": {
    "id": "sZuoOIk9NoZ9"
   },
   "outputs": [],
   "source": []
  },
  {
   "cell_type": "code",
   "execution_count": null,
   "metadata": {
    "id": "ACkxBQTYNod4"
   },
   "outputs": [],
   "source": []
  },
  {
   "cell_type": "code",
   "execution_count": null,
   "metadata": {
    "id": "pvUpahDdNofg"
   },
   "outputs": [],
   "source": []
  },
  {
   "cell_type": "code",
   "execution_count": null,
   "metadata": {
    "id": "QrMmKDjjNojd"
   },
   "outputs": [],
   "source": []
  },
  {
   "cell_type": "code",
   "execution_count": null,
   "metadata": {
    "id": "9fW48cnoNok_"
   },
   "outputs": [],
   "source": []
  },
  {
   "cell_type": "code",
   "execution_count": null,
   "metadata": {
    "id": "ChnVas9iNopi"
   },
   "outputs": [],
   "source": []
  }
 ],
 "metadata": {
  "colab": {
   "collapsed_sections": [],
   "name": "DV Project.ipynb",
   "provenance": []
  },
  "kernelspec": {
   "display_name": "Python 3 (ipykernel)",
   "language": "python",
   "name": "python3"
  },
  "language_info": {
   "codemirror_mode": {
    "name": "ipython",
    "version": 3
   },
   "file_extension": ".py",
   "mimetype": "text/x-python",
   "name": "python",
   "nbconvert_exporter": "python",
   "pygments_lexer": "ipython3",
   "version": "3.8.3"
  }
 },
 "nbformat": 4,
 "nbformat_minor": 1
}
